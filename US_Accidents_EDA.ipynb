{
  "cells": [
    {
      "cell_type": "markdown",
      "metadata": {
        "id": "view-in-github",
        "colab_type": "text"
      },
      "source": [
        "<a href=\"https://colab.research.google.com/github/Chaganti-Reddy/US-Accidents-EDA/blob/main/US_Accidents_EDA.ipynb\" target=\"_parent\"><img src=\"https://colab.research.google.com/assets/colab-badge.svg\" alt=\"Open In Colab\"/></a>"
      ]
    },
    {
      "cell_type": "code",
      "execution_count": 1,
      "id": "e00a3309",
      "metadata": {
        "colab": {
          "base_uri": "https://localhost:8080/"
        },
        "id": "e00a3309",
        "outputId": "a1ec78cf-cd6e-49fd-bb79-0fae9b29ab9c"
      },
      "outputs": [
        {
          "output_type": "stream",
          "name": "stdout",
          "text": [
            "\u001b[?25l\r\u001b[K     |████▊                           | 10 kB 8.2 MB/s eta 0:00:01\r\u001b[K     |█████████▌                      | 20 kB 12.7 MB/s eta 0:00:01\r\u001b[K     |██████████████▎                 | 30 kB 10.9 MB/s eta 0:00:01\r\u001b[K     |███████████████████             | 40 kB 9.4 MB/s eta 0:00:01\r\u001b[K     |███████████████████████▉        | 51 kB 4.7 MB/s eta 0:00:01\r\u001b[K     |████████████████████████████▋   | 61 kB 5.5 MB/s eta 0:00:01\r\u001b[K     |████████████████████████████████| 68 kB 3.2 MB/s \n",
            "\u001b[?25h  Building wheel for uuid (setup.py) ... \u001b[?25l\u001b[?25hdone\n"
          ]
        }
      ],
      "source": [
        "# Jovian Commit Essentials\n",
        "# Please retain and execute this cell without modifying the contents for `jovian.commit` to work\n",
        "!pip install jovian --upgrade -q\n",
        "import jovian\n",
        "jovian.set_project('us-accidents-eda')\n",
        "jovian.set_colab_id('1TzuBPqc9BzSEJeWaL-jhiqadtlVNB08H')"
      ]
    },
    {
      "cell_type": "markdown",
      "id": "64ca0df1",
      "metadata": {
        "id": "64ca0df1"
      },
      "source": [
        "# US Accidents Exploratory Data Analysis"
      ]
    },
    {
      "cell_type": "markdown",
      "id": "72392edd",
      "metadata": {
        "id": "72392edd"
      },
      "source": [
        "## Download the Dataset"
      ]
    },
    {
      "cell_type": "code",
      "source": [
        "pip install opendatasets --upgrade --quiet"
      ],
      "metadata": {
        "id": "fMkECkoTw5CT"
      },
      "id": "fMkECkoTw5CT",
      "execution_count": 2,
      "outputs": []
    },
    {
      "cell_type": "code",
      "source": [
        "import opendatasets as od\n",
        "\n",
        "download_url = 'https://www.kaggle.com/sobhanmoosavi/us-accidents'\n",
        "\n",
        "od.download(download_url)"
      ],
      "metadata": {
        "colab": {
          "base_uri": "https://localhost:8080/"
        },
        "id": "g963s4BJw7qi",
        "outputId": "1605731b-7581-4b8a-d95e-c7a777e8605e"
      },
      "id": "g963s4BJw7qi",
      "execution_count": 3,
      "outputs": [
        {
          "output_type": "stream",
          "name": "stdout",
          "text": [
            "Please provide your Kaggle credentials to download this dataset. Learn more: http://bit.ly/kaggle-creds\n",
            "Your Kaggle username: chagantiramireddy1\n",
            "Your Kaggle Key: ··········\n",
            "Downloading us-accidents.zip to ./us-accidents\n"
          ]
        },
        {
          "output_type": "stream",
          "name": "stderr",
          "text": [
            "100%|██████████| 269M/269M [00:01<00:00, 229MB/s]\n"
          ]
        },
        {
          "output_type": "stream",
          "name": "stdout",
          "text": [
            "\n"
          ]
        }
      ]
    },
    {
      "cell_type": "code",
      "execution_count": 4,
      "id": "ff764dd8",
      "metadata": {
        "id": "ff764dd8"
      },
      "outputs": [],
      "source": [
        "data_filename = './us-accidents/US_Accidents_Dec21_updated.csv'"
      ]
    },
    {
      "cell_type": "markdown",
      "id": "4cdf0a73",
      "metadata": {
        "id": "4cdf0a73"
      },
      "source": [
        "## Data Preparation and Cleaning"
      ]
    },
    {
      "cell_type": "code",
      "execution_count": 5,
      "id": "6da71c0d",
      "metadata": {
        "id": "6da71c0d"
      },
      "outputs": [],
      "source": [
        "# Imports\n",
        "\n",
        "import pandas as pd\n",
        "import numpy as np\n",
        "import matplotlib.pyplot as plt\n",
        "import seaborn as sns\n",
        "sns.set_style(\"darkgrid\")\n",
        "%pip install folium --quiet\n",
        "import folium\n",
        "from folium.plugins import HeatMap"
      ]
    },
    {
      "cell_type": "code",
      "execution_count": 6,
      "id": "f0b2fc8b",
      "metadata": {
        "colab": {
          "base_uri": "https://localhost:8080/",
          "height": 922
        },
        "id": "f0b2fc8b",
        "outputId": "87c95612-0765-4002-b8b8-64ab5e5f9a2c"
      },
      "outputs": [
        {
          "output_type": "execute_result",
          "data": {
            "text/plain": [
              "                ID  Severity           Start_Time             End_Time  \\\n",
              "0              A-1         3  2016-02-08 00:37:08  2016-02-08 06:37:08   \n",
              "1              A-2         2  2016-02-08 05:56:20  2016-02-08 11:56:20   \n",
              "2              A-3         2  2016-02-08 06:15:39  2016-02-08 12:15:39   \n",
              "3              A-4         2  2016-02-08 06:51:45  2016-02-08 12:51:45   \n",
              "4              A-5         3  2016-02-08 07:53:43  2016-02-08 13:53:43   \n",
              "...            ...       ...                  ...                  ...   \n",
              "2845337  A-2845338         2  2019-08-23 18:03:25  2019-08-23 18:32:01   \n",
              "2845338  A-2845339         2  2019-08-23 19:11:30  2019-08-23 19:38:23   \n",
              "2845339  A-2845340         2  2019-08-23 19:00:21  2019-08-23 19:28:49   \n",
              "2845340  A-2845341         2  2019-08-23 19:00:21  2019-08-23 19:29:42   \n",
              "2845341  A-2845342         2  2019-08-23 18:52:06  2019-08-23 19:21:31   \n",
              "\n",
              "         Start_Lat   Start_Lng    End_Lat     End_Lng  Distance(mi)  \\\n",
              "0        40.108910  -83.092860  40.112060  -83.031870         3.230   \n",
              "1        39.865420  -84.062800  39.865010  -84.048730         0.747   \n",
              "2        39.102660  -84.524680  39.102090  -84.523960         0.055   \n",
              "3        41.062130  -81.537840  41.062170  -81.535470         0.123   \n",
              "4        39.172393  -84.492792  39.170476  -84.501798         0.500   \n",
              "...            ...         ...        ...         ...           ...   \n",
              "2845337  34.002480 -117.379360  33.998880 -117.370940         0.543   \n",
              "2845338  32.766960 -117.148060  32.765550 -117.153630         0.338   \n",
              "2845339  33.775450 -117.847790  33.777400 -117.857270         0.561   \n",
              "2845340  33.992460 -118.403020  33.983110 -118.395650         0.772   \n",
              "2845341  34.133930 -117.230920  34.137360 -117.239340         0.537   \n",
              "\n",
              "                                               Description  ...  Roundabout  \\\n",
              "0        Between Sawmill Rd/Exit 20 and OH-315/Olentang...  ...       False   \n",
              "1                       At OH-4/OH-235/Exit 41 - Accident.  ...       False   \n",
              "2                         At I-71/US-50/Exit 1 - Accident.  ...       False   \n",
              "3                          At Dart Ave/Exit 21 - Accident.  ...       False   \n",
              "4                       At Mitchell Ave/Exit 6 - Accident.  ...       False   \n",
              "...                                                    ...  ...         ...   \n",
              "2845337                           At Market St - Accident.  ...       False   \n",
              "2845338    At Camino Del Rio/Mission Center Rd - Accident.  ...       False   \n",
              "2845339  At Glassell St/Grand Ave - Accident. in the ri...  ...       False   \n",
              "2845340     At CA-90/Marina Fwy/Jefferson Blvd - Accident.  ...       False   \n",
              "2845341              At Highland Ave/Arden Ave - Accident.  ...       False   \n",
              "\n",
              "        Station   Stop Traffic_Calming Traffic_Signal Turning_Loop  \\\n",
              "0         False  False           False          False        False   \n",
              "1         False  False           False          False        False   \n",
              "2         False  False           False          False        False   \n",
              "3         False  False           False          False        False   \n",
              "4         False  False           False          False        False   \n",
              "...         ...    ...             ...            ...          ...   \n",
              "2845337   False  False           False          False        False   \n",
              "2845338   False  False           False          False        False   \n",
              "2845339   False  False           False          False        False   \n",
              "2845340   False  False           False          False        False   \n",
              "2845341   False  False           False          False        False   \n",
              "\n",
              "        Sunrise_Sunset Civil_Twilight Nautical_Twilight Astronomical_Twilight  \n",
              "0                Night          Night             Night                 Night  \n",
              "1                Night          Night             Night                 Night  \n",
              "2                Night          Night             Night                   Day  \n",
              "3                Night          Night               Day                   Day  \n",
              "4                  Day            Day               Day                   Day  \n",
              "...                ...            ...               ...                   ...  \n",
              "2845337            Day            Day               Day                   Day  \n",
              "2845338            Day            Day               Day                   Day  \n",
              "2845339            Day            Day               Day                   Day  \n",
              "2845340            Day            Day               Day                   Day  \n",
              "2845341            Day            Day               Day                   Day  \n",
              "\n",
              "[2845342 rows x 47 columns]"
            ],
            "text/html": [
              "\n",
              "  <div id=\"df-78a2f2c5-0314-4ef9-b9c5-440a2c3b22ce\">\n",
              "    <div class=\"colab-df-container\">\n",
              "      <div>\n",
              "<style scoped>\n",
              "    .dataframe tbody tr th:only-of-type {\n",
              "        vertical-align: middle;\n",
              "    }\n",
              "\n",
              "    .dataframe tbody tr th {\n",
              "        vertical-align: top;\n",
              "    }\n",
              "\n",
              "    .dataframe thead th {\n",
              "        text-align: right;\n",
              "    }\n",
              "</style>\n",
              "<table border=\"1\" class=\"dataframe\">\n",
              "  <thead>\n",
              "    <tr style=\"text-align: right;\">\n",
              "      <th></th>\n",
              "      <th>ID</th>\n",
              "      <th>Severity</th>\n",
              "      <th>Start_Time</th>\n",
              "      <th>End_Time</th>\n",
              "      <th>Start_Lat</th>\n",
              "      <th>Start_Lng</th>\n",
              "      <th>End_Lat</th>\n",
              "      <th>End_Lng</th>\n",
              "      <th>Distance(mi)</th>\n",
              "      <th>Description</th>\n",
              "      <th>...</th>\n",
              "      <th>Roundabout</th>\n",
              "      <th>Station</th>\n",
              "      <th>Stop</th>\n",
              "      <th>Traffic_Calming</th>\n",
              "      <th>Traffic_Signal</th>\n",
              "      <th>Turning_Loop</th>\n",
              "      <th>Sunrise_Sunset</th>\n",
              "      <th>Civil_Twilight</th>\n",
              "      <th>Nautical_Twilight</th>\n",
              "      <th>Astronomical_Twilight</th>\n",
              "    </tr>\n",
              "  </thead>\n",
              "  <tbody>\n",
              "    <tr>\n",
              "      <th>0</th>\n",
              "      <td>A-1</td>\n",
              "      <td>3</td>\n",
              "      <td>2016-02-08 00:37:08</td>\n",
              "      <td>2016-02-08 06:37:08</td>\n",
              "      <td>40.108910</td>\n",
              "      <td>-83.092860</td>\n",
              "      <td>40.112060</td>\n",
              "      <td>-83.031870</td>\n",
              "      <td>3.230</td>\n",
              "      <td>Between Sawmill Rd/Exit 20 and OH-315/Olentang...</td>\n",
              "      <td>...</td>\n",
              "      <td>False</td>\n",
              "      <td>False</td>\n",
              "      <td>False</td>\n",
              "      <td>False</td>\n",
              "      <td>False</td>\n",
              "      <td>False</td>\n",
              "      <td>Night</td>\n",
              "      <td>Night</td>\n",
              "      <td>Night</td>\n",
              "      <td>Night</td>\n",
              "    </tr>\n",
              "    <tr>\n",
              "      <th>1</th>\n",
              "      <td>A-2</td>\n",
              "      <td>2</td>\n",
              "      <td>2016-02-08 05:56:20</td>\n",
              "      <td>2016-02-08 11:56:20</td>\n",
              "      <td>39.865420</td>\n",
              "      <td>-84.062800</td>\n",
              "      <td>39.865010</td>\n",
              "      <td>-84.048730</td>\n",
              "      <td>0.747</td>\n",
              "      <td>At OH-4/OH-235/Exit 41 - Accident.</td>\n",
              "      <td>...</td>\n",
              "      <td>False</td>\n",
              "      <td>False</td>\n",
              "      <td>False</td>\n",
              "      <td>False</td>\n",
              "      <td>False</td>\n",
              "      <td>False</td>\n",
              "      <td>Night</td>\n",
              "      <td>Night</td>\n",
              "      <td>Night</td>\n",
              "      <td>Night</td>\n",
              "    </tr>\n",
              "    <tr>\n",
              "      <th>2</th>\n",
              "      <td>A-3</td>\n",
              "      <td>2</td>\n",
              "      <td>2016-02-08 06:15:39</td>\n",
              "      <td>2016-02-08 12:15:39</td>\n",
              "      <td>39.102660</td>\n",
              "      <td>-84.524680</td>\n",
              "      <td>39.102090</td>\n",
              "      <td>-84.523960</td>\n",
              "      <td>0.055</td>\n",
              "      <td>At I-71/US-50/Exit 1 - Accident.</td>\n",
              "      <td>...</td>\n",
              "      <td>False</td>\n",
              "      <td>False</td>\n",
              "      <td>False</td>\n",
              "      <td>False</td>\n",
              "      <td>False</td>\n",
              "      <td>False</td>\n",
              "      <td>Night</td>\n",
              "      <td>Night</td>\n",
              "      <td>Night</td>\n",
              "      <td>Day</td>\n",
              "    </tr>\n",
              "    <tr>\n",
              "      <th>3</th>\n",
              "      <td>A-4</td>\n",
              "      <td>2</td>\n",
              "      <td>2016-02-08 06:51:45</td>\n",
              "      <td>2016-02-08 12:51:45</td>\n",
              "      <td>41.062130</td>\n",
              "      <td>-81.537840</td>\n",
              "      <td>41.062170</td>\n",
              "      <td>-81.535470</td>\n",
              "      <td>0.123</td>\n",
              "      <td>At Dart Ave/Exit 21 - Accident.</td>\n",
              "      <td>...</td>\n",
              "      <td>False</td>\n",
              "      <td>False</td>\n",
              "      <td>False</td>\n",
              "      <td>False</td>\n",
              "      <td>False</td>\n",
              "      <td>False</td>\n",
              "      <td>Night</td>\n",
              "      <td>Night</td>\n",
              "      <td>Day</td>\n",
              "      <td>Day</td>\n",
              "    </tr>\n",
              "    <tr>\n",
              "      <th>4</th>\n",
              "      <td>A-5</td>\n",
              "      <td>3</td>\n",
              "      <td>2016-02-08 07:53:43</td>\n",
              "      <td>2016-02-08 13:53:43</td>\n",
              "      <td>39.172393</td>\n",
              "      <td>-84.492792</td>\n",
              "      <td>39.170476</td>\n",
              "      <td>-84.501798</td>\n",
              "      <td>0.500</td>\n",
              "      <td>At Mitchell Ave/Exit 6 - Accident.</td>\n",
              "      <td>...</td>\n",
              "      <td>False</td>\n",
              "      <td>False</td>\n",
              "      <td>False</td>\n",
              "      <td>False</td>\n",
              "      <td>False</td>\n",
              "      <td>False</td>\n",
              "      <td>Day</td>\n",
              "      <td>Day</td>\n",
              "      <td>Day</td>\n",
              "      <td>Day</td>\n",
              "    </tr>\n",
              "    <tr>\n",
              "      <th>...</th>\n",
              "      <td>...</td>\n",
              "      <td>...</td>\n",
              "      <td>...</td>\n",
              "      <td>...</td>\n",
              "      <td>...</td>\n",
              "      <td>...</td>\n",
              "      <td>...</td>\n",
              "      <td>...</td>\n",
              "      <td>...</td>\n",
              "      <td>...</td>\n",
              "      <td>...</td>\n",
              "      <td>...</td>\n",
              "      <td>...</td>\n",
              "      <td>...</td>\n",
              "      <td>...</td>\n",
              "      <td>...</td>\n",
              "      <td>...</td>\n",
              "      <td>...</td>\n",
              "      <td>...</td>\n",
              "      <td>...</td>\n",
              "      <td>...</td>\n",
              "    </tr>\n",
              "    <tr>\n",
              "      <th>2845337</th>\n",
              "      <td>A-2845338</td>\n",
              "      <td>2</td>\n",
              "      <td>2019-08-23 18:03:25</td>\n",
              "      <td>2019-08-23 18:32:01</td>\n",
              "      <td>34.002480</td>\n",
              "      <td>-117.379360</td>\n",
              "      <td>33.998880</td>\n",
              "      <td>-117.370940</td>\n",
              "      <td>0.543</td>\n",
              "      <td>At Market St - Accident.</td>\n",
              "      <td>...</td>\n",
              "      <td>False</td>\n",
              "      <td>False</td>\n",
              "      <td>False</td>\n",
              "      <td>False</td>\n",
              "      <td>False</td>\n",
              "      <td>False</td>\n",
              "      <td>Day</td>\n",
              "      <td>Day</td>\n",
              "      <td>Day</td>\n",
              "      <td>Day</td>\n",
              "    </tr>\n",
              "    <tr>\n",
              "      <th>2845338</th>\n",
              "      <td>A-2845339</td>\n",
              "      <td>2</td>\n",
              "      <td>2019-08-23 19:11:30</td>\n",
              "      <td>2019-08-23 19:38:23</td>\n",
              "      <td>32.766960</td>\n",
              "      <td>-117.148060</td>\n",
              "      <td>32.765550</td>\n",
              "      <td>-117.153630</td>\n",
              "      <td>0.338</td>\n",
              "      <td>At Camino Del Rio/Mission Center Rd - Accident.</td>\n",
              "      <td>...</td>\n",
              "      <td>False</td>\n",
              "      <td>False</td>\n",
              "      <td>False</td>\n",
              "      <td>False</td>\n",
              "      <td>False</td>\n",
              "      <td>False</td>\n",
              "      <td>Day</td>\n",
              "      <td>Day</td>\n",
              "      <td>Day</td>\n",
              "      <td>Day</td>\n",
              "    </tr>\n",
              "    <tr>\n",
              "      <th>2845339</th>\n",
              "      <td>A-2845340</td>\n",
              "      <td>2</td>\n",
              "      <td>2019-08-23 19:00:21</td>\n",
              "      <td>2019-08-23 19:28:49</td>\n",
              "      <td>33.775450</td>\n",
              "      <td>-117.847790</td>\n",
              "      <td>33.777400</td>\n",
              "      <td>-117.857270</td>\n",
              "      <td>0.561</td>\n",
              "      <td>At Glassell St/Grand Ave - Accident. in the ri...</td>\n",
              "      <td>...</td>\n",
              "      <td>False</td>\n",
              "      <td>False</td>\n",
              "      <td>False</td>\n",
              "      <td>False</td>\n",
              "      <td>False</td>\n",
              "      <td>False</td>\n",
              "      <td>Day</td>\n",
              "      <td>Day</td>\n",
              "      <td>Day</td>\n",
              "      <td>Day</td>\n",
              "    </tr>\n",
              "    <tr>\n",
              "      <th>2845340</th>\n",
              "      <td>A-2845341</td>\n",
              "      <td>2</td>\n",
              "      <td>2019-08-23 19:00:21</td>\n",
              "      <td>2019-08-23 19:29:42</td>\n",
              "      <td>33.992460</td>\n",
              "      <td>-118.403020</td>\n",
              "      <td>33.983110</td>\n",
              "      <td>-118.395650</td>\n",
              "      <td>0.772</td>\n",
              "      <td>At CA-90/Marina Fwy/Jefferson Blvd - Accident.</td>\n",
              "      <td>...</td>\n",
              "      <td>False</td>\n",
              "      <td>False</td>\n",
              "      <td>False</td>\n",
              "      <td>False</td>\n",
              "      <td>False</td>\n",
              "      <td>False</td>\n",
              "      <td>Day</td>\n",
              "      <td>Day</td>\n",
              "      <td>Day</td>\n",
              "      <td>Day</td>\n",
              "    </tr>\n",
              "    <tr>\n",
              "      <th>2845341</th>\n",
              "      <td>A-2845342</td>\n",
              "      <td>2</td>\n",
              "      <td>2019-08-23 18:52:06</td>\n",
              "      <td>2019-08-23 19:21:31</td>\n",
              "      <td>34.133930</td>\n",
              "      <td>-117.230920</td>\n",
              "      <td>34.137360</td>\n",
              "      <td>-117.239340</td>\n",
              "      <td>0.537</td>\n",
              "      <td>At Highland Ave/Arden Ave - Accident.</td>\n",
              "      <td>...</td>\n",
              "      <td>False</td>\n",
              "      <td>False</td>\n",
              "      <td>False</td>\n",
              "      <td>False</td>\n",
              "      <td>False</td>\n",
              "      <td>False</td>\n",
              "      <td>Day</td>\n",
              "      <td>Day</td>\n",
              "      <td>Day</td>\n",
              "      <td>Day</td>\n",
              "    </tr>\n",
              "  </tbody>\n",
              "</table>\n",
              "<p>2845342 rows × 47 columns</p>\n",
              "</div>\n",
              "      <button class=\"colab-df-convert\" onclick=\"convertToInteractive('df-78a2f2c5-0314-4ef9-b9c5-440a2c3b22ce')\"\n",
              "              title=\"Convert this dataframe to an interactive table.\"\n",
              "              style=\"display:none;\">\n",
              "        \n",
              "  <svg xmlns=\"http://www.w3.org/2000/svg\" height=\"24px\"viewBox=\"0 0 24 24\"\n",
              "       width=\"24px\">\n",
              "    <path d=\"M0 0h24v24H0V0z\" fill=\"none\"/>\n",
              "    <path d=\"M18.56 5.44l.94 2.06.94-2.06 2.06-.94-2.06-.94-.94-2.06-.94 2.06-2.06.94zm-11 1L8.5 8.5l.94-2.06 2.06-.94-2.06-.94L8.5 2.5l-.94 2.06-2.06.94zm10 10l.94 2.06.94-2.06 2.06-.94-2.06-.94-.94-2.06-.94 2.06-2.06.94z\"/><path d=\"M17.41 7.96l-1.37-1.37c-.4-.4-.92-.59-1.43-.59-.52 0-1.04.2-1.43.59L10.3 9.45l-7.72 7.72c-.78.78-.78 2.05 0 2.83L4 21.41c.39.39.9.59 1.41.59.51 0 1.02-.2 1.41-.59l7.78-7.78 2.81-2.81c.8-.78.8-2.07 0-2.86zM5.41 20L4 18.59l7.72-7.72 1.47 1.35L5.41 20z\"/>\n",
              "  </svg>\n",
              "      </button>\n",
              "      \n",
              "  <style>\n",
              "    .colab-df-container {\n",
              "      display:flex;\n",
              "      flex-wrap:wrap;\n",
              "      gap: 12px;\n",
              "    }\n",
              "\n",
              "    .colab-df-convert {\n",
              "      background-color: #E8F0FE;\n",
              "      border: none;\n",
              "      border-radius: 50%;\n",
              "      cursor: pointer;\n",
              "      display: none;\n",
              "      fill: #1967D2;\n",
              "      height: 32px;\n",
              "      padding: 0 0 0 0;\n",
              "      width: 32px;\n",
              "    }\n",
              "\n",
              "    .colab-df-convert:hover {\n",
              "      background-color: #E2EBFA;\n",
              "      box-shadow: 0px 1px 2px rgba(60, 64, 67, 0.3), 0px 1px 3px 1px rgba(60, 64, 67, 0.15);\n",
              "      fill: #174EA6;\n",
              "    }\n",
              "\n",
              "    [theme=dark] .colab-df-convert {\n",
              "      background-color: #3B4455;\n",
              "      fill: #D2E3FC;\n",
              "    }\n",
              "\n",
              "    [theme=dark] .colab-df-convert:hover {\n",
              "      background-color: #434B5C;\n",
              "      box-shadow: 0px 1px 3px 1px rgba(0, 0, 0, 0.15);\n",
              "      filter: drop-shadow(0px 1px 2px rgba(0, 0, 0, 0.3));\n",
              "      fill: #FFFFFF;\n",
              "    }\n",
              "  </style>\n",
              "\n",
              "      <script>\n",
              "        const buttonEl =\n",
              "          document.querySelector('#df-78a2f2c5-0314-4ef9-b9c5-440a2c3b22ce button.colab-df-convert');\n",
              "        buttonEl.style.display =\n",
              "          google.colab.kernel.accessAllowed ? 'block' : 'none';\n",
              "\n",
              "        async function convertToInteractive(key) {\n",
              "          const element = document.querySelector('#df-78a2f2c5-0314-4ef9-b9c5-440a2c3b22ce');\n",
              "          const dataTable =\n",
              "            await google.colab.kernel.invokeFunction('convertToInteractive',\n",
              "                                                     [key], {});\n",
              "          if (!dataTable) return;\n",
              "\n",
              "          const docLinkHtml = 'Like what you see? Visit the ' +\n",
              "            '<a target=\"_blank\" href=https://colab.research.google.com/notebooks/data_table.ipynb>data table notebook</a>'\n",
              "            + ' to learn more about interactive tables.';\n",
              "          element.innerHTML = '';\n",
              "          dataTable['output_type'] = 'display_data';\n",
              "          await google.colab.output.renderOutput(dataTable, element);\n",
              "          const docLink = document.createElement('div');\n",
              "          docLink.innerHTML = docLinkHtml;\n",
              "          element.appendChild(docLink);\n",
              "        }\n",
              "      </script>\n",
              "    </div>\n",
              "  </div>\n",
              "  "
            ]
          },
          "metadata": {},
          "execution_count": 6
        }
      ],
      "source": [
        "df = pd.read_csv(data_filename)\n",
        "df"
      ]
    },
    {
      "cell_type": "code",
      "execution_count": 7,
      "id": "206345f5",
      "metadata": {
        "colab": {
          "base_uri": "https://localhost:8080/"
        },
        "id": "206345f5",
        "outputId": "71c1734e-0eba-4c35-c8dc-f44c5d2a9202"
      },
      "outputs": [
        {
          "output_type": "stream",
          "name": "stdout",
          "text": [
            "<class 'pandas.core.frame.DataFrame'>\n",
            "RangeIndex: 2845342 entries, 0 to 2845341\n",
            "Data columns (total 47 columns):\n",
            " #   Column                 Dtype  \n",
            "---  ------                 -----  \n",
            " 0   ID                     object \n",
            " 1   Severity               int64  \n",
            " 2   Start_Time             object \n",
            " 3   End_Time               object \n",
            " 4   Start_Lat              float64\n",
            " 5   Start_Lng              float64\n",
            " 6   End_Lat                float64\n",
            " 7   End_Lng                float64\n",
            " 8   Distance(mi)           float64\n",
            " 9   Description            object \n",
            " 10  Number                 float64\n",
            " 11  Street                 object \n",
            " 12  Side                   object \n",
            " 13  City                   object \n",
            " 14  County                 object \n",
            " 15  State                  object \n",
            " 16  Zipcode                object \n",
            " 17  Country                object \n",
            " 18  Timezone               object \n",
            " 19  Airport_Code           object \n",
            " 20  Weather_Timestamp      object \n",
            " 21  Temperature(F)         float64\n",
            " 22  Wind_Chill(F)          float64\n",
            " 23  Humidity(%)            float64\n",
            " 24  Pressure(in)           float64\n",
            " 25  Visibility(mi)         float64\n",
            " 26  Wind_Direction         object \n",
            " 27  Wind_Speed(mph)        float64\n",
            " 28  Precipitation(in)      float64\n",
            " 29  Weather_Condition      object \n",
            " 30  Amenity                bool   \n",
            " 31  Bump                   bool   \n",
            " 32  Crossing               bool   \n",
            " 33  Give_Way               bool   \n",
            " 34  Junction               bool   \n",
            " 35  No_Exit                bool   \n",
            " 36  Railway                bool   \n",
            " 37  Roundabout             bool   \n",
            " 38  Station                bool   \n",
            " 39  Stop                   bool   \n",
            " 40  Traffic_Calming        bool   \n",
            " 41  Traffic_Signal         bool   \n",
            " 42  Turning_Loop           bool   \n",
            " 43  Sunrise_Sunset         object \n",
            " 44  Civil_Twilight         object \n",
            " 45  Nautical_Twilight      object \n",
            " 46  Astronomical_Twilight  object \n",
            "dtypes: bool(13), float64(13), int64(1), object(20)\n",
            "memory usage: 773.4+ MB\n"
          ]
        }
      ],
      "source": [
        "df.info()"
      ]
    },
    {
      "cell_type": "code",
      "execution_count": 8,
      "id": "84ba6236",
      "metadata": {
        "colab": {
          "base_uri": "https://localhost:8080/",
          "height": 300
        },
        "id": "84ba6236",
        "outputId": "94d8a7aa-8b6c-4a87-91c5-8fb096959ff9"
      },
      "outputs": [
        {
          "output_type": "execute_result",
          "data": {
            "text/plain": [
              "           Severity     Start_Lat     Start_Lng       End_Lat       End_Lng  \\\n",
              "count  2.845342e+06  2.845342e+06  2.845342e+06  2.845342e+06  2.845342e+06   \n",
              "mean   2.137572e+00  3.624520e+01 -9.711463e+01  3.624532e+01 -9.711439e+01   \n",
              "std    4.787216e-01  5.363797e+00  1.831782e+01  5.363873e+00  1.831763e+01   \n",
              "min    1.000000e+00  2.456603e+01 -1.245481e+02  2.456601e+01 -1.245457e+02   \n",
              "25%    2.000000e+00  3.344517e+01 -1.180331e+02  3.344628e+01 -1.180333e+02   \n",
              "50%    2.000000e+00  3.609861e+01 -9.241808e+01  3.609799e+01 -9.241772e+01   \n",
              "75%    2.000000e+00  4.016024e+01 -8.037243e+01  4.016105e+01 -8.037338e+01   \n",
              "max    4.000000e+00  4.900058e+01 -6.711317e+01  4.907500e+01 -6.710924e+01   \n",
              "\n",
              "       Distance(mi)        Number  Temperature(F)  Wind_Chill(F)  \\\n",
              "count  2.845342e+06  1.101431e+06    2.776068e+06   2.375699e+06   \n",
              "mean   7.026779e-01  8.089408e+03    6.179356e+01   5.965823e+01   \n",
              "std    1.560361e+00  1.836009e+04    1.862263e+01   2.116097e+01   \n",
              "min    0.000000e+00  0.000000e+00   -8.900000e+01  -8.900000e+01   \n",
              "25%    5.200000e-02  1.270000e+03    5.000000e+01   4.600000e+01   \n",
              "50%    2.440000e-01  4.007000e+03    6.400000e+01   6.300000e+01   \n",
              "75%    7.640000e-01  9.567000e+03    7.600000e+01   7.600000e+01   \n",
              "max    1.551860e+02  9.999997e+06    1.960000e+02   1.960000e+02   \n",
              "\n",
              "        Humidity(%)  Pressure(in)  Visibility(mi)  Wind_Speed(mph)  \\\n",
              "count  2.772250e+06  2.786142e+06    2.774796e+06     2.687398e+06   \n",
              "mean   6.436545e+01  2.947234e+01    9.099391e+00     7.395044e+00   \n",
              "std    2.287457e+01  1.045286e+00    2.717546e+00     5.527454e+00   \n",
              "min    1.000000e+00  0.000000e+00    0.000000e+00     0.000000e+00   \n",
              "25%    4.800000e+01  2.931000e+01    1.000000e+01     3.500000e+00   \n",
              "50%    6.700000e+01  2.982000e+01    1.000000e+01     7.000000e+00   \n",
              "75%    8.300000e+01  3.001000e+01    1.000000e+01     1.000000e+01   \n",
              "max    1.000000e+02  5.890000e+01    1.400000e+02     1.087000e+03   \n",
              "\n",
              "       Precipitation(in)  \n",
              "count       2.295884e+06  \n",
              "mean        7.016940e-03  \n",
              "std         9.348831e-02  \n",
              "min         0.000000e+00  \n",
              "25%         0.000000e+00  \n",
              "50%         0.000000e+00  \n",
              "75%         0.000000e+00  \n",
              "max         2.400000e+01  "
            ],
            "text/html": [
              "\n",
              "  <div id=\"df-1864d020-00f1-4771-97d6-eb885a538e3c\">\n",
              "    <div class=\"colab-df-container\">\n",
              "      <div>\n",
              "<style scoped>\n",
              "    .dataframe tbody tr th:only-of-type {\n",
              "        vertical-align: middle;\n",
              "    }\n",
              "\n",
              "    .dataframe tbody tr th {\n",
              "        vertical-align: top;\n",
              "    }\n",
              "\n",
              "    .dataframe thead th {\n",
              "        text-align: right;\n",
              "    }\n",
              "</style>\n",
              "<table border=\"1\" class=\"dataframe\">\n",
              "  <thead>\n",
              "    <tr style=\"text-align: right;\">\n",
              "      <th></th>\n",
              "      <th>Severity</th>\n",
              "      <th>Start_Lat</th>\n",
              "      <th>Start_Lng</th>\n",
              "      <th>End_Lat</th>\n",
              "      <th>End_Lng</th>\n",
              "      <th>Distance(mi)</th>\n",
              "      <th>Number</th>\n",
              "      <th>Temperature(F)</th>\n",
              "      <th>Wind_Chill(F)</th>\n",
              "      <th>Humidity(%)</th>\n",
              "      <th>Pressure(in)</th>\n",
              "      <th>Visibility(mi)</th>\n",
              "      <th>Wind_Speed(mph)</th>\n",
              "      <th>Precipitation(in)</th>\n",
              "    </tr>\n",
              "  </thead>\n",
              "  <tbody>\n",
              "    <tr>\n",
              "      <th>count</th>\n",
              "      <td>2.845342e+06</td>\n",
              "      <td>2.845342e+06</td>\n",
              "      <td>2.845342e+06</td>\n",
              "      <td>2.845342e+06</td>\n",
              "      <td>2.845342e+06</td>\n",
              "      <td>2.845342e+06</td>\n",
              "      <td>1.101431e+06</td>\n",
              "      <td>2.776068e+06</td>\n",
              "      <td>2.375699e+06</td>\n",
              "      <td>2.772250e+06</td>\n",
              "      <td>2.786142e+06</td>\n",
              "      <td>2.774796e+06</td>\n",
              "      <td>2.687398e+06</td>\n",
              "      <td>2.295884e+06</td>\n",
              "    </tr>\n",
              "    <tr>\n",
              "      <th>mean</th>\n",
              "      <td>2.137572e+00</td>\n",
              "      <td>3.624520e+01</td>\n",
              "      <td>-9.711463e+01</td>\n",
              "      <td>3.624532e+01</td>\n",
              "      <td>-9.711439e+01</td>\n",
              "      <td>7.026779e-01</td>\n",
              "      <td>8.089408e+03</td>\n",
              "      <td>6.179356e+01</td>\n",
              "      <td>5.965823e+01</td>\n",
              "      <td>6.436545e+01</td>\n",
              "      <td>2.947234e+01</td>\n",
              "      <td>9.099391e+00</td>\n",
              "      <td>7.395044e+00</td>\n",
              "      <td>7.016940e-03</td>\n",
              "    </tr>\n",
              "    <tr>\n",
              "      <th>std</th>\n",
              "      <td>4.787216e-01</td>\n",
              "      <td>5.363797e+00</td>\n",
              "      <td>1.831782e+01</td>\n",
              "      <td>5.363873e+00</td>\n",
              "      <td>1.831763e+01</td>\n",
              "      <td>1.560361e+00</td>\n",
              "      <td>1.836009e+04</td>\n",
              "      <td>1.862263e+01</td>\n",
              "      <td>2.116097e+01</td>\n",
              "      <td>2.287457e+01</td>\n",
              "      <td>1.045286e+00</td>\n",
              "      <td>2.717546e+00</td>\n",
              "      <td>5.527454e+00</td>\n",
              "      <td>9.348831e-02</td>\n",
              "    </tr>\n",
              "    <tr>\n",
              "      <th>min</th>\n",
              "      <td>1.000000e+00</td>\n",
              "      <td>2.456603e+01</td>\n",
              "      <td>-1.245481e+02</td>\n",
              "      <td>2.456601e+01</td>\n",
              "      <td>-1.245457e+02</td>\n",
              "      <td>0.000000e+00</td>\n",
              "      <td>0.000000e+00</td>\n",
              "      <td>-8.900000e+01</td>\n",
              "      <td>-8.900000e+01</td>\n",
              "      <td>1.000000e+00</td>\n",
              "      <td>0.000000e+00</td>\n",
              "      <td>0.000000e+00</td>\n",
              "      <td>0.000000e+00</td>\n",
              "      <td>0.000000e+00</td>\n",
              "    </tr>\n",
              "    <tr>\n",
              "      <th>25%</th>\n",
              "      <td>2.000000e+00</td>\n",
              "      <td>3.344517e+01</td>\n",
              "      <td>-1.180331e+02</td>\n",
              "      <td>3.344628e+01</td>\n",
              "      <td>-1.180333e+02</td>\n",
              "      <td>5.200000e-02</td>\n",
              "      <td>1.270000e+03</td>\n",
              "      <td>5.000000e+01</td>\n",
              "      <td>4.600000e+01</td>\n",
              "      <td>4.800000e+01</td>\n",
              "      <td>2.931000e+01</td>\n",
              "      <td>1.000000e+01</td>\n",
              "      <td>3.500000e+00</td>\n",
              "      <td>0.000000e+00</td>\n",
              "    </tr>\n",
              "    <tr>\n",
              "      <th>50%</th>\n",
              "      <td>2.000000e+00</td>\n",
              "      <td>3.609861e+01</td>\n",
              "      <td>-9.241808e+01</td>\n",
              "      <td>3.609799e+01</td>\n",
              "      <td>-9.241772e+01</td>\n",
              "      <td>2.440000e-01</td>\n",
              "      <td>4.007000e+03</td>\n",
              "      <td>6.400000e+01</td>\n",
              "      <td>6.300000e+01</td>\n",
              "      <td>6.700000e+01</td>\n",
              "      <td>2.982000e+01</td>\n",
              "      <td>1.000000e+01</td>\n",
              "      <td>7.000000e+00</td>\n",
              "      <td>0.000000e+00</td>\n",
              "    </tr>\n",
              "    <tr>\n",
              "      <th>75%</th>\n",
              "      <td>2.000000e+00</td>\n",
              "      <td>4.016024e+01</td>\n",
              "      <td>-8.037243e+01</td>\n",
              "      <td>4.016105e+01</td>\n",
              "      <td>-8.037338e+01</td>\n",
              "      <td>7.640000e-01</td>\n",
              "      <td>9.567000e+03</td>\n",
              "      <td>7.600000e+01</td>\n",
              "      <td>7.600000e+01</td>\n",
              "      <td>8.300000e+01</td>\n",
              "      <td>3.001000e+01</td>\n",
              "      <td>1.000000e+01</td>\n",
              "      <td>1.000000e+01</td>\n",
              "      <td>0.000000e+00</td>\n",
              "    </tr>\n",
              "    <tr>\n",
              "      <th>max</th>\n",
              "      <td>4.000000e+00</td>\n",
              "      <td>4.900058e+01</td>\n",
              "      <td>-6.711317e+01</td>\n",
              "      <td>4.907500e+01</td>\n",
              "      <td>-6.710924e+01</td>\n",
              "      <td>1.551860e+02</td>\n",
              "      <td>9.999997e+06</td>\n",
              "      <td>1.960000e+02</td>\n",
              "      <td>1.960000e+02</td>\n",
              "      <td>1.000000e+02</td>\n",
              "      <td>5.890000e+01</td>\n",
              "      <td>1.400000e+02</td>\n",
              "      <td>1.087000e+03</td>\n",
              "      <td>2.400000e+01</td>\n",
              "    </tr>\n",
              "  </tbody>\n",
              "</table>\n",
              "</div>\n",
              "      <button class=\"colab-df-convert\" onclick=\"convertToInteractive('df-1864d020-00f1-4771-97d6-eb885a538e3c')\"\n",
              "              title=\"Convert this dataframe to an interactive table.\"\n",
              "              style=\"display:none;\">\n",
              "        \n",
              "  <svg xmlns=\"http://www.w3.org/2000/svg\" height=\"24px\"viewBox=\"0 0 24 24\"\n",
              "       width=\"24px\">\n",
              "    <path d=\"M0 0h24v24H0V0z\" fill=\"none\"/>\n",
              "    <path d=\"M18.56 5.44l.94 2.06.94-2.06 2.06-.94-2.06-.94-.94-2.06-.94 2.06-2.06.94zm-11 1L8.5 8.5l.94-2.06 2.06-.94-2.06-.94L8.5 2.5l-.94 2.06-2.06.94zm10 10l.94 2.06.94-2.06 2.06-.94-2.06-.94-.94-2.06-.94 2.06-2.06.94z\"/><path d=\"M17.41 7.96l-1.37-1.37c-.4-.4-.92-.59-1.43-.59-.52 0-1.04.2-1.43.59L10.3 9.45l-7.72 7.72c-.78.78-.78 2.05 0 2.83L4 21.41c.39.39.9.59 1.41.59.51 0 1.02-.2 1.41-.59l7.78-7.78 2.81-2.81c.8-.78.8-2.07 0-2.86zM5.41 20L4 18.59l7.72-7.72 1.47 1.35L5.41 20z\"/>\n",
              "  </svg>\n",
              "      </button>\n",
              "      \n",
              "  <style>\n",
              "    .colab-df-container {\n",
              "      display:flex;\n",
              "      flex-wrap:wrap;\n",
              "      gap: 12px;\n",
              "    }\n",
              "\n",
              "    .colab-df-convert {\n",
              "      background-color: #E8F0FE;\n",
              "      border: none;\n",
              "      border-radius: 50%;\n",
              "      cursor: pointer;\n",
              "      display: none;\n",
              "      fill: #1967D2;\n",
              "      height: 32px;\n",
              "      padding: 0 0 0 0;\n",
              "      width: 32px;\n",
              "    }\n",
              "\n",
              "    .colab-df-convert:hover {\n",
              "      background-color: #E2EBFA;\n",
              "      box-shadow: 0px 1px 2px rgba(60, 64, 67, 0.3), 0px 1px 3px 1px rgba(60, 64, 67, 0.15);\n",
              "      fill: #174EA6;\n",
              "    }\n",
              "\n",
              "    [theme=dark] .colab-df-convert {\n",
              "      background-color: #3B4455;\n",
              "      fill: #D2E3FC;\n",
              "    }\n",
              "\n",
              "    [theme=dark] .colab-df-convert:hover {\n",
              "      background-color: #434B5C;\n",
              "      box-shadow: 0px 1px 3px 1px rgba(0, 0, 0, 0.15);\n",
              "      filter: drop-shadow(0px 1px 2px rgba(0, 0, 0, 0.3));\n",
              "      fill: #FFFFFF;\n",
              "    }\n",
              "  </style>\n",
              "\n",
              "      <script>\n",
              "        const buttonEl =\n",
              "          document.querySelector('#df-1864d020-00f1-4771-97d6-eb885a538e3c button.colab-df-convert');\n",
              "        buttonEl.style.display =\n",
              "          google.colab.kernel.accessAllowed ? 'block' : 'none';\n",
              "\n",
              "        async function convertToInteractive(key) {\n",
              "          const element = document.querySelector('#df-1864d020-00f1-4771-97d6-eb885a538e3c');\n",
              "          const dataTable =\n",
              "            await google.colab.kernel.invokeFunction('convertToInteractive',\n",
              "                                                     [key], {});\n",
              "          if (!dataTable) return;\n",
              "\n",
              "          const docLinkHtml = 'Like what you see? Visit the ' +\n",
              "            '<a target=\"_blank\" href=https://colab.research.google.com/notebooks/data_table.ipynb>data table notebook</a>'\n",
              "            + ' to learn more about interactive tables.';\n",
              "          element.innerHTML = '';\n",
              "          dataTable['output_type'] = 'display_data';\n",
              "          await google.colab.output.renderOutput(dataTable, element);\n",
              "          const docLink = document.createElement('div');\n",
              "          docLink.innerHTML = docLinkHtml;\n",
              "          element.appendChild(docLink);\n",
              "        }\n",
              "      </script>\n",
              "    </div>\n",
              "  </div>\n",
              "  "
            ]
          },
          "metadata": {},
          "execution_count": 8
        }
      ],
      "source": [
        "df.describe()"
      ]
    },
    {
      "cell_type": "code",
      "execution_count": 9,
      "id": "c5eac997",
      "metadata": {
        "colab": {
          "base_uri": "https://localhost:8080/"
        },
        "id": "c5eac997",
        "outputId": "2cdf74dc-a459-455d-e572-7875065b1e41"
      },
      "outputs": [
        {
          "output_type": "execute_result",
          "data": {
            "text/plain": [
              "14"
            ]
          },
          "metadata": {},
          "execution_count": 9
        }
      ],
      "source": [
        "numerics = ['int16', 'int32', 'int64', 'float16', 'float32', 'float64']\n",
        "\n",
        "numeric_df = df.select_dtypes(include=numerics)\n",
        "len(numeric_df.columns)"
      ]
    },
    {
      "cell_type": "code",
      "execution_count": 10,
      "id": "f9c02ed8",
      "metadata": {
        "colab": {
          "base_uri": "https://localhost:8080/",
          "height": 206
        },
        "id": "f9c02ed8",
        "outputId": "eb410b29-c910-4446-bc5e-6145cbc18e82"
      },
      "outputs": [
        {
          "output_type": "execute_result",
          "data": {
            "text/plain": [
              "   Severity  Start_Lat  Start_Lng    End_Lat    End_Lng  Distance(mi)  Number  \\\n",
              "0         3  40.108910 -83.092860  40.112060 -83.031870         3.230     NaN   \n",
              "1         2  39.865420 -84.062800  39.865010 -84.048730         0.747     NaN   \n",
              "2         2  39.102660 -84.524680  39.102090 -84.523960         0.055     NaN   \n",
              "3         2  41.062130 -81.537840  41.062170 -81.535470         0.123     NaN   \n",
              "4         3  39.172393 -84.492792  39.170476 -84.501798         0.500     NaN   \n",
              "\n",
              "   Temperature(F)  Wind_Chill(F)  Humidity(%)  Pressure(in)  Visibility(mi)  \\\n",
              "0            42.1           36.1         58.0         29.76            10.0   \n",
              "1            36.9            NaN         91.0         29.68            10.0   \n",
              "2            36.0            NaN         97.0         29.70            10.0   \n",
              "3            39.0            NaN         55.0         29.65            10.0   \n",
              "4            37.0           29.8         93.0         29.69            10.0   \n",
              "\n",
              "   Wind_Speed(mph)  Precipitation(in)  \n",
              "0             10.4               0.00  \n",
              "1              NaN               0.02  \n",
              "2              NaN               0.02  \n",
              "3              NaN                NaN  \n",
              "4             10.4               0.01  "
            ],
            "text/html": [
              "\n",
              "  <div id=\"df-67aad261-f342-47dd-969a-03e431595734\">\n",
              "    <div class=\"colab-df-container\">\n",
              "      <div>\n",
              "<style scoped>\n",
              "    .dataframe tbody tr th:only-of-type {\n",
              "        vertical-align: middle;\n",
              "    }\n",
              "\n",
              "    .dataframe tbody tr th {\n",
              "        vertical-align: top;\n",
              "    }\n",
              "\n",
              "    .dataframe thead th {\n",
              "        text-align: right;\n",
              "    }\n",
              "</style>\n",
              "<table border=\"1\" class=\"dataframe\">\n",
              "  <thead>\n",
              "    <tr style=\"text-align: right;\">\n",
              "      <th></th>\n",
              "      <th>Severity</th>\n",
              "      <th>Start_Lat</th>\n",
              "      <th>Start_Lng</th>\n",
              "      <th>End_Lat</th>\n",
              "      <th>End_Lng</th>\n",
              "      <th>Distance(mi)</th>\n",
              "      <th>Number</th>\n",
              "      <th>Temperature(F)</th>\n",
              "      <th>Wind_Chill(F)</th>\n",
              "      <th>Humidity(%)</th>\n",
              "      <th>Pressure(in)</th>\n",
              "      <th>Visibility(mi)</th>\n",
              "      <th>Wind_Speed(mph)</th>\n",
              "      <th>Precipitation(in)</th>\n",
              "    </tr>\n",
              "  </thead>\n",
              "  <tbody>\n",
              "    <tr>\n",
              "      <th>0</th>\n",
              "      <td>3</td>\n",
              "      <td>40.108910</td>\n",
              "      <td>-83.092860</td>\n",
              "      <td>40.112060</td>\n",
              "      <td>-83.031870</td>\n",
              "      <td>3.230</td>\n",
              "      <td>NaN</td>\n",
              "      <td>42.1</td>\n",
              "      <td>36.1</td>\n",
              "      <td>58.0</td>\n",
              "      <td>29.76</td>\n",
              "      <td>10.0</td>\n",
              "      <td>10.4</td>\n",
              "      <td>0.00</td>\n",
              "    </tr>\n",
              "    <tr>\n",
              "      <th>1</th>\n",
              "      <td>2</td>\n",
              "      <td>39.865420</td>\n",
              "      <td>-84.062800</td>\n",
              "      <td>39.865010</td>\n",
              "      <td>-84.048730</td>\n",
              "      <td>0.747</td>\n",
              "      <td>NaN</td>\n",
              "      <td>36.9</td>\n",
              "      <td>NaN</td>\n",
              "      <td>91.0</td>\n",
              "      <td>29.68</td>\n",
              "      <td>10.0</td>\n",
              "      <td>NaN</td>\n",
              "      <td>0.02</td>\n",
              "    </tr>\n",
              "    <tr>\n",
              "      <th>2</th>\n",
              "      <td>2</td>\n",
              "      <td>39.102660</td>\n",
              "      <td>-84.524680</td>\n",
              "      <td>39.102090</td>\n",
              "      <td>-84.523960</td>\n",
              "      <td>0.055</td>\n",
              "      <td>NaN</td>\n",
              "      <td>36.0</td>\n",
              "      <td>NaN</td>\n",
              "      <td>97.0</td>\n",
              "      <td>29.70</td>\n",
              "      <td>10.0</td>\n",
              "      <td>NaN</td>\n",
              "      <td>0.02</td>\n",
              "    </tr>\n",
              "    <tr>\n",
              "      <th>3</th>\n",
              "      <td>2</td>\n",
              "      <td>41.062130</td>\n",
              "      <td>-81.537840</td>\n",
              "      <td>41.062170</td>\n",
              "      <td>-81.535470</td>\n",
              "      <td>0.123</td>\n",
              "      <td>NaN</td>\n",
              "      <td>39.0</td>\n",
              "      <td>NaN</td>\n",
              "      <td>55.0</td>\n",
              "      <td>29.65</td>\n",
              "      <td>10.0</td>\n",
              "      <td>NaN</td>\n",
              "      <td>NaN</td>\n",
              "    </tr>\n",
              "    <tr>\n",
              "      <th>4</th>\n",
              "      <td>3</td>\n",
              "      <td>39.172393</td>\n",
              "      <td>-84.492792</td>\n",
              "      <td>39.170476</td>\n",
              "      <td>-84.501798</td>\n",
              "      <td>0.500</td>\n",
              "      <td>NaN</td>\n",
              "      <td>37.0</td>\n",
              "      <td>29.8</td>\n",
              "      <td>93.0</td>\n",
              "      <td>29.69</td>\n",
              "      <td>10.0</td>\n",
              "      <td>10.4</td>\n",
              "      <td>0.01</td>\n",
              "    </tr>\n",
              "  </tbody>\n",
              "</table>\n",
              "</div>\n",
              "      <button class=\"colab-df-convert\" onclick=\"convertToInteractive('df-67aad261-f342-47dd-969a-03e431595734')\"\n",
              "              title=\"Convert this dataframe to an interactive table.\"\n",
              "              style=\"display:none;\">\n",
              "        \n",
              "  <svg xmlns=\"http://www.w3.org/2000/svg\" height=\"24px\"viewBox=\"0 0 24 24\"\n",
              "       width=\"24px\">\n",
              "    <path d=\"M0 0h24v24H0V0z\" fill=\"none\"/>\n",
              "    <path d=\"M18.56 5.44l.94 2.06.94-2.06 2.06-.94-2.06-.94-.94-2.06-.94 2.06-2.06.94zm-11 1L8.5 8.5l.94-2.06 2.06-.94-2.06-.94L8.5 2.5l-.94 2.06-2.06.94zm10 10l.94 2.06.94-2.06 2.06-.94-2.06-.94-.94-2.06-.94 2.06-2.06.94z\"/><path d=\"M17.41 7.96l-1.37-1.37c-.4-.4-.92-.59-1.43-.59-.52 0-1.04.2-1.43.59L10.3 9.45l-7.72 7.72c-.78.78-.78 2.05 0 2.83L4 21.41c.39.39.9.59 1.41.59.51 0 1.02-.2 1.41-.59l7.78-7.78 2.81-2.81c.8-.78.8-2.07 0-2.86zM5.41 20L4 18.59l7.72-7.72 1.47 1.35L5.41 20z\"/>\n",
              "  </svg>\n",
              "      </button>\n",
              "      \n",
              "  <style>\n",
              "    .colab-df-container {\n",
              "      display:flex;\n",
              "      flex-wrap:wrap;\n",
              "      gap: 12px;\n",
              "    }\n",
              "\n",
              "    .colab-df-convert {\n",
              "      background-color: #E8F0FE;\n",
              "      border: none;\n",
              "      border-radius: 50%;\n",
              "      cursor: pointer;\n",
              "      display: none;\n",
              "      fill: #1967D2;\n",
              "      height: 32px;\n",
              "      padding: 0 0 0 0;\n",
              "      width: 32px;\n",
              "    }\n",
              "\n",
              "    .colab-df-convert:hover {\n",
              "      background-color: #E2EBFA;\n",
              "      box-shadow: 0px 1px 2px rgba(60, 64, 67, 0.3), 0px 1px 3px 1px rgba(60, 64, 67, 0.15);\n",
              "      fill: #174EA6;\n",
              "    }\n",
              "\n",
              "    [theme=dark] .colab-df-convert {\n",
              "      background-color: #3B4455;\n",
              "      fill: #D2E3FC;\n",
              "    }\n",
              "\n",
              "    [theme=dark] .colab-df-convert:hover {\n",
              "      background-color: #434B5C;\n",
              "      box-shadow: 0px 1px 3px 1px rgba(0, 0, 0, 0.15);\n",
              "      filter: drop-shadow(0px 1px 2px rgba(0, 0, 0, 0.3));\n",
              "      fill: #FFFFFF;\n",
              "    }\n",
              "  </style>\n",
              "\n",
              "      <script>\n",
              "        const buttonEl =\n",
              "          document.querySelector('#df-67aad261-f342-47dd-969a-03e431595734 button.colab-df-convert');\n",
              "        buttonEl.style.display =\n",
              "          google.colab.kernel.accessAllowed ? 'block' : 'none';\n",
              "\n",
              "        async function convertToInteractive(key) {\n",
              "          const element = document.querySelector('#df-67aad261-f342-47dd-969a-03e431595734');\n",
              "          const dataTable =\n",
              "            await google.colab.kernel.invokeFunction('convertToInteractive',\n",
              "                                                     [key], {});\n",
              "          if (!dataTable) return;\n",
              "\n",
              "          const docLinkHtml = 'Like what you see? Visit the ' +\n",
              "            '<a target=\"_blank\" href=https://colab.research.google.com/notebooks/data_table.ipynb>data table notebook</a>'\n",
              "            + ' to learn more about interactive tables.';\n",
              "          element.innerHTML = '';\n",
              "          dataTable['output_type'] = 'display_data';\n",
              "          await google.colab.output.renderOutput(dataTable, element);\n",
              "          const docLink = document.createElement('div');\n",
              "          docLink.innerHTML = docLinkHtml;\n",
              "          element.appendChild(docLink);\n",
              "        }\n",
              "      </script>\n",
              "    </div>\n",
              "  </div>\n",
              "  "
            ]
          },
          "metadata": {},
          "execution_count": 10
        }
      ],
      "source": [
        "numeric_df.head()"
      ]
    },
    {
      "cell_type": "markdown",
      "id": "tYU8WU2lV-AM",
      "metadata": {
        "id": "tYU8WU2lV-AM"
      },
      "source": [
        "### Percentage of missing values per column"
      ]
    },
    {
      "cell_type": "code",
      "execution_count": 11,
      "id": "hBDTk5d_UN4Z",
      "metadata": {
        "colab": {
          "base_uri": "https://localhost:8080/"
        },
        "id": "hBDTk5d_UN4Z",
        "outputId": "640451fb-d0c1-42ea-ac6d-60aeffb44b9b"
      },
      "outputs": [
        {
          "output_type": "execute_result",
          "data": {
            "text/plain": [
              "Number                   6.129003e-01\n",
              "Precipitation(in)        1.931079e-01\n",
              "Wind_Chill(F)            1.650568e-01\n",
              "Wind_Speed(mph)          5.550967e-02\n",
              "Wind_Direction           2.592834e-02\n",
              "Humidity(%)              2.568830e-02\n",
              "Weather_Condition        2.482514e-02\n",
              "Visibility(mi)           2.479350e-02\n",
              "Temperature(F)           2.434646e-02\n",
              "Pressure(in)             2.080593e-02\n",
              "Weather_Timestamp        1.783125e-02\n",
              "Airport_Code             3.356011e-03\n",
              "Timezone                 1.285961e-03\n",
              "Nautical_Twilight        1.007612e-03\n",
              "Civil_Twilight           1.007612e-03\n",
              "Sunrise_Sunset           1.007612e-03\n",
              "Astronomical_Twilight    1.007612e-03\n",
              "Zipcode                  4.635647e-04\n",
              "City                     4.814887e-05\n",
              "Street                   7.029032e-07\n",
              "Country                  0.000000e+00\n",
              "Junction                 0.000000e+00\n",
              "Start_Time               0.000000e+00\n",
              "End_Time                 0.000000e+00\n",
              "Start_Lat                0.000000e+00\n",
              "Turning_Loop             0.000000e+00\n",
              "Traffic_Signal           0.000000e+00\n",
              "Traffic_Calming          0.000000e+00\n",
              "Stop                     0.000000e+00\n",
              "Station                  0.000000e+00\n",
              "Roundabout               0.000000e+00\n",
              "Railway                  0.000000e+00\n",
              "No_Exit                  0.000000e+00\n",
              "Crossing                 0.000000e+00\n",
              "Give_Way                 0.000000e+00\n",
              "Bump                     0.000000e+00\n",
              "Amenity                  0.000000e+00\n",
              "Start_Lng                0.000000e+00\n",
              "End_Lat                  0.000000e+00\n",
              "End_Lng                  0.000000e+00\n",
              "Distance(mi)             0.000000e+00\n",
              "Description              0.000000e+00\n",
              "Severity                 0.000000e+00\n",
              "Side                     0.000000e+00\n",
              "County                   0.000000e+00\n",
              "State                    0.000000e+00\n",
              "ID                       0.000000e+00\n",
              "dtype: float64"
            ]
          },
          "metadata": {},
          "execution_count": 11
        }
      ],
      "source": [
        "missing_percentages = df.isna().sum().sort_values(ascending=False) / len(df)\n",
        "missing_percentages"
      ]
    },
    {
      "cell_type": "code",
      "execution_count": 12,
      "id": "mP4fmSBxVTq0",
      "metadata": {
        "colab": {
          "base_uri": "https://localhost:8080/"
        },
        "id": "mP4fmSBxVTq0",
        "outputId": "436382c9-b147-436d-fe95-7f2c768d027f"
      },
      "outputs": [
        {
          "output_type": "execute_result",
          "data": {
            "text/plain": [
              "pandas.core.series.Series"
            ]
          },
          "metadata": {},
          "execution_count": 12
        }
      ],
      "source": [
        "type(missing_percentages)"
      ]
    },
    {
      "cell_type": "code",
      "execution_count": 13,
      "id": "eGz99OqnWEnj",
      "metadata": {
        "colab": {
          "base_uri": "https://localhost:8080/",
          "height": 609
        },
        "id": "eGz99OqnWEnj",
        "outputId": "cfb933fb-9c3e-426c-afde-0035d77030a4"
      },
      "outputs": [
        {
          "output_type": "execute_result",
          "data": {
            "text/plain": [
              "<matplotlib.axes._subplots.AxesSubplot at 0x7f0d96645990>"
            ]
          },
          "metadata": {},
          "execution_count": 13
        },
        {
          "output_type": "display_data",
          "data": {
            "text/plain": [
              "<Figure size 1440x720 with 1 Axes>"
            ],
            "image/png": "[encoded data removed]"
          },
          "metadata": {}
        }
      ],
      "source": [
        "missing_percentages[missing_percentages != 0].plot(kind='barh', figsize=(20,10))"
      ]
    },
    {
      "cell_type": "code",
      "execution_count": 14,
      "id": "FhzRY3vNWGO-",
      "metadata": {
        "colab": {
          "base_uri": "https://localhost:8080/"
        },
        "id": "FhzRY3vNWGO-",
        "outputId": "6ad1a9b3-50b1-47ef-b3d0-d3e0d3960eba"
      },
      "outputs": [
        {
          "output_type": "execute_result",
          "data": {
            "text/plain": [
              "0               Dublin\n",
              "1               Dayton\n",
              "2           Cincinnati\n",
              "3                Akron\n",
              "4           Cincinnati\n",
              "              ...     \n",
              "2845337      Riverside\n",
              "2845338      San Diego\n",
              "2845339         Orange\n",
              "2845340    Culver City\n",
              "2845341       Highland\n",
              "Name: City, Length: 2845342, dtype: object"
            ]
          },
          "metadata": {},
          "execution_count": 14
        }
      ],
      "source": [
        "df.City"
      ]
    },
    {
      "cell_type": "code",
      "execution_count": 15,
      "id": "_PutosmtbLEg",
      "metadata": {
        "colab": {
          "base_uri": "https://localhost:8080/"
        },
        "id": "_PutosmtbLEg",
        "outputId": "41f8d1e2-0618-445c-e34a-1d60c76c7f02"
      },
      "outputs": [
        {
          "output_type": "execute_result",
          "data": {
            "text/plain": [
              "11682"
            ]
          },
          "metadata": {},
          "execution_count": 15
        }
      ],
      "source": [
        "cities = df.City.unique()\n",
        "len(cities)"
      ]
    },
    {
      "cell_type": "code",
      "execution_count": 16,
      "id": "SyfJ6vJ-bMRY",
      "metadata": {
        "colab": {
          "base_uri": "https://localhost:8080/"
        },
        "id": "SyfJ6vJ-bMRY",
        "outputId": "da9cc238-7824-47a8-dc12-4928b1922909"
      },
      "outputs": [
        {
          "output_type": "execute_result",
          "data": {
            "text/plain": [
              "Miami                           106966\n",
              "Los Angeles                      68956\n",
              "Orlando                          54691\n",
              "Dallas                           41979\n",
              "Houston                          39448\n",
              "                                 ...  \n",
              "Ridgedale                            1\n",
              "Sekiu                                1\n",
              "Wooldridge                           1\n",
              "Bullock                              1\n",
              "American Fork-Pleasant Grove         1\n",
              "Name: City, Length: 11681, dtype: int64"
            ]
          },
          "metadata": {},
          "execution_count": 16
        }
      ],
      "source": [
        "cities_by_accident = df.City.value_counts()\n",
        "cities_by_accident"
      ]
    },
    {
      "cell_type": "code",
      "execution_count": 17,
      "id": "AOuOZDxjbORd",
      "metadata": {
        "colab": {
          "base_uri": "https://localhost:8080/"
        },
        "id": "AOuOZDxjbORd",
        "outputId": "c76d265d-ad0c-48bd-9954-f683e67b2235"
      },
      "outputs": [
        {
          "output_type": "execute_result",
          "data": {
            "text/plain": [
              "Miami           106966\n",
              "Los Angeles      68956\n",
              "Orlando          54691\n",
              "Dallas           41979\n",
              "Houston          39448\n",
              "Charlotte        33152\n",
              "Sacramento       32559\n",
              "San Diego        26627\n",
              "Raleigh          22840\n",
              "Minneapolis      22768\n",
              "Portland         20944\n",
              "Nashville        20267\n",
              "Austin           18301\n",
              "Baton Rouge      18182\n",
              "Phoenix          17143\n",
              "Saint Paul       16869\n",
              "New Orleans      16251\n",
              "Atlanta          15622\n",
              "Jacksonville     14967\n",
              "Richmond         14349\n",
              "Name: City, dtype: int64"
            ]
          },
          "metadata": {},
          "execution_count": 17
        }
      ],
      "source": [
        "cities_by_accident[:20]"
      ]
    },
    {
      "cell_type": "code",
      "execution_count": 18,
      "id": "RM8tJ4KybPsn",
      "metadata": {
        "colab": {
          "base_uri": "https://localhost:8080/"
        },
        "id": "RM8tJ4KybPsn",
        "outputId": "02e22de5-cdcb-41a1-f951-dfb61bfd83bd"
      },
      "outputs": [
        {
          "output_type": "execute_result",
          "data": {
            "text/plain": [
              "pandas.core.series.Series"
            ]
          },
          "metadata": {},
          "execution_count": 18
        }
      ],
      "source": [
        "type(cities_by_accident)"
      ]
    },
    {
      "cell_type": "code",
      "execution_count": 19,
      "id": "lINIo2gabREG",
      "metadata": {
        "colab": {
          "base_uri": "https://localhost:8080/",
          "height": 609
        },
        "id": "lINIo2gabREG",
        "outputId": "236b89fa-6207-49a9-cb7b-6d18c7534b14"
      },
      "outputs": [
        {
          "output_type": "execute_result",
          "data": {
            "text/plain": [
              "<matplotlib.axes._subplots.AxesSubplot at 0x7f0dcc3ed0d0>"
            ]
          },
          "metadata": {},
          "execution_count": 19
        },
        {
          "output_type": "display_data",
          "data": {
            "text/plain": [
              "<Figure size 1440x720 with 1 Axes>"
            ],
            "image/png": "[encoded data removed]"
          },
          "metadata": {}
        }
      ],
      "source": [
        "cities_by_accident[:25].plot(kind='barh', figsize=(20,10))"
      ]
    },
    {
      "cell_type": "code",
      "execution_count": 20,
      "id": "KyEk8zuWbSPD",
      "metadata": {
        "colab": {
          "base_uri": "https://localhost:8080/",
          "height": 626
        },
        "id": "KyEk8zuWbSPD",
        "outputId": "93bf184e-0988-4e3a-ec87-14fc3f632b2f"
      },
      "outputs": [
        {
          "output_type": "execute_result",
          "data": {
            "text/plain": [
              "<matplotlib.axes._subplots.AxesSubplot at 0x7f0d8e55d3d0>"
            ]
          },
          "metadata": {},
          "execution_count": 20
        },
        {
          "output_type": "display_data",
          "data": {
            "text/plain": [
              "<Figure size 1440x720 with 1 Axes>"
            ],
            "image/png": "[encoded data removed]"
          },
          "metadata": {}
        }
      ],
      "source": [
        "fig, ax = plt.subplots(figsize=(20, 10))\n",
        "sns.histplot(cities_by_accident, log_scale=True, ax=ax)"
      ]
    },
    {
      "cell_type": "code",
      "execution_count": 21,
      "id": "y3WxX6DpbY-P",
      "metadata": {
        "colab": {
          "base_uri": "https://localhost:8080/"
        },
        "id": "y3WxX6DpbY-P",
        "outputId": "03df6995-fc24-4f84-953f-893652c57d31"
      },
      "outputs": [
        {
          "output_type": "execute_result",
          "data": {
            "text/plain": [
              "Carney                          1\n",
              "Waverly Hall                    1\n",
              "Center Sandwich                 1\n",
              "Glen Flora                      1\n",
              "Sulphur Springs                 1\n",
              "                               ..\n",
              "Ridgedale                       1\n",
              "Sekiu                           1\n",
              "Wooldridge                      1\n",
              "Bullock                         1\n",
              "American Fork-Pleasant Grove    1\n",
              "Name: City, Length: 1110, dtype: int64"
            ]
          },
          "metadata": {},
          "execution_count": 21
        }
      ],
      "source": [
        "cities_by_accident[cities_by_accident == 1]"
      ]
    },
    {
      "cell_type": "code",
      "execution_count": 22,
      "id": "vEzIB-G-bad8",
      "metadata": {
        "colab": {
          "base_uri": "https://localhost:8080/"
        },
        "id": "vEzIB-G-bad8",
        "outputId": "d6dd11f9-adb4-4b15-f1bf-a052e159d159"
      },
      "outputs": [
        {
          "output_type": "execute_result",
          "data": {
            "text/plain": [
              "0          2016-02-08 00:37:08\n",
              "1          2016-02-08 05:56:20\n",
              "2          2016-02-08 06:15:39\n",
              "3          2016-02-08 06:51:45\n",
              "4          2016-02-08 07:53:43\n",
              "                  ...         \n",
              "2845337    2019-08-23 18:03:25\n",
              "2845338    2019-08-23 19:11:30\n",
              "2845339    2019-08-23 19:00:21\n",
              "2845340    2019-08-23 19:00:21\n",
              "2845341    2019-08-23 18:52:06\n",
              "Name: Start_Time, Length: 2845342, dtype: object"
            ]
          },
          "metadata": {},
          "execution_count": 22
        }
      ],
      "source": [
        "df.Start_Time"
      ]
    },
    {
      "cell_type": "code",
      "execution_count": 23,
      "id": "RxPrhbwUbb8S",
      "metadata": {
        "colab": {
          "base_uri": "https://localhost:8080/",
          "height": 352
        },
        "id": "RxPrhbwUbb8S",
        "outputId": "9d3cfe2c-41db-4128-cbdd-bd98af96d28f"
      },
      "outputs": [
        {
          "output_type": "stream",
          "name": "stderr",
          "text": [
            "/usr/local/lib/python3.7/dist-packages/seaborn/distributions.py:2619: FutureWarning: `distplot` is a deprecated function and will be removed in a future version. Please adapt your code to use either `displot` (a figure-level function with similar flexibility) or `histplot` (an axes-level function for histograms).\n",
            "  warnings.warn(msg, FutureWarning)\n"
          ]
        },
        {
          "output_type": "execute_result",
          "data": {
            "text/plain": [
              "<matplotlib.axes._subplots.AxesSubplot at 0x7f0d8874aa10>"
            ]
          },
          "metadata": {},
          "execution_count": 23
        },
        {
          "output_type": "display_data",
          "data": {
            "text/plain": [
              "<Figure size 432x288 with 1 Axes>"
            ],
            "image/png": "[encoded data removed]"
          },
          "metadata": {}
        }
      ],
      "source": [
        "df.Start_Time = pd.to_datetime(df.Start_Time)\n",
        "\n",
        "sns.distplot(df.Start_Time.dt.hour, bins=24, kde=False, norm_hist=True)"
      ]
    },
    {
      "cell_type": "markdown",
      "id": "L52Ifo_PdCGU",
      "metadata": {
        "id": "L52Ifo_PdCGU"
      },
      "source": [
        "+ A high percentage of accidents occur between 6 am to 10 am (probably people in a hurry to get to work)\n",
        "+ Next higest percentage is 3 pm to 6 pm."
      ]
    },
    {
      "cell_type": "code",
      "execution_count": 24,
      "id": "8Lmtu_endvkk",
      "metadata": {
        "colab": {
          "base_uri": "https://localhost:8080/",
          "height": 352
        },
        "id": "8Lmtu_endvkk",
        "outputId": "45243a52-d64b-406d-ec4a-a648408d7311"
      },
      "outputs": [
        {
          "output_type": "stream",
          "name": "stderr",
          "text": [
            "/usr/local/lib/python3.7/dist-packages/seaborn/distributions.py:2619: FutureWarning: `distplot` is a deprecated function and will be removed in a future version. Please adapt your code to use either `displot` (a figure-level function with similar flexibility) or `histplot` (an axes-level function for histograms).\n",
            "  warnings.warn(msg, FutureWarning)\n"
          ]
        },
        {
          "output_type": "execute_result",
          "data": {
            "text/plain": [
              "<matplotlib.axes._subplots.AxesSubplot at 0x7f0d8874a1d0>"
            ]
          },
          "metadata": {},
          "execution_count": 24
        },
        {
          "output_type": "display_data",
          "data": {
            "text/plain": [
              "<Figure size 432x288 with 1 Axes>"
            ],
            "image/png": "[encoded data removed]"
          },
          "metadata": {}
        }
      ],
      "source": [
        "sns.distplot(df.Start_Time.dt.dayofweek, bins=7, kde=False, norm_hist=True)"
      ]
    },
    {
      "cell_type": "markdown",
      "id": "SidIaaeRd9v2",
      "metadata": {
        "id": "SidIaaeRd9v2"
      },
      "source": [
        "Is the distribution of accidents by hour the same on weekends as on weekdays."
      ]
    },
    {
      "cell_type": "code",
      "execution_count": 25,
      "id": "aRodKITkdxbY",
      "metadata": {
        "colab": {
          "base_uri": "https://localhost:8080/",
          "height": 352
        },
        "id": "aRodKITkdxbY",
        "outputId": "d326e0ea-8f51-43bb-ebcb-16234449c59d"
      },
      "outputs": [
        {
          "output_type": "stream",
          "name": "stderr",
          "text": [
            "/usr/local/lib/python3.7/dist-packages/seaborn/distributions.py:2619: FutureWarning: `distplot` is a deprecated function and will be removed in a future version. Please adapt your code to use either `displot` (a figure-level function with similar flexibility) or `histplot` (an axes-level function for histograms).\n",
            "  warnings.warn(msg, FutureWarning)\n"
          ]
        },
        {
          "output_type": "execute_result",
          "data": {
            "text/plain": [
              "<matplotlib.axes._subplots.AxesSubplot at 0x7f0d886779d0>"
            ]
          },
          "metadata": {},
          "execution_count": 25
        },
        {
          "output_type": "display_data",
          "data": {
            "text/plain": [
              "<Figure size 432x288 with 1 Axes>"
            ],
            "image/png": "[encoded data removed]"
          },
          "metadata": {}
        }
      ],
      "source": [
        "sundays_start_time = df.Start_Time[df.Start_Time.dt.dayofweek == 6]\n",
        "sns.distplot(sundays_start_time.dt.hour, bins=24, kde=False, norm_hist=True)"
      ]
    },
    {
      "cell_type": "code",
      "execution_count": 26,
      "id": "Q8He7256dzgL",
      "metadata": {
        "colab": {
          "base_uri": "https://localhost:8080/",
          "height": 352
        },
        "id": "Q8He7256dzgL",
        "outputId": "12ef6710-0b80-48fa-bd51-d79953019a2b"
      },
      "outputs": [
        {
          "output_type": "stream",
          "name": "stderr",
          "text": [
            "/usr/local/lib/python3.7/dist-packages/seaborn/distributions.py:2619: FutureWarning: `distplot` is a deprecated function and will be removed in a future version. Please adapt your code to use either `displot` (a figure-level function with similar flexibility) or `histplot` (an axes-level function for histograms).\n",
            "  warnings.warn(msg, FutureWarning)\n"
          ]
        },
        {
          "output_type": "execute_result",
          "data": {
            "text/plain": [
              "<matplotlib.axes._subplots.AxesSubplot at 0x7f0d884e3850>"
            ]
          },
          "metadata": {},
          "execution_count": 26
        },
        {
          "output_type": "display_data",
          "data": {
            "text/plain": [
              "<Figure size 432x288 with 1 Axes>"
            ],
            "image/png": "[encoded data removed]"
          },
          "metadata": {}
        }
      ],
      "source": [
        "monday_start_time = df.Start_Time[df.Start_Time.dt.dayofweek == 0]\n",
        "sns.distplot(monday_start_time.dt.hour, bins=24, kde=False, norm_hist=True)"
      ]
    },
    {
      "cell_type": "markdown",
      "id": "dibIsneHeCE3",
      "metadata": {
        "id": "dibIsneHeCE3"
      },
      "source": [
        "On Sundays, the peak occurs between 10 am and 3 pm, unlike weekdays"
      ]
    },
    {
      "cell_type": "code",
      "execution_count": 29,
      "id": "tz2nJbaud3UJ",
      "metadata": {
        "id": "tz2nJbaud3UJ",
        "colab": {
          "base_uri": "https://localhost:8080/"
        },
        "outputId": "3a12927d-c9ff-4b2e-dfdc-400c82774fda"
      },
      "outputs": [
        {
          "output_type": "execute_result",
          "data": {
            "text/plain": [
              "0          40.108910\n",
              "1          39.865420\n",
              "2          39.102660\n",
              "3          41.062130\n",
              "4          39.172393\n",
              "             ...    \n",
              "2845337    34.002480\n",
              "2845338    32.766960\n",
              "2845339    33.775450\n",
              "2845340    33.992460\n",
              "2845341    34.133930\n",
              "Name: Start_Lat, Length: 2845342, dtype: float64"
            ]
          },
          "metadata": {},
          "execution_count": 29
        }
      ],
      "source": [
        "df.Start_Lat"
      ]
    },
    {
      "cell_type": "code",
      "source": [
        "df.Start_Lng"
      ],
      "metadata": {
        "colab": {
          "base_uri": "https://localhost:8080/"
        },
        "id": "OG4o-_0eznT6",
        "outputId": "acc4e036-ade0-4ccf-8620-0eb8c47d7eac"
      },
      "id": "OG4o-_0eznT6",
      "execution_count": 30,
      "outputs": [
        {
          "output_type": "execute_result",
          "data": {
            "text/plain": [
              "0          -83.092860\n",
              "1          -84.062800\n",
              "2          -84.524680\n",
              "3          -81.537840\n",
              "4          -84.492792\n",
              "              ...    \n",
              "2845337   -117.379360\n",
              "2845338   -117.148060\n",
              "2845339   -117.847790\n",
              "2845340   -118.403020\n",
              "2845341   -117.230920\n",
              "Name: Start_Lng, Length: 2845342, dtype: float64"
            ]
          },
          "metadata": {},
          "execution_count": 30
        }
      ]
    },
    {
      "cell_type": "code",
      "source": [
        "sample_df = df.sample(int(0.1 * len(df)))"
      ],
      "metadata": {
        "id": "r0c9wdodzpUb"
      },
      "id": "r0c9wdodzpUb",
      "execution_count": 31,
      "outputs": []
    },
    {
      "cell_type": "code",
      "source": [
        "sns.scatterplot(x=sample_df.Start_Lng, y=sample_df.Start_Lat, size=0.001)"
      ],
      "metadata": {
        "colab": {
          "base_uri": "https://localhost:8080/",
          "height": 299
        },
        "id": "j-ixegu5zrE5",
        "outputId": "e321463d-39c5-4ba7-fc15-7ccad3224b41"
      },
      "id": "j-ixegu5zrE5",
      "execution_count": 32,
      "outputs": [
        {
          "output_type": "execute_result",
          "data": {
            "text/plain": [
              "<matplotlib.axes._subplots.AxesSubplot at 0x7f0d88290e10>"
            ]
          },
          "metadata": {},
          "execution_count": 32
        },
        {
          "output_type": "display_data",
          "data": {
            "text/plain": [
              "<Figure size 432x288 with 1 Axes>"
            ],
            "image/png": "[encoded data removed]"
          },
          "metadata": {}
        }
      ]
    },
    {
      "cell_type": "code",
      "source": [
        "lat, lon = df.Start_Lat[0], df.Start_Lng[0]\n",
        "lat, lon"
      ],
      "metadata": {
        "colab": {
          "base_uri": "https://localhost:8080/"
        },
        "id": "5DqjNdaHzsnZ",
        "outputId": "8e5edc6f-43f9-42a2-91f5-a2694dd8b51b"
      },
      "id": "5DqjNdaHzsnZ",
      "execution_count": 33,
      "outputs": [
        {
          "output_type": "execute_result",
          "data": {
            "text/plain": [
              "(40.10891, -83.09286)"
            ]
          },
          "metadata": {},
          "execution_count": 33
        }
      ]
    },
    {
      "cell_type": "code",
      "source": [
        "for x in df[['Start_Lat', 'Start_Lng']].sample(100).iteritems():\n",
        "    print(x[1])"
      ],
      "metadata": {
        "colab": {
          "base_uri": "https://localhost:8080/"
        },
        "id": "Ulnf949lzuYh",
        "outputId": "9e73ea38-ba38-4613-e8dd-95597defe08f"
      },
      "id": "Ulnf949lzuYh",
      "execution_count": 34,
      "outputs": [
        {
          "output_type": "stream",
          "name": "stdout",
          "text": [
            "2702667    39.825511\n",
            "1379158    25.823886\n",
            "1585960    37.657267\n",
            "570674     38.763585\n",
            "1353094    27.760000\n",
            "             ...    \n",
            "1253856    40.628542\n",
            "2785509    41.295467\n",
            "783935     36.003457\n",
            "1910741    28.451596\n",
            "2168851    27.594920\n",
            "Name: Start_Lat, Length: 100, dtype: float64\n",
            "2702667    -85.677126\n",
            "1379158    -80.242068\n",
            "1585960   -122.084143\n",
            "570674     -90.480275\n",
            "1353094    -82.699770\n",
            "              ...    \n",
            "1253856    -74.213894\n",
            "2785509    -73.933954\n",
            "783935     -77.494121\n",
            "1910741    -81.220132\n",
            "2168851    -81.822490\n",
            "Name: Start_Lng, Length: 100, dtype: float64\n"
          ]
        }
      ]
    },
    {
      "cell_type": "code",
      "source": [
        "zip(list(df.Start_Lat), list(df.Start_Lng))"
      ],
      "metadata": {
        "colab": {
          "base_uri": "https://localhost:8080/"
        },
        "id": "Uxmpc0lTzwH5",
        "outputId": "d8604495-63cd-4d9b-b442-00d1bc126c81"
      },
      "id": "Uxmpc0lTzwH5",
      "execution_count": 35,
      "outputs": [
        {
          "output_type": "execute_result",
          "data": {
            "text/plain": [
              "<zip at 0x7f0d884755a0>"
            ]
          },
          "metadata": {},
          "execution_count": 35
        }
      ]
    },
    {
      "cell_type": "code",
      "source": [
        "sample_df = df.sample(int(0.001 * len(df)))\n",
        "lat_lon_pairs = list(zip(list(sample_df.Start_Lat), list(sample_df.Start_Lng)))"
      ],
      "metadata": {
        "id": "rVj2jrwazx2u"
      },
      "id": "rVj2jrwazx2u",
      "execution_count": 36,
      "outputs": []
    },
    {
      "cell_type": "code",
      "source": [
        "map = folium.Map()\n",
        "HeatMap(lat_lon_pairs).add_to(map)\n",
        "map"
      ],
      "metadata": {
        "colab": {
          "base_uri": "https://localhost:8080/",
          "height": 1000
        },
        "id": "zYDVE4S4zz3n",
        "outputId": "2fb5fc80-1184-41df-f78b-b6947794a866"
      },
      "id": "zYDVE4S4zz3n",
      "execution_count": 37,
      "outputs": [
        {
          "output_type": "execute_result",
          "data": {
            "text/plain": [
              "<folium.folium.Map at 0x7f0d884344d0>"
            ],
            "text/html": [
              "<div style=\"width:100%;\"><div style=\"position:relative;width:100%;height:0;padding-bottom:60%;\"><span style=\"color:#565656\">Make this Notebook Trusted to load map: File -> Trust Notebook</span><iframe srcdoc=\"&lt;!DOCTYPE html&gt;\n",
              "&lt;head&gt;    \n",
              "    &lt;meta http-equiv=&quot;content-type&quot; content=&quot;text/html; charset=UTF-8&quot; /&gt;\n",
              "    &lt;script&gt;L_PREFER_CANVAS=false; L_NO_TOUCH=false; L_DISABLE_3D=false;&lt;/script&gt;\n",
              "    &lt;script src=&quot;https://cdn.jsdelivr.net/npm/leaflet@1.4.0/dist/leaflet.js&quot;&gt;&lt;/script&gt;\n",
              "    &lt;script src=&quot;https://code.jquery.com/jquery-1.12.4.min.js&quot;&gt;&lt;/script&gt;\n",
              "    &lt;script src=&quot;https://maxcdn.bootstrapcdn.com/bootstrap/3.2.0/js/bootstrap.min.js&quot;&gt;&lt;/script&gt;\n",
              "    &lt;script src=&quot;https://cdnjs.cloudflare.com/ajax/libs/Leaflet.awesome-markers/2.0.2/leaflet.awesome-markers.js&quot;&gt;&lt;/script&gt;\n",
              "    &lt;link rel=&quot;stylesheet&quot; href=&quot;https://cdn.jsdelivr.net/npm/leaflet@1.4.0/dist/leaflet.css&quot;/&gt;\n",
              "    &lt;link rel=&quot;stylesheet&quot; href=&quot;https://maxcdn.bootstrapcdn.com/bootstrap/3.2.0/css/bootstrap.min.css&quot;/&gt;\n",
              "    &lt;link rel=&quot;stylesheet&quot; href=&quot;https://maxcdn.bootstrapcdn.com/bootstrap/3.2.0/css/bootstrap-theme.min.css&quot;/&gt;\n",
              "    &lt;link rel=&quot;stylesheet&quot; href=&quot;https://maxcdn.bootstrapcdn.com/font-awesome/4.6.3/css/font-awesome.min.css&quot;/&gt;\n",
              "    &lt;link rel=&quot;stylesheet&quot; href=&quot;https://cdnjs.cloudflare.com/ajax/libs/Leaflet.awesome-markers/2.0.2/leaflet.awesome-markers.css&quot;/&gt;\n",
              "    &lt;link rel=&quot;stylesheet&quot; href=&quot;https://rawcdn.githack.com/python-visualization/folium/master/folium/templates/leaflet.awesome.rotate.css&quot;/&gt;\n",
              "    &lt;style&gt;html, body {width: 100%;height: 100%;margin: 0;padding: 0;}&lt;/style&gt;\n",
              "    &lt;style&gt;#map {position:absolute;top:0;bottom:0;right:0;left:0;}&lt;/style&gt;\n",
              "    \n",
              "    &lt;meta name=&quot;viewport&quot; content=&quot;width=device-width,\n",
              "        initial-scale=1.0, maximum-scale=1.0, user-scalable=no&quot; /&gt;\n",
              "    &lt;style&gt;#map_7795fd367b3cb030774f3db8a6e8af61 {\n",
              "        position: relative;\n",
              "        width: 100.0%;\n",
              "        height: 100.0%;\n",
              "        left: 0.0%;\n",
              "        top: 0.0%;\n",
              "        }\n",
              "    &lt;/style&gt;\n",
              "    &lt;script src=&quot;https://leaflet.github.io/Leaflet.heat/dist/leaflet-heat.js&quot;&gt;&lt;/script&gt;\n",
              "&lt;/head&gt;\n",
              "&lt;body&gt;    \n",
              "    \n",
              "    &lt;div class=&quot;folium-map&quot; id=&quot;map_7795fd367b3cb030774f3db8a6e8af61&quot; &gt;&lt;/div&gt;\n",
              "&lt;/body&gt;\n",
              "&lt;script&gt;    \n",
              "    \n",
              "    \n",
              "        var bounds = null;\n",
              "    \n",
              "\n",
              "    var map_7795fd367b3cb030774f3db8a6e8af61 = L.map(\n",
              "        &#x27;map_7795fd367b3cb030774f3db8a6e8af61&#x27;, {\n",
              "        center: [0, 0],\n",
              "        zoom: 1,\n",
              "        maxBounds: bounds,\n",
              "        layers: [],\n",
              "        worldCopyJump: false,\n",
              "        crs: L.CRS.EPSG3857,\n",
              "        zoomControl: true,\n",
              "        });\n",
              "\n",
              "\n",
              "    \n",
              "    var tile_layer_7e154127ce99194955b25eb40301dbc5 = L.tileLayer(\n",
              "        &#x27;https://{s}.tile.openstreetmap.org/{z}/{x}/{y}.png&#x27;,\n",
              "        {\n",
              "        &quot;attribution&quot;: null,\n",
              "        &quot;detectRetina&quot;: false,\n",
              "        &quot;maxNativeZoom&quot;: 18,\n",
              "        &quot;maxZoom&quot;: 18,\n",
              "        &quot;minZoom&quot;: 0,\n",
              "        &quot;noWrap&quot;: false,\n",
              "        &quot;opacity&quot;: 1,\n",
              "        &quot;subdomains&quot;: &quot;abc&quot;,\n",
              "        &quot;tms&quot;: false\n",
              "}).addTo(map_7795fd367b3cb030774f3db8a6e8af61);\n",
              "    \n",
              "            var heat_map_9c75e81ccc62b85803b981b3051c1d36 = L.heatLayer(\n",
              "                [[41.120163, -76.79695600000002], [33.77786500000001, -84.3908], [36.786013, -81.728829], [34.492166999999995, -118.283689], [42.677181, -84.488536], [38.20200300000001, -77.499066], [32.755759999999995, -97.3191], [34.824199, -118.95694], [28.194645, -82.390025], [41.7349, -72.6643], [29.84481, -95.49824], [38.81006, -76.90969], [37.31669, -121.94813], [33.890632000000004, -118.041498], [34.39412, -118.57107], [32.831509999999994, -96.78069], [25.518709, -80.40453000000002], [33.01882, -117.0788], [39.413424, -76.61412800000002], [28.396782, -81.375456], [37.31483, -121.911504], [47.695812, -117.049071], [34.564122999999995, -118.684753], [28.19153, -82.46432800000002], [32.348647, -111.098988], [42.35396400000001, -88.09335300000002], [36.430245, -119.950178], [42.11596, -87.77756], [39.32643, -77.625457], [39.784056, -75.04861600000002], [34.046704, -118.214817], [33.452264, -112.082551], [32.261226, -110.974174], [37.32941, -121.84177], [35.206445, -80.921031], [37.29561500000001, -120.471488], [34.998228000000005, -82.06031800000002], [34.063779, -117.28355], [40.25721, -75.36107], [39.752904, -79.394485], [25.846841, -80.215586], [32.735223, -117.155773], [34.1647, -118.47339], [41.75967, -87.90642], [29.68956, -95.272114], [44.77779500000001, -92.864352], [41.537282, -73.90027099999998], [34.87319, -82.222234], [35.138978, -80.78429100000002], [28.593371, -81.496183], [32.872901, -96.665577], [29.522548, -95.125401], [33.909187, -118.328665], [28.053776, -81.954233], [43.512358, -119.170823], [38.889895, -80.627578], [36.652225, -82.081142], [38.44452, -85.767077], [36.180054, -86.749932], [34.030419, -117.616142], [40.79466, -111.90392], [39.96291400000001, -75.250938], [38.666019, -77.2731], [30.282174, -81.72406600000002], [39.613555, -119.856237], [33.460625, -86.82211099999998], [34.820193, -80.936743], [33.857620000000004, -117.97626], [34.158667, -118.457429], [26.188133, -81.75143], [34.141503, -117.339834], [38.46595, -121.49668], [33.37749, -112.1682], [28.55476, -81.379212], [32.177895, -110.941422], [33.75016, -117.832006], [40.98698, -111.90148], [33.46213, -112.05922], [40.696598, -111.996172], [33.801515, -84.3882], [42.31174, -83.09541999999998], [42.238039, -87.944139], [30.261672, -97.738362], [41.98513, -87.85684], [28.423977, -81.404782], [26.692368, -80.067444], [45.515012, -94.284362], [28.64753, -81.27937], [29.692914, -95.251393], [32.842625, -117.236584], [32.399428, -93.80677], [34.20221, -118.34031], [29.252395, -82.18997900000002], [43.192962, -77.593602], [33.877061, -118.140696], [29.81395, -95.37916], [30.41935, -91.120873], [40.995279, -76.642009], [40.808447, -111.411892], [38.568304, -77.33551999999997], [40.686658, -73.614097], [28.538172, -81.475728], [30.440753000000004, -91.175007], [33.93173, -117.412378], [42.973419, -76.812297], [30.046367, -89.96108000000002], [39.27776, -76.55059], [38.880544, -77.23670200000002], [37.302667, -120.541048], [32.19169, -110.7898], [28.35741, -81.49181], [34.205523, -118.413925], [32.878820000000005, -96.51348], [41.8759, -87.64766], [35.727795, -78.853719], [33.29278, -111.94568], [34.140764000000004, -118.277491], [33.570907, -98.419098], [33.984346, -118.133466], [38.482883, -122.681004], [42.999319, -85.675914], [40.853887, -73.964318], [33.68768, -117.90551], [29.583261, -95.470379], [33.771575, -117.998045], [32.314355, -95.267149], [30.371828000000004, -81.771962], [37.571497, -122.316654], [40.544137, -74.28775], [33.959373, -81.227685], [33.93378, -118.3525], [36.982623, -76.301886], [25.629441, -80.32090600000002], [25.90092000000001, -80.32483], [28.661054, -80.867763], [45.493106, -122.673576], [37.108812, -121.018051], [34.492908, -82.640199], [41.767425, -72.655397], [38.160668, -122.571795], [44.165835, -92.41908], [29.777027, -95.412254], [37.37434, -121.9308], [39.856542, -86.276053], [39.22322, -84.45506], [25.640373, -80.360512], [47.58755, -122.32023], [32.662233, -97.321084], [37.240667, -93.283832], [34.120486, -117.907589], [33.991863, -117.88878400000002], [33.92599000000001, -118.36763], [25.700259, -80.40654], [40.838253, -77.789088], [25.684676, -80.387136], [44.065508, -116.995039], [39.898049, -76.16083], [37.85836, -121.21854], [28.332809, -81.496882], [39.671598, -75.59875], [42.904681, -71.364351], [34.864565, -118.171015], [36.137925, -120.10277], [38.85297, -77.39779], [40.026032, -76.266325], [25.897434, -80.236324], [28.480493, -81.332122], [40.436824, -79.86519399999997], [28.526290000000003, -81.38615], [33.869029, -117.753485], [28.540174, -82.16250699999998], [39.064964, -76.937225], [37.652138, -122.098724], [28.385739, -81.50255200000002], [32.784522, -96.807264], [29.732911, -95.524198], [39.915233, -74.943732], [35.164951, -113.735607], [33.854445, -117.791172], [40.40647, -104.87414], [45.110717, -94.527959], [39.12005, -77.080925], [44.634326, -123.18753999999998], [37.441703, -121.889973], [38.517622, -90.387263], [34.808837, -82.269164], [29.954724, -90.071552], [42.987362, -83.764375], [32.655154, -117.106076], [34.150745, -80.885317], [37.88979000000001, -76.6658], [28.553187, -81.370509], [38.91892, -77.21669], [44.38688, -117.30873], [39.932024, -122.200395], [25.957785, -80.340491], [33.18946, -117.36143], [26.606537, -81.81109000000002], [45.525281, -122.661725], [40.846122, -122.335071], [32.478962, -96.833615], [30.44874, -87.21903], [38.662688, -121.225654], [47.23928, -122.4072], [25.578714, -80.369339], [32.463721, -93.782196], [44.970356, -93.34112], [35.991063, -83.901921], [34.297181, -118.473783], [33.17311, -87.46781], [38.95108, -84.63367], [45.07641, -93.33386], [29.796324, -95.270855], [29.759611, -95.213087], [35.105897, -120.628226], [42.813034, -73.968186], [27.819285, -82.679462], [33.803259999999995, -118.13723], [34.006665000000005, -118.204907], [32.91884, -87.86844], [38.77561, -90.33515], [25.64996, -80.33139], [40.753786, -77.16094], [28.598887, -81.299091], [36.646381, -119.699909], [36.882551, -76.184841], [33.45924, -112.00607], [28.506674, -81.765001], [30.19138, -81.71025], [36.903859, -121.639155], [38.79531400000001, -77.170887], [40.825167, -73.234064], [40.036185, -120.07609], [36.968545, -76.29881800000003], [34.0687, -117.839494], [35.033733000000005, -85.25793], [44.748805, -124.05134], [33.67823, -84.41249], [32.705519, -96.835906], [44.22445, -88.46865], [37.39872, -77.42434], [37.154482, -93.412611], [40.117373, -75.145463], [40.147401, -80.302366], [37.194575, -121.994005], [32.741178999999995, -117.116334], [39.73382, -111.825345], [39.97213, -111.7762], [46.540128, -114.071602], [41.450194, -78.69411600000002], [31.30095, -92.4803], [33.960072, -118.233895], [34.032945, -118.263946], [34.06786, -117.4028], [34.1006, -118.478], [27.787498, -82.334847], [39.012728, -76.904815], [45.514075, -120.683518], [37.399923, -122.032679], [31.349025, -83.48775699999999], [34.206801, -117.41338799999998], [41.875224, -91.867978], [28.53893, -81.474202], [41.282318, -72.866982], [33.881594, -117.593947], [34.068808000000004, -118.06856100000002], [33.85399, -117.9463], [37.494587, -122.226714], [29.78461, -95.26477], [40.315, -75.60634], [37.36643, -121.90103], [40.59556, -75.330298], [29.70474, -95.15342], [42.31955, -83.68854], [35.25745999999999, -81.02215], [40.574926, -74.28950400000002], [44.760735, -121.228123], [34.070936, -118.150361], [27.95669, -82.46048], [33.753785, -84.495287], [40.7762, -73.420682], [32.679651, -117.086053], [33.364312, -117.098898], [43.33942, -71.91001999999997], [34.186749, -118.400359], [36.244501, -119.994866], [34.273399, -118.590418], [30.00574000000001, -90.20951], [39.94776, -78.2297], [43.094829, -75.299286], [32.696740000000005, -96.842256], [28.488454, -81.281101], [41.119455, -73.379305], [39.46642, -76.83743], [38.485553, -121.435225], [38.828724, -76.87586999999998], [25.82971400000001, -80.230896], [38.661013, -121.36435], [35.731949, -78.587193], [37.04276, -81.136882], [33.330994, -112.623512], [47.862672, -122.109909], [35.893282, -90.793684], [35.654938, -80.463963], [35.840247, -78.326223], [40.050305, -76.394795], [39.14496, -88.53374000000002], [40.044538, -75.66288], [30.3485, -81.552104], [32.722794, -96.874383], [25.992919, -80.166112], [34.034942, -117.144221], [38.817868, -121.18784], [37.02766, -120.89068600000002], [34.154586, -119.123825], [42.46492, -87.90339], [28.356936, -80.70016700000002], [27.425202, -80.325923], [32.421825, -82.419782], [33.943426, -118.343915], [45.721756, -110.470187], [34.003698, -118.288775], [34.841734, -114.612239], [39.545754, -76.252829], [33.413733, -117.173019], [40.052295, -75.530038], [34.140075, -80.911808], [40.66466, -111.90151000000002], [38.550306, -121.473874], [42.72705300000001, -85.673076], [38.594873, -121.346336], [36.984814, -120.087094], [26.99005, -82.20531], [44.06427, -123.10045], [37.718, -121.70134], [35.752955, -78.648623], [38.72485, -75.28560999999998], [41.98518, -88.34084], [33.65225, -117.74096000000002], [39.584488, -76.097379], [38.675928000000006, -121.361227], [35.537405, -121.053749], [33.719133, -117.188984], [42.153845, -88.05277099999998], [27.840175, -82.73690699999999], [42.407749, -82.95096600000002], [34.03305, -118.274523], [45.424636, -92.989965], [27.956222, -82.355811], [36.09219, -80.23084], [36.758591, -76.303784], [33.975812, -118.078249], [35.661079, -78.849594], [38.798766, -76.304313], [25.643088, -80.414896], [25.598634, -80.352987], [30.318644, -81.525559], [39.21497, -84.68422], [39.967412, -83.041526], [32.770724, -96.70177], [40.455692, -109.532249], [33.88413, -118.028819], [28.366134, -81.366826], [40.89467, -73.86135], [29.384001, -81.508687], [41.564238, -87.85172800000002], [34.224940000000004, -118.47327], [44.860544, -93.323142], [37.931311, -122.324943], [35.010348, -107.028712], [36.315781, -87.125527], [34.655632000000004, -118.2187], [40.73629, -73.84483], [39.855057, -75.09780500000002], [48.469547, -117.317776], [43.100746, -123.553312], [30.347299, -91.028426], [40.371842, -75.92115], [30.499172, -84.213872], [40.092169, -77.41235999999998], [25.840756, -80.369128], [45.576864, -122.652988], [30.403257, -86.867377], [40.822806, -76.848176], [37.522335, -121.987608], [43.618611, -116.235777], [33.778994, -118.280332], [35.687981, -78.571096], [36.15188, -86.859459], [40.785144, -77.834385], [48.436134, -114.341219], [48.17921, -122.19494], [32.980452, -80.239379], [25.81711, -80.20644], [38.737293, -120.810829], [33.49428, -112.23771], [42.125099, -75.905505], [27.937594, -82.29297], [33.000571, -117.257492], [42.034608, -94.348724], [38.026036, -121.329731], [34.066189, -117.243636], [37.91415, -121.226368], [33.05836, -96.69325], [39.045909, -94.411004], [38.11345, -122.56433], [48.776675, -104.557604], [43.944553000000006, -117.00588], [26.045618, -80.162849], [35.164320000000004, -93.27583], [42.226834, -72.972044], [32.569323, -117.076674], [36.951995, -120.053922], [37.898875, -76.86995300000002], [27.446272, -82.503043], [28.475353, -81.417611], [33.3865, -111.62135], [35.043747, -85.304254], [44.952524, -92.958524], [33.816336, -117.91597], [34.046107, -81.119325], [46.656178, -96.391865], [36.618706, -121.848192], [35.961116, -119.290548], [38.664752, -75.50354200000002], [34.018909, -118.172372], [33.97279, -118.28062], [33.876503, -118.095806], [32.8857, -96.700711], [37.404575, -77.66378399999998], [26.41652, -80.09020699999998], [34.025398, -117.550073], [42.302801, -83.180799], [26.291474, -81.59499], [35.07886, -90.02585], [30.47323, -84.24364], [33.204031, -111.839974], [28.56543, -81.173843], [28.695956, -81.38718], [37.750051, -77.45701600000002], [45.50601, -122.68153], [27.806528000000004, -82.676727], [34.817358, -118.170694], [33.834908, -117.835424], [39.0502, -76.84212], [30.479527, -91.121689], [35.847916, -78.614936], [36.937233, -76.265062], [38.431173, -82.21212], [27.338781, -82.533012], [33.879048, -117.601347], [35.01171, -81.9573], [37.76643, -75.614396], [34.040785, -118.579056], [32.83978, -97.30954], [37.31731, -121.93597], [27.954018, -82.508315], [30.482496, -84.33669300000003], [41.16653, -73.20629], [33.652155, -117.408884], [27.410216, -80.40091], [33.915983000000004, -118.078593], [38.493272, -122.752014], [28.54203, -81.44695], [33.851794, -117.28765], [28.407964, -81.449956], [38.562127, -121.645315], [47.47214, -122.20429], [39.117325, -77.06893000000002], [39.055949, -76.928403], [43.416989, -75.224929], [33.585875, -117.613241], [41.7139, -72.64785], [39.75326, -84.265969], [38.22278, -85.57359], [39.99981, -78.228387], [34.27333, -118.5852], [37.775534, -77.896896], [38.25527, -122.0652], [39.667779, -75.60226999999998], [33.341822, -80.44123], [37.57133, -122.31413], [29.60038, -98.42494], [40.530012, -80.072125], [25.697986, -80.382166], [47.241282, -122.398983], [44.972089, -93.251328], [37.252383, -79.119337], [33.94594, -118.17074], [33.936429, -118.093349], [43.212888, -70.99602], [39.262143, -94.448722], [41.75591, -87.62631999999998], [33.873518, -118.248778], [43.12329, -70.83121], [38.964551, -94.358663], [37.246624, -113.349455], [28.486243, -81.491034], [44.98546500000001, -93.288128], [34.171448, -118.387715], [35.811654, -78.730255], [33.521515, -81.692072], [27.9677, -82.551727], [37.67795, -122.38849], [33.912144, -118.177517], [48.098919, -114.648109], [35.91052, -86.82462], [33.637370000000004, -117.17131], [39.092927, -120.729467], [45.58389, -122.67902], [36.04414000000001, -86.65718000000004], [34.291199, -118.467578], [33.089838, -96.681684], [25.68931, -80.415931], [35.993235, -119.042933], [28.492522, -81.330763], [30.447166, -90.988664], [34.06651, -117.21341], [41.77354, -87.62673000000002], [30.48968, -87.2304], [29.46895, -98.47509], [33.915792, -118.189276], [26.201143, -80.146372], [40.166599, -74.440322], [30.417357, -91.100873], [28.618345, -81.414837], [33.941019, -117.252608], [32.183253, -110.97587], [40.567845, -122.19593], [35.602584, -118.47985], [33.876515999999995, -118.131268], [39.420887, -76.644369], [41.37444, -72.18679], [39.000614, -94.48227], [40.93031, -75.09736], [29.92715, -95.55086], [34.063984000000005, -117.290139], [38.630315, -121.212903], [34.23264, -117.419479], [40.026571, -80.321711], [34.35638400000001, -117.438214], [34.845369, -82.28104599999998], [36.67335, -121.64065], [26.725224, -80.08404], [25.927492, -80.21419300000002], [38.9998, -77.32952], [45.67069, -120.83707], [32.961007, -96.727275], [42.928174, -85.683151], [40.73213, -73.84300999999998], [42.34061, -79.58071], [37.492773, -122.383367], [45.205662, -93.400673], [32.691318, -96.86344], [40.688128000000006, -73.638345], [37.531381, -122.275572], [34.005763, -81.254797], [33.618338, -85.714174], [37.30356, -121.87799], [39.891737, -104.874702], [38.66516, -121.341309], [41.87419000000001, -87.71627], [30.190483, -81.837254], [44.87495, -93.14306], [33.331144, -117.159089], [29.585599, -95.200021], [38.853102, -121.107945], [40.038338, -76.458522], [32.938551000000004, -83.580506], [43.401146, -83.89102199999998], [38.905999, -77.07931500000002], [39.307373, -76.763673], [39.962071, -76.77672], [28.437277, -81.474124], [29.115037, -82.02523199999997], [42.724331, -87.950153], [33.920770000000005, -118.105], [32.890019, -117.227589], [35.915414, -78.78599], [32.688491, -117.093506], [35.428261, -120.77373500000002], [37.384076, -79.896142], [33.689012, -117.919357], [30.315088, -81.770993], [32.79575, -96.6922], [33.928543, -118.24545], [44.325471, -93.842215], [42.75987, -73.75274], [38.563222, -121.471444], [32.15882, -111.10605], [47.715754, -114.045025], [28.423899, -81.404781], [38.93996, -77.025024], [34.13064, -117.92973], [45.023268, -117.924654], [30.267681, -97.741468], [35.499025, -119.739271], [26.002855, -80.167179], [44.482322, -93.895694], [37.753139, -122.402833], [33.523801, -112.147105], [32.358845, -90.66582], [38.71084000000001, -77.221112], [38.593452, -122.849978], [25.963255, -80.178246], [37.82624000000001, -122.30135], [26.051899, -80.16188199999998], [36.15258, -86.83102], [30.435337, -91.17725], [36.612772, -119.718292], [41.1233, -104.77474], [25.69407, -80.301024], [34.149469, -117.25678], [34.410235, -117.399176], [41.101344, -73.985656], [45.766426, -92.96023], [38.241283, -122.269121], [33.856641, -117.875992], [37.808549, -122.312184], [34.080038, -118.471951], [25.770159, -80.369194], [35.392733, -117.79887], [36.828035, -76.285257], [25.883011, -80.22729100000002], [38.00178, -122.281783], [41.86583, -124.183387], [39.876014, -75.260054], [34.090781, -118.239441], [42.446558, -88.090326], [45.443326, -122.740879], [36.63424600000001, -119.59278799999998], [28.868939, -81.94506], [39.354586, -119.855612], [37.700341, -122.482832], [38.89568, -76.84866], [44.276723, -121.168909], [39.572257, -76.25496], [42.92186, -82.463963], [40.28488, -75.524622], [44.038684, -121.308098], [41.64403, -122.52236299999998], [44.97706, -93.08853], [39.160427, -120.149761], [41.790674, -78.209547], [30.260074, -92.014075], [35.74400900000001, -78.64673], [28.568564, -81.25197], [34.884789000000005, -82.19546899999997], [34.46837, -118.322056], [41.847219, -87.63551], [34.04008, -118.01702], [37.492862, -120.96748], [41.22449, -73.170908], [29.797228000000004, -95.271216], [38.882342, -77.019535], [37.717298, -122.17503899999998], [35.368931, -118.914219], [28.339351, -81.403842], [39.702628, -76.025121], [29.479686, -82.237122], [37.554555, -77.48456800000002], [34.03705, -118.30912], [35.272933, -80.836623], [29.681951, -95.51733], [44.562081, -123.061648], [46.202328, -96.008693], [34.448223, -119.275124], [35.13007, -90.0791], [33.654121999999994, -117.703677], [32.541466, -93.846794], [37.444139, -122.267688], [45.05953, -123.58671499999998], [35.843656, -78.682802], [33.899742, -81.274722], [34.036556, -118.37518500000002], [39.30751, -76.75494], [27.933868, -82.40191800000002], [42.405027, -83.13565799999998], [40.89076, -73.800549], [40.733774, -73.865464], [41.236545, -98.758179], [34.430138, -117.37783799999998], [45.40240900000001, -118.336935], [33.479354, -117.713875], [44.96574, -93.26784], [25.578347, -80.369697], [34.078664, -118.28817], [42.183111, -88.13561700000002], [34.084999, -118.474665], [38.328148, -78.931888], [33.947331, -118.279698], [30.10545, -95.43545], [38.87343, -77.22048000000002], [38.616066, -121.328648], [38.484049, -77.393865], [25.62062, -80.37866], [35.04277800000001, -118.149481], [44.669003, -118.320098], [40.69978, -111.893986], [34.344173, -117.461646], [38.785093, -77.65588699999998], [34.036857, -118.189196], [29.764740000000003, -95.392225], [40.62134, -74.1693], [38.833264, -77.102448], [44.54659, -93.29974], [32.88968, -97.08037], [42.78198, -83.53477], [30.23645, -97.83159], [34.004472, -118.06387], [28.63332, -81.45739], [33.786942, -84.39081999999998], [33.91183, -84.37395], [25.85834, -80.32283000000002], [41.531822, -71.836607], [25.924872, -80.299291], [30.234116, -97.589856], [35.36617800000001, -120.834787], [39.90476, -123.749365], [25.904649, -80.24203299999998], [39.278169, -76.553318], [34.02196, -118.27784], [36.953873, -76.52894599999998], [29.76548, -95.45602], [40.852899, -73.959242], [38.937209, -94.513288], [36.71392, -76.66825], [36.06613, -80.30704300000002], [36.570918, -121.74711299999998], [43.145834, -77.626081], [35.12957, -80.914502], [35.148063, -120.647231], [44.994109, -93.283301], [42.685376, -73.688518], [29.688985, -95.298652], [33.349224, -117.520848], [34.02414, -118.42779], [30.439411, -91.195997], [30.356224, -97.688705], [41.947584, -87.719576], [40.10653, -75.147808], [36.265182, -86.830828], [34.087415, -117.665944], [34.122925, -117.512383], [40.512353, -123.178013], [39.182757, -120.950016], [41.903863, -122.38232], [37.631484, -122.084465], [30.017464, -95.404501], [32.943052, -96.369334], [25.787519, -80.32090500000002], [32.723371, -96.758427], [25.900112, -80.18693], [34.030058000000004, -118.441556], [32.70791, -96.82986], [43.523572, -121.457387], [38.774989, -121.26128500000002], [33.001976, -80.098191], [34.061466, -117.789162], [33.876396, -117.660151], [25.92958, -80.188317], [41.95176, -88.16181], [42.161804, -93.570502], [34.664535, -80.803352], [45.432832, -122.565697], [34.063635999999995, -117.197417], [44.970359, -93.336747], [40.772035, -74.06145500000002], [42.753879, -77.92891999999998], [37.732007, -122.404976], [39.402996, -76.766275], [41.51291, -88.04706999999998], [42.484062, -87.946391], [41.058493, -73.81938000000002], [40.16701, -75.29019], [33.704055, -78.92984399999997], [45.67619000000001, -121.27884], [27.337764, -82.464917], [28.70675300000001, -81.509186], [40.066286, -75.313283], [39.757706, -75.542063], [45.651444, -110.942956], [39.286669, -77.53101099999998], [27.230965, -80.34257], [36.034555, -79.79675], [34.052699, -118.226207], [34.421603000000005, -118.431259], [37.618438, -120.979331], [27.446125, -82.50732099999998], [42.469453, -91.097781], [33.912493, -117.284602], [39.910293, -86.04177800000002], [25.963, -80.162042], [35.445287, -118.52846], [37.621651, -121.9437], [30.39677600000001, -86.595851], [33.872840000000004, -118.28188], [42.72391, -88.98979], [38.874017, -76.843947], [45.656695, -121.213174], [45.505465, -122.673288], [33.732585, -117.989329], [42.132989, -122.633829], [40.065261, -74.794921], [43.50415, -93.3545], [38.786806, -121.2955], [45.42438, -122.56911], [41.727047, -72.761689], [40.888858, -73.99839], [42.398634, -82.98328599999998], [43.600061, -116.56798700000002], [34.041057, -118.015026], [40.582488, -122.34377], [33.13015, -87.48894], [26.330444, -81.817113], [33.942443, -118.097349], [47.87308, -122.27661], [33.81863, -117.51502], [36.706234, -80.741304], [28.456009, -81.468629], [28.201013, -80.671424], [35.588327, -86.237461], [39.83108, -75.705383], [36.115096, -94.175781], [25.956354, -80.223513], [36.140234, -86.722248], [37.320731, -120.924052], [29.929096, -89.99664399999996], [32.816389, -96.78883], [41.059952, -120.472866], [40.77133, -74.15678], [33.48037, -112.8601], [27.604118, -81.50833], [35.2381, -118.842512], [34.075602, -117.998595], [34.088359999999994, -112.144577], [46.77999000000001, -92.4495], [33.883499, -81.037325], [33.982620000000004, -81.10708000000002], [33.960024, -80.889149], [42.464936, -123.323475], [33.801846000000005, -86.824857], [35.163649, -80.876024], [30.504543, -86.439623], [41.0384, -77.481319], [41.93925, -88.11071], [33.938171999999994, -117.877435], [30.442967, -91.05754], [28.524225, -81.335216], [25.898696, -80.38285400000002], [40.31606, -78.949225], [40.240879, -75.596212], [40.758153, -73.92855], [41.588176, -87.226949], [45.796498, -119.40142], [38.20119, -85.694035], [39.336683, -77.01365899999998], [37.64888, -77.597899], [25.808224, -80.313148], [25.701734, -80.348957], [30.00674, -90.291818], [39.722684, -121.806553], [28.503523, -82.336004], [33.42471, -112.35799], [32.542617, -93.826912], [37.493702, -77.43164], [37.38735, -121.98215], [36.07545, -95.872509], [28.781465, -81.624437], [34.264009, -118.441753], [29.50448, -98.58407], [37.31714, -92.965173], [34.215014000000004, -118.227874], [40.66693400000001, -73.77732900000002], [38.71671, -121.958659], [44.08258, -121.3013], [39.19777, -76.766098], [44.784597, -93.208125], [36.330006, -84.227041], [39.939656, -75.602376], [41.527574, -74.275713], [35.414531, -119.038971], [29.82519000000001, -95.4752], [41.357862, -87.316117], [25.898192, -80.213526], [35.34546, -78.5571], [26.576586, -80.17314300000002], [33.86962800000001, -118.055103], [40.869215, -74.330116], [39.949561, -75.307234], [32.779753, -117.076885], [27.845526, -82.699978], [33.818192, -117.918484], [33.530506, -81.935505], [47.054039, -108.803041], [33.769148, -84.390536], [37.895744, -121.712465], [34.142782000000004, -118.227255], [29.409188, -98.508857], [38.417108, -77.417987], [32.206691, -110.787219], [33.424755, -112.025045], [43.647441, -123.522842], [35.140166, -80.91289300000003], [38.039635, -78.83333499999998], [41.271748, -72.971114], [25.656129, -80.41741999999998], [42.297708, -85.035088], [36.15766, -86.77098000000002], [41.33763, -72.9787], [34.074472, -117.545031], [33.622840000000004, -84.49216], [33.640941, -81.735352], [33.88745, -118.10259], [28.55312, -81.382276], [34.019295, -118.157631], [25.734914, -80.33587299999998], [45.135763, -123.80677], [28.603263, -81.312209], [43.169035, -77.638719], [37.23984, -121.99685], [25.79319, -80.20551999999998], [38.560785, -121.464209], [27.300725, -80.41499499999998], [42.44734, -71.36025], [34.90168, -81.174228], [45.25376, -93.02307], [34.22475, -118.4488], [36.065391, -86.995953], [39.00799, -76.40386], [27.43125, -82.575466], [29.75781, -95.35209], [40.699174, -74.23865699999998], [28.485529, -81.417363], [40.69992, -73.96172], [34.594327, -117.256726], [25.904649, -80.24203299999998], [32.242683, -110.943945], [28.547273, -81.413824], [34.0366, -118.37637], [25.932329, -80.293591], [35.167712, -120.690393], [34.26225, -118.43997], [32.716491, -96.829004], [43.597172, -116.347349], [37.425733, -121.915837], [42.666639, -84.336215], [39.636752, -75.77879], [37.505489, -77.090367], [30.397047, -91.108351], [40.74491, -73.84745], [34.042006, -118.569377], [37.45455, -121.92266], [34.120076, -117.837967], [38.49655, -121.260823], [39.99754, -82.98465999999998], [30.581999, -91.021977], [39.349647, -77.376676], [27.821194, -82.667562], [38.60021, -121.460013], [26.667277, -81.82858399999998], [42.19367, -83.24101999999998], [40.17617, -111.64645], [41.222189, -74.184264], [32.20362, -110.949457], [33.181234, -117.336149], [38.511897, -90.367194], [30.38872700000001, -97.710362], [34.245362, -118.423881], [47.39555, -94.7775], [30.322996000000003, -81.537426], [34.118959999999994, -118.16268], [40.086916, -75.252853], [33.91294, -118.13128], [35.90985999999999, -84.12784], [40.854204, -73.965876], [34.088946, -118.208442], [32.868616, -96.770108], [25.672033, -80.381146], [37.71089600000001, -120.927836], [25.794155, -80.245026], [32.90551, -80.02524], [28.507165000000004, -81.228358], [28.47374000000001, -81.369508], [34.266024, -118.465672], [41.237029, -73.147036], [43.33901, -89.45508000000002], [42.359197, -83.076751], [42.24362, -122.77162], [28.064657, -82.73877], [38.421082, -81.626729], [43.061272, -76.564574], [33.804984000000005, -84.383149], [30.49296, -91.066354], [41.297127, -72.73819], [41.73528, -87.69712], [39.236216, -76.472472], [43.05897, -123.33996], [41.11738, -73.50048000000002], [44.16906, -116.94487], [38.012598, -122.001982], [40.710986, -111.904153], [38.678552, -121.224715], [39.812617, -122.19976], [34.933370000000004, -81.99298], [34.492166999999995, -118.283689], [33.924611, -117.655569], [33.977456, -118.075855], [44.8597, -93.366], [35.115882, -80.924222], [47.61068, -122.33561], [39.78396, -86.14331], [36.987356, -121.98793899999998], [39.63543, -121.41602], [25.718339, -80.399158], [34.028151, -118.449328], [33.595478, -78.997893], [44.42089, -123.06159], [39.97583, -83.11717], [39.06983, -77.17011], [25.50664, -80.416041], [25.887561, -80.164221], [42.103115, -78.42349], [42.542011, -71.2833], [38.70820300000001, -121.308381], [39.187005, -121.570899], [43.490397, -116.124412], [26.52556, -81.871071], [38.647278, -121.577215], [34.202424, -118.340166], [42.32785, -71.05878], [30.417459, -91.145539], [36.942847, -80.918415], [35.062544, -80.769856], [42.16307800000001, -88.056025], [42.96169, -70.86412], [34.145261, -118.20773], [34.132159, -118.002064], [37.492857, -120.967467], [42.186309, -120.434521], [34.084866, -79.858517], [41.198288, -75.453198], [26.226651, -80.13651999999998], [45.23837, -123.06205], [35.80838, -78.41861800000002], [29.841537, -95.298059], [34.21195, -82.14981], [40.486058, -79.94381899999998], [42.96073, -87.93437], [29.93771, -90.06214], [34.492116, -118.283743], [33.68376, -117.85972], [44.77833, -93.03497], [43.14545, -77.55534], [38.85411, -104.79429], [28.086929, -82.459547], [28.221077, -80.676312], [38.660077, -121.345939], [45.49195200000001, -122.792388], [28.55456400000001, -81.320133], [34.80115, -82.4269], [36.098706, -80.235967], [33.80939, -84.3755], [37.246183, -121.088681], [43.682857, -93.426646], [38.798261, -77.518512], [25.597573, -80.354562], [34.011982, -117.913217], [38.671045, -121.349617], [34.03559, -117.762354], [36.047521, -86.662936], [40.7066, -73.43034], [41.34961, -81.5085], [38.276293, -122.047378], [33.767713, -84.532145], [30.111925, -97.625028], [40.226395, -74.14308199999998], [45.503236, -122.56516], [41.79516, -88.36793], [33.802682, -117.879563], [32.673136, -96.779785], [41.67239, -72.82166], [28.06084, -82.35406], [44.813755, -123.970784], [25.747836, -80.3315], [33.43151, -112.59684], [38.337013, -121.89696], [37.976876, -78.21382], [25.940932, -80.30678], [28.423201, -81.404779], [36.686279, -121.681783], [44.951838, -93.142122], [37.55232, -77.46705], [34.244679999999995, -79.753529], [33.256585, -79.86654899999998], [45.14549, -122.88658999999998], [37.96469, -122.324915], [38.3278, -121.5769], [34.261911, -118.332094], [30.097357, -81.8397], [33.91704, -118.07969], [44.919667, -93.274493], [34.200685, -79.767703], [43.29976, -124.21225], [41.73054000000001, -86.32786999999998], [43.35573, -124.203861], [42.197147, -87.989498], [35.064563, -80.793441], [33.011957, -80.113651], [37.627819, -79.575766], [35.573903, -120.608554], [36.775821, -120.722934], [33.14662, -112.006891], [47.56639000000001, -122.68139], [26.70676, -80.11117], [41.20159500000001, -80.07436899999998], [35.134339000000004, -80.93934300000002], [33.92516, -117.88113], [36.966081, -76.291494], [32.91653400000001, -96.701888], [44.166652, -94.119433], [34.05603, -117.54662], [39.0958, -94.588161], [33.46305, -112.18034], [27.997272, -82.76301099999998], [32.74792, -83.71646], [28.546519, -81.382147], [34.788663, -82.392804], [29.866267, -95.40557], [45.214426, -93.034567], [37.758218, -121.513198], [29.719423, -95.496114], [43.047944, -75.463635], [33.861228000000004, -117.53736], [34.121471, -118.479667], [29.027756, -81.33589599999998], [33.92558, -117.422857], [33.937964, -118.09816], [40.674101, -122.350541], [34.806551, -82.232467], [38.871347, -77.165212], [27.950117, -82.327993], [25.73417, -80.302918], [44.11386, -123.18217], [33.774725, -84.406373], [25.79729, -80.321552], [45.81298, -122.853453], [41.511572, -72.78241700000002], [27.865140000000004, -82.78693], [40.958462, -76.901575], [33.308906, -111.972345], [36.164385, -86.688727], [41.133929, -73.815314], [32.75989000000001, -97.12756], [33.070639, -97.018665], [44.05631, -92.49525], [32.698068, -96.805989], [29.666146, -95.591336], [33.991023, -117.937886], [37.666293, -122.465493], [33.49714, -82.31979], [40.64105, -111.90326], [41.066763, -121.23252], [34.146751, -117.261387], [33.924683, -118.10397], [37.602721, -77.42935200000002], [47.301166, -115.183768], [30.53405900000001, -88.246452], [42.97108, -70.85436], [39.017845, -77.10935400000002], [47.210623, -122.336229], [38.223112, -122.257725], [28.438155, -81.471752], [37.58719, -122.34835], [36.441736, -119.689912], [29.729019, -95.441414], [34.035738, -118.184608], [40.048757, -76.315504], [38.5442, -90.2963], [38.97565, -122.84247], [40.75072, -73.75083000000002], [40.1692, -74.09347], [35.348887, -120.630752], [34.712509999999995, -82.5947], [35.203161, -80.880245], [28.603107, -81.4063], [39.602097, -86.374264], [42.927417, -85.657927], [32.101138, -110.993531], [38.64352, -121.39441], [36.719721, -120.360205], [40.88425, -111.89223], [41.30182, -112.02604], [27.359664, -82.446064], [37.231491, -77.514161], [36.903558, -78.53509], [30.69024000000001, -88.02018199999998], [32.570274, -96.82265], [34.961999, -82.862749], [47.069854, -109.385841], [41.21024, -111.9707], [34.127681, -79.36485], [25.957112, -80.205792], [28.83560300000001, -81.65996], [30.525068, -85.405487], [28.034661, -82.12816099999998], [33.735022, -84.391887], [29.651981, -95.451847], [39.894632, -105.337389], [34.136464000000004, -117.512635], [34.006482, -117.909514], [37.499961, -122.320251], [40.847582, -73.92505], [44.09765, -123.11458], [41.728496, -122.733397], [39.25689000000001, -84.60025999999998], [30.315613, -81.75529499999998], [45.02666, -93.08978], [37.634042, -121.001561], [33.04172, -96.70237], [40.85756, -73.97416700000002], [29.16221, -81.54779], [38.960534, -80.520547], [36.279076, -119.815145], [25.825862, -80.206666], [38.43499, -122.71677], [47.690497, -122.335083], [37.540175, -79.39165], [40.035757, -76.314198], [38.528294, -121.75793600000002], [35.135711, -81.474971], [42.0903, -83.24166], [28.552682, -81.415942], [33.776022, -84.390443], [39.412852, -123.336109], [28.596383000000003, -81.44370699999997], [34.063764, -118.247552], [39.925214, -74.951316], [36.842039, -76.216546], [33.02511, -96.98823], [38.570565, -121.382952], [32.929949, -96.803615], [30.410487, -91.06462], [29.76916, -95.33565], [25.760892, -80.394712], [32.911837, -87.278456], [29.704005, -95.570295], [34.220878000000006, -86.493481], [41.20408, -73.26956], [39.722016, -85.894362], [35.461165, -82.513123], [40.525297, -74.26601], [32.236109, -110.901159], [34.05301, -118.22875], [28.878432, -82.092536], [34.022608, -117.5752], [39.568644, -110.778096], [46.414135, -114.152145], [43.89381, -122.73668], [28.780317, -81.52783000000002], [44.959013, -93.090899], [34.02899, -118.01313799999998], [35.75349, -78.65245], [25.916591, -80.210306], [45.28098, -93.74669], [34.33988, -118.51888], [30.637308, -87.67451700000002], [39.04496, -94.39095], [40.252734, -76.869247], [34.863786, -118.20989], [32.65496, -117.106], [39.848603, -76.896631], [32.705759, -96.840171], [35.66656, -78.700281], [40.717488, -111.953355], [33.72878, -117.83399], [33.069571999999994, -79.97575400000002], [39.038125, -94.335941], [33.62683, -84.41891], [40.028375, -74.819823], [41.011082, -76.414136], [45.038665, -123.082548], [33.996109000000004, -117.889687], [29.5506, -95.38731], [43.014225, -83.71494200000002], [33.180849, -117.304975], [34.00792, -118.15658], [33.843721, -117.535107], [38.524214, -122.788771], [33.97146, -117.33087], [27.82103, -82.68051], [38.884427, -77.033527], [40.711823, -111.88827], [34.056062, -117.546582], [38.859053, -77.307435], [38.842903, -77.008656], [42.32148, -122.863127], [37.555451, -121.915723], [30.691604, -86.116675], [39.882769, -104.98746], [38.5603, -121.45731], [43.324043, -123.0242], [33.912209999999995, -117.28432], [45.651594, -109.257777], [25.796996, -80.334137], [36.82060300000001, -76.126997], [34.9409, -80.985815], [29.823745, -95.337641], [34.030877000000004, -118.274551], [36.13148, -86.72676], [39.60815, -77.72917], [26.124459, -80.16928], [48.96423, -122.4852], [45.50545, -122.67327], [42.29425, -90.68146], [37.893814, -121.79453], [34.779024, -92.261284], [44.233671, -93.439353], [36.388277, -86.261934], [41.551, -87.80006], [42.37727, -83.0383], [33.774562, -118.07433600000002], [35.807174, -78.722688], [37.506862, -81.116019], [25.896878, -80.286905], [40.63607, -74.20863], [35.25834000000001, -80.79479], [46.84594, -96.652088], [34.135717, -118.360258], [35.30407, -80.84921999999997], [40.479335, -86.855328], [44.543818, -93.442021], [45.29626, -122.65695], [34.579977, -117.880653], [45.851073, -108.583666], [33.971496, -118.378211], [41.51119, -88.08548], [40.377254, -78.86881600000002], [43.1813, -71.59813], [47.161345, -122.297429], [37.43765, -76.47715], [42.466541, -88.017258], [38.8567, -121.626602], [40.32812, -111.735169], [36.909266, -120.81857], [30.382431, -91.066477], [40.337606, -111.716685], [30.282105, -97.620113], [30.29491, -97.71972], [30.185037, -81.63715400000002], [32.84613, -117.23598], [43.001552, -78.813723], [41.57438, -72.51750600000003], [28.338466, -81.595123], [30.443613, -91.17882], [34.134787, -117.618074], [33.937679, -117.401479], [33.868836, -117.730144], [32.297582, -110.992345], [33.528506, -84.255658], [38.58130900000001, -120.966234], [34.777367, -114.480325], [38.263353, -121.189764], [28.416491, -81.42147], [33.920069, -118.269561], [32.789226, -96.587407], [27.820971000000004, -82.730515], [30.196212, -81.55613699999998], [41.323656, -76.577626], [46.904843, -95.353198], [34.639005, -112.323542], [33.68927, -117.91931], [29.909499, -82.551353], [33.527659, -112.121238], [38.44524000000001, -122.60501], [38.925495, -121.996626], [45.633433, -121.952142], [47.040121, -93.097408], [41.692753, -71.476712], [41.344649, -76.564841], [36.101596, -95.94018], [39.415457, -123.780214], [37.202038, -119.722683], [32.659037, -96.82311], [34.316666999999995, -81.991651], [25.921792, -80.244411], [47.409252, -115.50929], [38.510626, -77.377492], [41.557213, -72.924274], [29.685213, -95.528664], [37.86613, -121.66893], [37.785238, -121.696298], [29.92083, -90.01454], [36.171235, -119.340405], [34.504954, -81.860153], [29.986742, -90.116053], [33.945404, -80.525547], [41.82255, -72.66620999999998], [36.955644, -122.027855], [38.858476, -111.987956], [45.069254, -93.282197], [40.310869, -75.373734], [30.44640200000001, -91.057868], [25.840602, -80.386985], [34.805571, -82.80859], [38.942072, -121.097195], [40.177377, -122.222288], [37.87793900000001, -122.513987], [39.9838, -82.85656999999998], [35.00994, -85.22023], [35.015682, -82.182766], [42.95871, -76.932165], [37.334224, -121.84603], [32.908189, -96.768476], [30.648797, -88.12106899999998], [38.739813, -120.71974099999998], [34.276039000000004, -118.37833700000002], [33.850147, -117.875916], [38.641421, -121.460913], [34.03338, -118.114625], [40.006971, -75.199123], [25.831684, -80.205783], [44.048147, -123.174269], [41.297661, -95.773261], [42.902949, -85.67732600000002], [25.715104, -80.396569], [34.03592800000001, -118.349455], [26.609024, -81.654473], [37.611296, -77.56349399999998], [42.909518, -83.58435899999998], [33.385552000000004, -111.914731], [42.22238, -71.74448000000002], [40.026257, -83.091241], [32.77401, -117.12655], [42.56850900000001, -82.858618], [33.990761, -117.933884], [30.274837, -86.001664], [36.76957700000001, -119.749506], [45.208598, -123.197954], [36.16095, -86.79321], [38.838162, -122.589512], [33.90473, -84.47538], [40.110824, -75.165104], [41.53867, -73.00101], [25.808258, -80.266599], [39.608601, -75.947867], [41.83247, -87.69394], [44.91038, -93.14364], [28.454159000000004, -81.399799], [44.251751, -121.18443], [37.34257, -121.84761], [40.784866, -73.64466800000002], [44.959616, -93.207674], [33.977149, -118.237682], [38.65528, -122.595966], [40.72611, -73.90269], [38.560948, -121.46006], [29.569295, -90.682682], [33.673373, -117.886069], [34.347021000000005, -117.476956], [34.733378, -118.142208], [30.446455, -87.228475], [33.961091, -118.231788], [34.42631, -117.57473], [25.8078, -80.20571], [28.611123, -81.42939799999998], [36.15313, -86.76451999999998], [34.529554, -82.804397], [37.882606, -122.051683], [25.860951, -80.209603], [42.271489, -85.654712], [40.278099, -79.888039], [39.08809, -84.52274], [39.481061, -111.521881], [36.09008, -95.85867], [45.438348, -122.766627], [48.385683, -114.063866], [38.62445, -90.20641], [30.324461, -97.695263], [34.794636, -86.57661999999998], [45.167225, -93.525717], [40.428925, -79.93943], [34.0819, -117.716], [45.50732, -122.67014], [25.447535, -80.477171], [36.916518, -121.732728], [38.796189, -90.500426], [39.638758, -75.78747], [41.289013, -120.771855], [40.837723, -73.933836], [46.65765800000001, -113.130351], [42.457142, -87.90360600000002], [33.877283, -118.136956], [38.887621, -76.961899], [26.63648400000001, -81.745722], [34.962516, -89.995216], [35.086695, -80.93280899999998], [37.091489, -121.97836399999998], [25.883604, -80.21217299999998], [35.43154000000001, -96.12722], [36.924802, -79.376446], [41.263537, -96.079588], [39.94823, -76.68036500000002], [39.494941, -121.319472], [35.98329000000001, -80.00055], [35.738193, -78.589704], [26.154052, -80.202832], [34.031331, -118.1924], [45.483382, -118.404979], [32.963093, -96.342448], [28.319777, -82.324848], [44.632342, -123.099973], [40.438239, -80.012621], [33.189064, -117.277024], [28.56622, -81.486746], [26.492739, -81.810404], [45.89937000000001, -123.6826], [30.00775, -90.21779], [27.8211, -82.675887], [41.520353, -74.005636], [34.645716, -118.153057], [45.311425, -121.801182], [38.612374, -90.215331], [38.361715, -81.71500999999998], [46.599251, -112.942854], [34.154858000000004, -118.310865], [36.748403, -76.53335899999998], [34.055574, -118.24031], [33.789833, -118.207746], [29.01542700000001, -82.011736], [30.534106, -87.092496], [33.981069, -118.393724], [39.13678400000001, -76.687361], [27.808544, -82.753757], [34.235589000000004, -118.472957], [39.97985, -78.54296], [43.767895, -121.452999], [37.75629, -121.96311], [33.21005, -96.63779], [33.83242, -118.20899], [38.799485, -121.293191], [40.5935, -111.9027], [30.386256, -97.990622], [34.136399, -117.554022], [34.054990000000004, -118.23937], [37.7809, -122.23868], [36.330856, -119.391161], [38.986583, -76.88158299999998], [34.848999, -117.08619], [34.026471, -118.208674], [34.025409, -117.550071], [33.901070000000004, -117.46963], [38.85155200000001, -111.307503], [26.10233, -80.21825], [42.435368, -71.590301], [25.768604, -80.367869], [34.270499, -118.447559], [33.48399000000001, -82.20324000000002], [39.053619, -95.773378], [34.432694, -119.280065], [32.163213, -110.978632], [40.355978, -76.716442], [38.66056, -121.36072], [34.121389, -117.868355], [45.51737, -122.66803], [25.928453, -80.189477], [37.797871, -122.273036], [38.771254, -77.593611], [44.855128, -92.993742], [30.248823, -85.557247], [38.269532, -122.66687], [25.562831, -80.384912], [39.119704, -94.589238], [30.411957, -97.634102], [44.905554, -120.651694], [36.76298900000001, -76.26828], [33.851956, -117.815333], [45.359075, -122.355167], [40.56227, -111.9578], [35.22318, -80.72485999999998], [34.198, -118.47405], [38.87939, -94.67622], [37.8443, -122.29767], [33.802233, -117.234275], [35.85516, -78.58097], [33.556312, -117.673069], [26.61451, -81.6636], [39.38345, -120.092353], [38.424328, -122.556228], [34.009944, -118.30893], [36.150974, -86.864165], [37.679106, -97.267245], [33.886355, -117.517555], [38.184088, -121.843003], [40.705783, -73.45624000000002], [33.461372, -112.294483], [47.11759, -109.492144], [29.966942, -90.04046899999999], [39.663605, -76.886003], [33.54916, -84.26865], [40.597175, -74.235574], [33.669577000000004, -117.822656], [34.022281, -118.198491], [29.7993, -95.33963], [43.535245, -119.080859], [34.15482, -118.23978], [34.146214, -118.083096], [41.501702, -87.31966800000002], [38.644021, -121.378451], [36.773461, -81.772624], [40.46499, -74.2891], [33.365775, -117.257957], [34.14905, -118.37328], [34.155893, -118.242022], [37.13772, -93.29639], [25.769442, -80.33892900000002], [34.08741, -117.66528], [38.902333, -77.019903], [35.354057, -118.967589], [33.537939, -112.11243799999998], [33.871508, -117.666114], [33.971432, -118.377374], [35.792935, -78.613166], [44.86208, -93.484693], [40.844968, -73.918472], [40.611573, -79.760109], [33.640809999999995, -84.39996], [40.801591, -74.07222], [41.422909, -78.726857], [45.064212, -93.285738], [35.240524, -82.20493], [39.047201, -94.446083], [36.232672, -86.78146], [40.362153, -76.70756800000002], [46.310808, -94.987928], [40.41099000000001, -120.643002], [42.735475, -73.698981], [40.687773, -73.986999], [36.52630300000001, -121.46881299999998], [40.75921, -74.20895], [32.895685, -96.804], [37.80647, -121.99071], [42.57409000000001, -113.47833], [37.701168, -121.826389], [34.442301, -112.039556], [26.16419800000001, -80.146431], [38.05781, -121.21026], [37.58146, -77.46936], [37.42237, -122.226329], [37.706001, -121.086616], [36.261304, -86.712523], [33.935081, -80.370728], [36.402683, -119.455536], [29.7164, -95.46007], [28.128715000000003, -82.14786600000002], [41.182542, -79.673802], [37.360657, -121.915982], [34.704609999999995, -118.7945], [39.77073, -104.99099], [30.247905, -97.735227], [38.438083, -121.417662], [30.424719, -86.645248], [29.568581, -95.667809], [41.86170300000001, -87.92534], [29.989376, -90.08804], [37.65274, -77.431712], [39.75524, -86.143637], [32.839496999999994, -97.323342], [45.356214, -122.619573], [42.95803, -85.67164], [40.473154, -88.99430100000002], [37.416483, -121.913233], [32.250743, -110.879833], [37.762651, -121.439953], [34.433, -119.87559], [39.76678, -76.05022], [42.40054, -83.07091], [45.007692, -93.113454], [39.547005, -106.219542], [30.02596, -90.02441999999998], [25.630407, -80.382506], [34.156833, -118.41378], [43.880556, -90.142876], [33.570747999999995, -117.67203700000002], [25.950942, -80.18128100000001], [45.01051, -93.149363], [41.78346, -87.6306], [29.79457, -95.47571], [38.98585, -94.35693], [32.29195, -95.257967], [33.663273, -117.794916], [42.943979, -85.676611], [42.64357, -124.407332], [30.349702, -97.525205], [32.868149, -96.668048], [35.744932, -78.77853499999998], [33.67771, -84.41282], [32.163887, -110.936623], [37.562513, -122.039391], [27.821105, -82.697841], [44.43696, -119.29882], [34.30615, -110.950595], [39.69842, -86.143274], [25.630882, -80.38252800000002], [34.984412, -81.20540799999998], [33.81072, -118.291931], [33.72303, -84.50284], [40.7103, -74.18131], [41.522302, -85.055667], [33.632354, -112.189913], [36.568023, -76.199524], [25.950495, -80.14888], [37.3172, -121.93203], [34.298017, -118.421167], [39.546293, -76.83761899999998], [38.665868, -122.591242], [40.712153, -76.996553], [35.784754, -78.607628], [32.898677, -96.715017], [36.055061, -118.968246], [33.62598, -112.0997], [42.34305300000001, -88.058487], [40.78491, -73.94109], [41.714053, -87.650775], [34.15758, -118.4525], [35.13254000000001, -81.215428], [34.012961, -117.44043], [41.97341, -71.2953], [29.956232, -82.570132], [37.89722, -122.080303], [44.447188, -121.970969], [37.783751, -120.858034], [46.66022, -93.05123], [39.72244, -86.15876999999998], [34.046747, -118.214972], [41.87523, -87.69376], [40.028825, -75.023114], [35.40624000000001, -97.72482], [33.778366, -117.86739], [34.071316, -117.759415], [44.32862100000001, -93.293076], [34.957864, -119.710202], [29.68349000000001, -95.27551], [45.14405, -122.60986], [28.473212, -81.396746], [33.901790000000005, -118.376161], [35.240803, -118.587], [41.863079, -87.920174], [44.9246, -93.39955], [32.400678000000006, -110.956063], [34.063971, -117.287068], [45.205038, -93.393155], [34.50605, -117.835396], [39.346257, -77.084938], [43.00072, -76.14276], [27.440524, -82.57543299999998], [36.752647, -119.681915], [38.452638, -121.325487], [37.977042, -121.261768], [47.579265, -122.191818], [41.858393, -88.34046], [25.786226, -80.375403], [37.616922, -122.398446], [33.820944, -117.517894], [35.30706, -80.85056999999998], [33.84290900000001, -118.090799], [38.79934, -77.07112], [36.705795, -120.015594], [37.033522, -121.537465], [29.51763, -98.595], [41.694955, -90.565932], [38.11971, -85.67772], [35.607314, -78.564235], [44.960879, -93.26922], [38.594301, -76.045831], [25.954495, -80.205515], [34.645589, -82.152897], [30.385757, -97.648999], [42.33528, -83.21589], [29.73215, -95.38909], [40.156858, -80.13812800000002], [35.455981, -114.301296], [29.494031, -82.29368000000002], [25.956906, -80.192363], [32.759923, -97.213951], [33.427924, -84.182035], [42.944321, -83.699265], [34.28556, -118.41179], [34.157564, -117.244374], [34.073187, -117.392097], [38.071542, -77.32123], [40.910951, -74.0708], [34.219247, -117.071675], [47.39644000000001, -122.23141], [30.536412, -87.31304399999998], [33.039848, -117.283718], [43.710426, -92.529376], [43.752009, -123.143795], [33.920831, -118.05523], [40.585223, -122.357536], [40.163151, -74.14806899999998], [33.309484000000005, -96.59083], [44.695504, -117.691415], [34.00293, -118.411254], [34.221944, -118.366795], [37.566608, -77.481338], [34.024933000000004, -118.43411299999998], [34.06859, -117.395894], [37.72342, -113.05748], [34.07941, -117.738401], [38.866034, -76.99155400000002], [39.460018, -76.303273], [30.423714, -91.138991], [37.76266, -121.43995], [38.643411, -121.43359], [34.130563, -117.960455], [38.88226, -77.024], [40.008976, -75.290407], [39.356986, -76.484466], [39.18638, -104.85025], [43.304249, -73.639933], [38.46659, -121.49688], [33.288327, -111.971272], [35.797654, -78.56290200000002], [32.898166, -117.11642], [30.51015, -91.171558], [30.436819, -91.084461], [36.220303, -86.69319], [39.165219, -76.643532], [28.48054, -81.207523], [37.351164, -120.623889], [33.563886, -117.664687], [33.356176, -117.530525], [45.47339, -119.67819], [42.962639, -85.596529], [38.472732, -122.907175], [34.161477000000005, -118.081122], [41.408118, -81.634568], [38.948752, -121.156317], [38.785908, -90.495671], [33.56994, -111.89084], [34.15952, -118.46386], [39.17665, -94.56266], [32.727563, -117.104385], [35.88938800000001, -119.273371], [44.59819, -123.60173], [34.265123, -79.727236], [39.943803, -77.619016], [35.77294000000001, -120.69277], [33.923342, -118.103681], [39.05651, -84.54286], [40.71837, -111.877164], [34.004137, -81.112059], [25.69119, -80.34825], [34.264293, -111.237074], [33.46209, -112.11829], [34.03109, -118.259205], [38.61129, -90.20423], [34.055654, -118.240168], [40.32388, -77.17317800000002], [38.6178, -121.497862], [39.326773, -77.625006], [38.940171, -94.578756], [37.58567, -77.42385999999998], [26.331984, -81.80611999999998], [30.291090000000004, -97.827181], [36.969904, -76.41712700000002], [32.67005, -96.82249], [39.77825, -104.88298], [38.08841500000001, -122.55497], [28.31178, -81.466311], [28.986062, -81.990505], [36.16291, -95.90799], [40.698782, -74.943751], [38.370941, -77.465769], [47.62179, -122.1889], [45.977483, -112.508186], [35.762299, -78.56021199999998], [33.945452, -118.313676], [38.911813, -76.996135], [37.302793, -122.200889], [39.365947, -78.046425], [33.854509, -117.906786], [28.026696, -82.704897], [29.825376, -95.380252], [34.126870000000004, -118.856432], [41.85293, -71.71767], [30.527490000000004, -97.69057], [33.675678999999995, -117.840641], [37.64271, -121.88707], [42.943706, -83.71231800000002], [27.893737, -82.662867], [37.593568, -112.893932], [42.962669, -78.920749], [32.456511, -93.797306], [45.915431, -119.134672], [32.785340000000005, -117.207559], [33.735741, -93.526192], [30.403731, -97.63849], [40.88383, -74.129871], [33.113409999999995, -96.67214], [42.18265, -87.98945], [40.363744, -79.842612], [42.907739, -73.87423000000003], [30.239024, -97.689253], [26.151475, -80.16748199999998], [28.597322, -81.299982], [32.715745, -96.617555], [38.56764, -121.33323500000002], [34.123446, -118.342199], [28.357124, -80.697918], [37.8459, -122.24781000000002], [25.496542, -80.45066800000002], [29.809857, -95.412386], [32.763729, -117.160898], [27.269363, -82.49662099999998], [28.450094, -81.476538], [32.99767, -96.78125], [34.114859, -118.268294], [41.72552, -72.78145], [30.361763, -90.987124], [25.923052, -80.309213], [32.64761, -96.871647], [38.71245, -77.456252], [39.241655, -121.05441100000002], [26.620878, -81.74959100000002], [29.95663900000001, -90.073179], [30.6531, -88.0691], [39.235697, -76.618739], [28.659340000000004, -81.38843], [40.192534, -77.979095], [44.97997, -93.2444], [40.86546, -74.01353], [36.280763, -115.28795], [35.909317, -84.58523100000002], [39.099125, -94.622613], [27.435982, -81.41879899999998], [44.97041, -93.34599], [41.10381, -74.02162], [48.848836, -95.636749], [33.758070000000004, -117.85854], [25.78237, -80.22423], [41.93164, -87.69476], [37.870778, -121.640999], [34.431286, -118.587839], [29.61252, -95.211886], [32.682234, -97.240386], [38.98706, -76.62253], [25.818988, -80.320561], [40.879038, -72.537813], [37.944921, -122.48581], [25.694982, -80.32233000000002], [42.39197, -83.0042], [30.373408, -97.727527], [40.653109, -111.95787], [36.62353, -121.58161], [41.54617, -72.109095], [34.639864, -81.866064], [25.03424200000001, -80.500431], [27.04986, -82.395993], [36.601991, -79.890158], [29.61434, -98.46704], [38.81239, -121.300016], [44.149712, -122.584896], [34.741507, -82.049675], [27.473458, -82.543425], [33.989215, -118.241834], [35.374895, -118.936393], [35.243761, -79.256952], [37.408962, -121.878557], [32.814766, -96.809059], [34.104427, -117.199155], [34.334822, -82.685439], [40.067549, -75.146682], [34.05938, -117.29819], [37.240685, -121.766421], [33.74528, -84.33798], [40.9307, -78.27938], [34.005855, -117.550168], [32.23578, -110.9779], [37.57986, -122.32366], [34.39236, -118.47259], [32.772659999999995, -117.01709], [25.92567, -80.26558], [29.964672, -90.097021], [40.602291, -74.057765], [39.653166, -75.711539], [25.821392000000003, -80.242722], [33.887294, -118.362557], [36.326133, -119.134908], [33.463682, -86.824236], [40.6217, -111.90387], [46.225737, -95.3228], [30.499974, -91.123999], [45.080303, -121.540769], [38.93931, -94.74815], [34.001204, -117.376026], [39.54906, -86.46899], [34.524494, -82.735176], [33.774107, -118.049672], [41.36784, -82.48868], [31.57233, -84.11518000000002], [40.5681, -112.03186], [34.027611, -118.2322], [25.925994, -80.15794100000002], [40.1221, -111.65928999999998], [33.913353, -118.125438], [25.684871, -80.400574], [44.49151, -87.93961999999998], [40.70329, -111.95314], [34.056062, -117.546582], [38.27712800000001, -85.956848], [34.176337, -118.861341], [34.688185, -82.99610600000003], [38.60516, -109.596], [39.401459, -77.403885], [25.695594, -80.330083], [36.82498, -77.952386], [25.891157, -80.372263], [33.18205, -87.366798], [38.863632, -77.338463], [34.021823, -79.221744], [35.8931, -78.55939000000002], [45.535245, -122.563934], [35.91608, -78.9841], [28.240713, -82.318135], [30.302071999999995, -81.640883], [34.892585, -82.233387], [33.447728999999995, -117.635559], [36.739669, -79.936318], [29.735991, -95.476514], [35.167885, -80.876038], [41.299806, -73.950165], [33.46209, -112.11829], [43.14949, -123.3721], [28.44984, -81.47358], [42.290918, -84.26401700000002], [34.253240000000005, -118.43121], [37.63874600000001, -77.525902], [38.441006, -81.833533], [34.007020000000004, -117.82629], [38.82468, -77.304291], [35.7434, -78.76259], [29.364448, -98.634148], [42.914162, -85.583578], [34.004411, -118.06364], [28.277438, -82.719362], [35.826941, -78.569272], [41.245862, -78.861027], [40.60359, -74.01873], [44.308717, -120.88694], [28.548382, -81.413617], [25.88582, -80.20896], [44.94079, -93.4563], [39.25655, -76.66425], [40.60948, -111.968425], [37.31618, -121.82951], [29.457548, -98.321052], [37.976914, -122.064403], [30.648347, -85.012346], [25.80919, -80.206091], [32.203707, -110.965378], [45.24736, -93.02597], [43.160571, -77.630773], [34.07175, -118.099592], [33.543820000000004, -117.67403], [42.422728, -122.85192], [32.88377, -117.242396], [36.758749, -76.345191], [33.873928, -118.19338], [37.971184, -121.33478], [30.363074, -97.900582], [37.807682, -122.239863], [29.962291, -90.07523], [37.217042, -112.976099], [32.96005, -96.91508], [34.17295, -118.56822], [47.61907, -122.32865], [40.83488300000001, -73.866244], [25.7644, -80.38803100000001], [42.312319, -124.41458], [28.007184, -82.50361], [34.189684, -117.426408], [38.029464, -92.763975], [37.4664, -77.53563], [38.479467, -78.81153499999998], [38.967967, -94.77619], [34.96777, -120.444443], [43.252974, -77.68688], [40.039597, -123.777981], [33.1748, -97.09196], [34.918056, -118.923889], [34.210792, -118.407093], [33.834416, -118.208601], [28.434273, -81.40463000000003], [44.955635, -93.347395], [45.08838, -93.187634], [28.86136, -82.09178], [36.70306, -119.786], [41.538366, -72.824224], [34.068884000000004, -117.972351], [43.555995, -76.114836], [35.69750900000001, -79.428352], [37.320016, -121.833559], [36.167808, -86.81546800000002], [25.761476, -80.365402], [34.066382, -117.471002], [38.521081, -78.776983], [38.60891, -90.21187], [36.807012, -121.72256000000002], [43.914982, -93.277262], [41.679457, -122.716553], [27.793435, -82.35596899999999], [40.784479, -73.94199], [33.87413, -117.8805], [39.325507, -74.61533100000003], [35.90717100000001, -86.445225], [25.884154, -80.35106999999998], [36.22089, -86.7747], [37.635142, -122.102394], [41.94678, -88.20805], [41.71466, -87.63195], [33.96638, -118.164896], [33.874872, -117.545202], [40.499972, -74.383009], [38.4375, -90.91199], [33.855885, -118.010433], [39.343667, -76.494567], [33.386005, -111.805683], [35.693067, -119.710153], [47.528671, -95.538648], [29.356123, -82.22184], [34.293937, -117.453439], [37.710968, -120.893973], [40.22435, -76.2951], [29.786626, -95.340397], [34.133075, -118.352506], [25.76972300000001, -80.33341300000002], [40.87399600000001, -111.93002], [25.920667, -80.309156], [41.89301, -71.37746], [42.963784, -112.42847], [34.19239, -118.40236000000002], [43.181759, -77.61367299999998], [25.770268, -80.36920400000002], [33.534620000000004, -86.86251], [43.191109, -83.833803], [39.110713, -94.565329], [38.464576, -77.40843199999998], [40.851585, -74.177386], [39.21063, -76.064897], [30.261315000000003, -82.108458], [37.138863, -79.268385], [33.98978, -117.90554], [35.17684000000001, -80.75656], [36.633007, -119.412921], [34.165014, -118.474892], [32.872026, -96.735504], [32.07073, -81.16027], [25.807445, -80.290992], [35.718019, -78.583795], [25.685945, -80.394936], [46.309914, -92.827032], [39.073017, -121.087166], [33.803733, -118.138798], [33.934154, -84.49385500000002], [39.6952, -75.62009], [29.958513, -90.078424], [34.355953, -118.507901], [34.2773, -119.295533], [28.032036, -82.134069], [33.819569, -118.192076], [40.778976, -74.056724], [41.88509000000001, -88.19448], [32.700509999999994, -117.141453], [29.740549, -95.28835], [39.1324, -121.635533], [34.0588, -118.253148], [44.131811, -123.050726], [33.70919, -117.850968], [36.534934, -119.582086], [30.458875, -97.667073], [38.36592, -121.07647], [29.60911, -98.50824], [34.028313, -118.449325], [34.0334, -118.11427], [28.611344, -81.414753], [45.054802, -123.080916], [41.54235, -72.78029000000002], [40.17618, -111.64677], [37.49189000000001, -121.91919], [34.183119, -118.150727], [37.638856, -77.555686], [34.23135, -118.26743], [38.037939, -78.340272], [26.05713900000001, -80.162711], [33.934521000000004, -118.3559], [34.06821, -118.023756], [43.117921, -75.29225500000003], [43.14138, -88.58261], [33.7745, -118.06948], [45.307673, -93.585687], [26.03861, -80.16372], [27.730017, -82.003186], [40.045348, -78.73911], [29.923659000000004, -90.101643], [33.634177, -112.220068], [45.38467, -122.57922], [25.760878, -80.41873100000002], [40.114374, -75.3441], [34.018906, -118.173251], [25.889368, -80.206795], [40.248935, -76.876683], [33.472544, -112.267172], [45.02613, -92.98477], [39.83552, -105.02235], [27.29886, -82.53027], [40.64715, -74.83494], [33.973535, -117.372704], [39.59641, -76.059669], [47.063938, -122.758108], [40.117696, -75.423686], [40.673543, -73.801485], [38.76509, -77.18276999999998], [33.472962, -86.828734], [28.524241, -81.333015], [40.113396, -75.34988], [25.71537600000001, -80.431229], [27.337738, -82.48236], [27.916463, -82.33636], [25.932213, -80.203862], [26.70882000000001, -81.607034], [34.013744, -118.178947], [38.31601, -81.55355], [35.153905, -89.888632], [29.959791, -90.069565], [34.229923, -117.211105], [29.440499, -98.484313], [33.80634000000001, -118.14685], [33.945807, -80.52990600000003], [28.553187, -81.367283], [33.502227000000005, -111.934864], [47.66568, -117.14615], [36.057728, -95.905894], [34.294569, -81.973584], [38.891505, -76.84959], [36.143571, -86.70188], [39.261275, -76.673415], [38.785603, -77.178637], [34.19395, -118.40681200000002], [26.678591, -80.069829], [45.279239, -93.742979], [25.769106, -80.35156500000002], [28.471551, -81.39654499999997], [37.827354, -121.06483], [33.960007, -118.286764], [34.344495, -119.293595], [35.14676, -80.81931999999998], [35.90738599999999, -78.899484], [35.046899, -80.98537900000002], [43.601163, -116.283792], [33.684891, -117.330225], [25.857782, -80.20948100000003], [37.119847, -121.976042], [45.03333, -93.40069], [34.745704, -82.25940899999998], [40.033151, -76.24517900000002], [35.412326, -119.048597], [29.553273, -95.11861], [25.68569, -80.365965], [40.743216, -73.838371], [37.36034, -121.84158], [33.538073, -117.173577], [25.893601, -80.261645], [36.671789, -119.733769], [37.89741, -122.311741], [32.149032, -90.278187], [26.81166, -80.20522], [35.017587, -81.949027], [43.063136, -73.91608000000002], [34.552901, -79.195809], [45.767422, -107.909098], [34.20978, -82.143237], [40.116442, -75.138019], [44.867804, -93.247336], [30.24212, -81.51451999999998], [27.452458, -82.530221], [42.40414000000001, -83.21844], [46.385533, -94.258425], [40.771714, -111.949141], [34.029671, -117.749177], [44.051917, -93.064259], [37.275849, -80.13855799999997], [41.275023, -112.02609], [41.87555, -87.62869], [45.831845, -95.264094], [42.239241, -123.09266], [25.887369, -80.210684], [38.914105, -77.036512], [33.558975, -80.824292], [30.3078, -81.71301], [33.194091, -117.258137], [30.39562, -81.561803], [27.521256, -82.545248], [34.225399, -119.159436], [35.906022, -78.974021], [42.91008400000001, -83.725735], [40.044854, -76.175798], [37.607055, -120.857551], [42.83721, -117.63346], [28.385739, -81.50255200000002], [25.762305, -80.324947], [37.430971, -77.43968100000002], [45.914043, -119.323614], [36.938212, -80.999928], [45.25992700000001, -93.708003], [40.65381, -73.93061999999998], [25.909499, -80.236108], [30.423037, -91.139393], [40.866855, -74.03846300000002], [42.164529, -88.058255], [38.892018, -77.00588499999998], [32.66704, -97.35148], [38.710139, -76.87784599999998], [36.689622, -121.656923], [36.139944, -85.428496], [41.573996, -87.458692], [44.86809, -93.20074], [28.554995, -81.37921300000002], [40.85953, -73.91564], [28.536742, -81.39317199999998], [33.806931, -118.15093600000002], [39.314641, -108.21306], [41.745455, -72.735555], [38.31298, -81.55909], [33.573799, -92.814425], [38.680612, -77.231418], [30.388246, -87.076838], [37.94257, -122.47814], [41.80848, -93.3101], [33.97867, -118.07803], [32.887028, -96.495833], [30.453368, -91.270586], [38.369313, -120.797538], [37.698235, -121.95301], [42.49641, -83.35094000000002], [33.928236, -118.254273], [34.064104, -118.250347], [34.470848, -118.318908], [33.989034000000004, -118.06487], [27.889173, -82.333166], [34.083195, -117.63329], [40.79833, -73.47336], [36.992694, -119.413801], [34.861498, -82.35624399999998], [33.969989, -118.31991399999998], [41.490479, -72.810934], [34.656127000000005, -80.770416], [37.87419600000001, -121.64153], [35.24850700000001, -78.380874], [25.684458, -80.44606800000003], [34.046996, -118.267955], [40.007164, -83.118599], [33.43848, -80.57681099999998], [41.546536, -112.067581], [36.007479, -83.873412], [25.860739, -80.24121], [43.586186, -93.404034], [39.675558, -78.791815], [33.552539, -117.1403], [40.632609, -74.91040799999998], [42.74103, -84.613613], [42.973117, -85.6926], [33.85923, -117.25814], [40.66637, -73.79016999999997], [37.686721, -122.130109], [42.26404, -88.17898000000002], [39.84798, -75.09573], [25.578347, -80.369697], [30.414466, -91.098966], [44.610328, -121.14418899999998], [33.883306, -81.068321], [33.775504999999995, -117.853062], [25.881168, -80.242938], [44.79863, -93.39875], [40.514952, -77.654466], [37.554734, -79.661661], [33.664072, -81.674274], [34.064879, -118.002513], [32.877391, -96.515976], [39.766009, -84.152004], [33.96546, -117.85084], [36.976975, -119.793978], [44.65866, -93.00543], [32.791919, -96.602713], [32.75971, -97.13479], [39.386378, -106.054582], [37.803873, -122.232722], [44.10565, -70.07669], [40.03619000000001, -76.45578], [33.915859999999995, -84.41301], [47.76004, -122.16046], [33.372698, -117.253431], [26.146789, -80.342099], [39.503105, -106.14916200000002], [39.827408, -104.978391], [29.960829, -90.076392], [41.027452, -76.35597800000002], [28.341625, -81.482869], [28.39247, -81.367548], [34.040936, -118.073511], [35.376226, -119.145461], [42.65738, -73.74157], [35.002065, -80.973626], [37.367342, -121.901196], [43.114761, -75.211404], [45.405914, -122.744024], [33.82323, -118.20705], [40.08579, -82.90732], [34.072231, -117.926699], [33.01398, -96.97993], [37.197612, -93.276244], [25.810388, -80.15029200000002], [33.77929, -78.79155899999998], [29.810513, -95.261443], [41.550178, -73.058711], [44.73611, -123.05318], [25.700184, -80.40880200000002], [33.57116, -84.52994], [40.40187, -104.99355], [42.265417, -124.400837], [38.828011, -77.815915], [29.73247000000001, -81.889074], [43.404599, -73.710122], [26.12938, -80.21791999999998], [38.87524000000001, -77.040165], [26.70206, -80.07269000000002], [41.551313, -73.03944], [34.08827, -117.30175], [34.029564, -117.974105], [39.394204, -77.409137], [35.818208, -78.60819599999998], [41.074565, -120.469905], [39.24105, -76.59042], [25.94629500000001, -80.158313], [45.39327, -122.74853], [38.62269600000001, -121.4128], [37.104826, -121.890367], [39.556154, -77.6111], [41.85964, -88.03986], [35.18564, -114.50053], [38.429487, -78.875491], [32.75975, -97.057014], [32.742424, -96.653098], [34.06754, -117.55489], [40.087005, -75.164589], [40.841846, -111.911802], [33.910927, -118.172337], [34.202727, -118.90112], [33.855903999999995, -118.007165], [29.848224, -95.319079], [26.243733, -80.136685], [32.19185, -110.82398], [38.431881, -78.873091], [32.134028, -110.979651], [42.68419, -124.424481], [38.633958, -121.499768], [40.799824, -73.929906], [34.097517, -118.616563], [29.04301, -81.9294], [38.959783, -76.653059], [45.53673, -122.66838], [40.975869, -78.52498], [38.69268, -121.757272], [40.061801, -76.396419], [43.454114, -119.020138], [36.917802, -121.812601], [36.744021, -119.819759], [33.972613, -118.168047], [35.271595, -80.85174599999998], [36.021961, -119.026229], [27.924799, -82.84294200000002], [35.155208, -80.795451], [32.82871, -96.824978], [40.81113, -73.96683], [47.179959, -122.29371100000002], [37.059331, -121.584697], [41.28223300000001, -72.866679], [37.125281, -113.531073], [39.7785, -84.164682], [36.545206, -119.34053], [41.81663, -88.16825], [36.83685, -76.09631999999998], [41.782029, -72.569426], [28.36821, -81.31551], [41.38375, -81.21248], [34.156467, -118.250485], [37.673367, -122.099542], [42.316536, -88.446053], [35.06504, -80.84119], [38.898671, -77.072337], [35.031942, -80.962523], [34.072706, -117.74198], [33.859163, -117.876304], [33.710253, -117.782227], [28.486974, -81.413537], [41.055174, -76.234418], [31.333946, -89.352401], [41.74412, -87.592428], [25.580183, -80.368976], [29.54939, -95.14982], [37.700839, -121.794374], [30.44008, -91.20626], [32.81233, -96.79121], [37.182091, -93.281324], [25.71377, -80.382491], [28.493588, -81.47748100000003], [38.22942800000001, -121.43342], [40.02752, -122.099864], [46.040192, -95.841454], [25.933324, -80.121862], [38.861968, -77.87684200000002], [37.695976, -122.115435], [26.547508, -81.785103], [26.263399, -81.54499799999998], [33.880344, -84.271799], [42.96183, -87.96066], [40.995042, -76.871889], [34.364649, -119.036473], [39.605319, -77.31880699999998], [33.65625900000001, -112.125811], [32.790112, -96.919523], [40.743188, -124.198925], [39.751758, -120.597002], [26.84162700000001, -80.13001700000002], [47.066264, -114.072616], [40.957031, -77.68531899999998], [41.037636, -73.949393], [39.66793, -74.97216], [30.362, -97.68559], [26.679526, -81.900622], [42.928104, -85.655567], [34.114940999999995, -118.241311], [28.382065, -81.404628], [37.647508, -77.587598], [37.929179, -81.157539], [45.35648, -122.35787], [30.378555, -91.117012], [44.96066500000001, -93.344865], [35.3646, -80.74843], [39.19919, -94.62477], [32.219748, -110.909512], [39.824541, -75.082071], [44.96570300000001, -93.257657], [41.9979, -87.681388], [28.49326, -81.43301], [37.43031, -122.10368], [33.266762, -84.099065], [35.818949, -119.36507], [32.77868, -117.115718], [37.194749, -77.51526700000002], [37.061349, -119.357062], [38.903778, -77.216645], [34.152005, -118.143225], [28.09379, -82.50224], [33.200389, -87.57549499999998], [44.670088, -121.092539], [39.670691, -75.599587], [39.12165, -76.55205], [38.510311, -121.464578], [27.864621000000003, -82.702427], [38.916181, -77.217804], [35.446933, -118.908001], [44.22193400000001, -93.276296], [42.84653, -87.94909], [39.958538, -75.167068], [39.24711, -94.4544], [35.842098, -78.679322], [45.384619, -120.789105], [34.059178, -81.134015], [35.23653200000001, -80.940658], [33.90596, -118.230228], [37.794009, -120.959902], [38.551727, -121.699358], [34.504653999999995, -82.588303], [42.240438, -87.96369399999998], [37.480535, -121.93458400000002], [28.160128000000004, -82.740338], [39.335278, -77.377608], [32.803709999999995, -117.21332], [32.412434999999995, -80.75068399999998], [35.22027, -80.81085999999998], [35.753722, -78.847965], [30.559276, -91.121174], [38.550373, -76.026187], [32.284632, -110.978105], [35.49204500000001, -87.44511], [35.152315, -80.8764], [37.945346, -122.50758], [36.199826, -86.618984], [34.34461, -118.50483], [47.241157, -122.350133], [36.051222, -119.125319], [40.04035800000001, -76.305139], [34.83995, -82.16771899999998], [36.835581, -76.288236], [40.127551, -75.342883], [41.83436, -87.63118], [32.919413, -117.236004], [37.327992, -121.940876], [33.902101, -118.265363], [36.75962, -76.272636], [46.160073, -123.900923], [34.190977000000004, -80.682468], [28.174733000000003, -82.40329], [38.055801, -121.741696], [25.559789, -80.368893], [36.209879, -86.691066], [40.798396, -77.853695], [37.193481, -93.317351], [32.920782, -80.03703399999998], [44.494653, -118.639216], [45.781627, -94.827729], [43.167205, -73.714339], [37.228062, -76.61913], [37.167596, -121.689026], [34.02421, -117.55952], [40.432573, -74.249092], [34.108824, -81.222078], [38.16795, -122.20239], [28.145668, -81.45571], [33.757, -84.4943], [29.704883, -95.541259], [37.73313, -122.412227], [42.692358, -73.84396], [25.685223, -80.417573], [32.752144, -117.123751], [27.916476, -82.762469], [38.36464, -81.68633], [28.489272, -81.45875600000002], [37.357547, -77.441974], [38.18661, -85.78381999999998], [34.96176, -78.84604300000002], [25.563313, -80.38444399999999], [39.914504, -75.428626], [42.464412, -85.652573], [41.242676, -76.726833], [34.87651, -92.11693], [28.218218, -82.340588], [40.773675, -74.155215], [33.601817, -117.87631299999998], [29.589189, -98.612651], [37.578796, -77.501684], [28.66183, -81.38979], [33.02163, -117.078884], [34.032990000000005, -118.13831], [39.98562, -82.93974], [41.429643, -73.251455], [40.59996, -112.472626], [33.985223, -118.252099], [43.914982, -93.277262], [34.550406, -82.79807], [33.925052, -118.292665], [30.22232, -81.51424], [40.599312, -74.007517], [32.882755, -83.669804], [34.140377, -81.373223], [40.095067, -105.102918], [25.747978, -80.306465], [25.769469, -80.33806899999998], [38.057629, -121.303657], [37.826501, -121.253748], [28.210269, -82.657753], [25.737922, -80.31981400000002], [34.120436, -118.271244], [36.742122, -121.774249], [34.120494, -117.907538], [28.582271, -81.416717], [43.152616, -77.69100999999998], [38.871316, -77.044395], [33.640118, -84.454549], [25.817128, -80.20598299999997], [33.859544, -117.922881], [33.917103000000004, -118.104564], [28.494524, -81.396764], [35.12575, -120.596282], [26.323367, -81.805314], [25.724834, -80.318788], [43.637625, -95.132848], [45.276887, -122.668135], [35.81757, -78.598435], [42.415543, -83.218876], [26.045612, -80.162826], [30.352016, -97.59167], [33.874272, -118.195735], [40.767849, -73.884676], [32.900307, -96.71769], [40.741914, -74.083929], [28.537340000000004, -81.36501], [45.21835, -122.58154], [27.987956, -82.32656999999998], [26.838817, -80.130094], [30.30762, -97.711426], [33.881439, -117.649561], [25.762153, -80.263191], [38.38559, -122.71631], [45.59516, -93.601], [25.890681, -80.17614300000002], [33.86117, -118.285158], [35.1174, -80.92158], [25.567263, -80.38058000000002], [37.37584, -118.42752], [34.155008, -118.40001200000002], [36.04433, -86.65701999999996], [26.332298, -81.806152], [33.149256, -87.545564], [33.461576, -112.094503], [36.607205, -120.589392], [33.887293, -118.362447], [40.69129, -74.26723], [42.325951, -88.144989], [39.176121, -94.532993], [35.738561, -78.86523000000003], [30.715745, -85.93006899999996], [41.723859, -88.00824300000002], [44.933055, -93.412831], [28.408861, -80.7956], [35.093474, -80.794026], [25.577634, -80.37694599999998], [45.94169, -123.91915], [37.80118, -122.28202], [44.867001, -117.816752], [34.14517, -118.2178], [29.58958, -98.60906], [41.766302, -72.651916], [32.848077, -97.016966], [33.18477, -97.10553], [42.518439, -83.680375], [29.942561, -90.073782], [38.620945, -77.800508], [33.810572, -118.113574], [33.853802, -117.900857], [37.60342, -122.06418], [37.84422100000001, -122.275173], [34.038463, -118.02102], [41.56755, -78.690472], [29.995942, -90.110336], [27.954896, -82.462259], [37.773551, -121.17801], [35.018884, -80.957404], [36.081558, -94.198826], [44.86181, -93.51147], [37.55527, -80.05319], [45.09091, -93.44438], [34.14809, -118.27958], [43.13079000000001, -77.66476999999998], [37.41037, -121.99379], [40.73235, -73.98494000000002], [33.7224, -117.79942], [37.830937, -122.267273], [39.1898, -94.61736], [39.10355, -94.57206], [36.164272, -95.90458], [37.626486, -122.125836], [40.759481, -73.838864], [28.552545, -81.43085], [35.22422800000001, -80.828529], [25.899614, -80.182822], [45.259035, -122.286188], [25.731925, -80.317114], [25.861317, -80.242201], [44.969471, -93.304337], [38.469335, -121.401841], [40.752151, -73.746825], [40.24078400000001, -76.89121800000002], [44.969401, -93.303545], [33.506878, -81.548798], [46.746343, -95.231748], [43.192542, -77.584424], [40.655528, -74.64569399999998], [30.548343, -87.890288], [41.691937, -72.680291], [33.399994, -111.891296], [34.02782, -117.57225], [32.877734000000004, -117.172652], [33.57176, -79.030555], [41.59139, -81.45267], [41.4247, -81.54669], [39.77081, -104.99114], [40.64455, -74.28801999999997], [39.905949, -74.975662], [34.20524, -118.988], [45.53208, -122.59582], [27.990046000000003, -82.761769], [29.860731, -95.352957], [36.206781, -86.749879], [35.18783, -89.80863000000002], [36.22971, -86.77188000000002], [38.252506, -121.292585], [37.884753, -122.308655], [33.8763, -118.094], [40.69976, -111.903687], [38.01267, -122.27148], [35.26054699999999, -80.795212], [29.694541, -95.287189], [26.209572, -80.138099], [33.699692, -79.952262], [37.245325, -122.151166], [34.038762, -118.585417], [40.651634, -74.13704], [38.04493, -122.53419], [40.665175, -78.22358299999998], [37.998482, -120.383694], [27.19473300000001, -82.440003], [29.663393, -81.683934], [34.038881, -117.319395], [36.715117, -81.92975799999998], [43.119922, -77.55735], [33.790019, -84.391811], [44.03545, -117.00059], [41.76599, -72.68786], [33.872733000000004, -118.2942], [33.901841999999995, -118.296408], [39.242919, -121.599769], [32.481789, -93.758596], [45.48004, -122.681998], [40.362541, -75.986271], [37.775944, -122.404842], [39.596277, -104.885565], [39.774107, -75.74214], [34.015412, -117.92136399999998], [33.16025, -117.34058], [39.794747, -86.16478000000002], [32.32278400000001, -95.252643], [37.182254, -93.295486], [32.487673, -86.409827], [30.167183, -97.692178], [27.820332, -82.736714], [33.932429, -79.61236], [30.325513, -81.768451], [35.13418, -81.251674], [40.03459, -111.75411], [43.28394, -124.23046], [35.583279, -118.495758], [29.718972, -95.500804]],\n",
              "                {\n",
              "                    minOpacity: 0.5,\n",
              "                    maxZoom: 18,\n",
              "                    max: 1.0,\n",
              "                    radius: 25,\n",
              "                    blur: 15,\n",
              "                    gradient: null\n",
              "                    })\n",
              "                .addTo(map_7795fd367b3cb030774f3db8a6e8af61);\n",
              "        \n",
              "&lt;/script&gt;\" style=\"position:absolute;width:100%;height:100%;left:0;top:0;border:none !important;\" allowfullscreen webkitallowfullscreen mozallowfullscreen></iframe></div></div>"
            ]
          },
          "metadata": {},
          "execution_count": 37
        }
      ]
    },
    {
      "cell_type": "markdown",
      "source": [
        "## Summary and Conclusion\n",
        "Insights:\n",
        "\n",
        "+ No data from New York\n",
        "+ The number of accidents per city decreases exponentially\n",
        "+ Less than 5% of cities have more than 1000 yearly accidents.\n",
        "+ Over 1200 cities have reported just one accident (need to investigate)"
      ],
      "metadata": {
        "id": "r6krRgKvz09N"
      },
      "id": "r6krRgKvz09N"
    },
    {
      "cell_type": "code",
      "source": [
        "jovian.commit()"
      ],
      "metadata": {
        "colab": {
          "base_uri": "https://localhost:8080/",
          "height": 121
        },
        "id": "lxqu2VILz_IX",
        "outputId": "c7976e59-a1e7-4593-f65a-0eed3a6ddf2f"
      },
      "id": "lxqu2VILz_IX",
      "execution_count": 38,
      "outputs": [
        {
          "output_type": "stream",
          "name": "stdout",
          "text": [
            "[jovian] Detected Colab notebook...\u001b[0m\n",
            "[jovian] Please enter your API key ( from https://jovian.ai/ ):\u001b[0m\n",
            "API KEY: ··········\n",
            "[jovian] Uploading colab notebook to Jovian...\u001b[0m\n",
            "Committed successfully! https://jovian.ai/chaganti-reddy/us-accidents-eda\n"
          ]
        },
        {
          "output_type": "execute_result",
          "data": {
            "text/plain": [
              "'https://jovian.ai/chaganti-reddy/us-accidents-eda'"
            ],
            "application/vnd.google.colaboratory.intrinsic+json": {
              "type": "string"
            }
          },
          "metadata": {},
          "execution_count": 38
        }
      ]
    },
    {
      "cell_type": "code",
      "source": [
        ""
      ],
      "metadata": {
        "id": "sPdTkkWz0BVT"
      },
      "id": "sPdTkkWz0BVT",
      "execution_count": null,
      "outputs": []
    }
  ],
  "metadata": {
    "colab": {
      "collapsed_sections": [],
      "name": "US_Accidents_EDA.ipynb",
      "provenance": [],
      "include_colab_link": true
    },
    "kernelspec": {
      "display_name": "Python 3 (ipykernel)",
      "language": "python",
      "name": "python3"
    },
    "language_info": {
      "codemirror_mode": {
        "name": "ipython",
        "version": 3
      },
      "file_extension": ".py",
      "mimetype": "text/x-python",
      "name": "python",
      "nbconvert_exporter": "python",
      "pygments_lexer": "ipython3",
      "version": "3.10.5"
    }
  },
  "nbformat": 4,
  "nbformat_minor": 5
}