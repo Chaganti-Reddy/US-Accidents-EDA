{
  "cells": [
    {
      "cell_type": "markdown",
      "id": "64ca0df1",
      "metadata": {
        "id": "64ca0df1"
      },
      "source": [
        "# US Accidents Exploratory Data Analysis"
      ]
    },
    {
      "cell_type": "markdown",
      "source": [
        "## Download the Dataset"
      ],
      "metadata": {
        "id": "72392edd"
      },
      "id": "72392edd"
    },
    {
      "cell_type": "markdown",
      "source": [
        "### Download the dataset from [here](https://www.kaggle.com/datasets/sobhanmoosavi/us-accidents)"
      ],
      "metadata": {
        "id": "lleeVlS4iQC4"
      },
      "id": "lleeVlS4iQC4"
    },
    {
      "cell_type": "code",
      "execution_count": 2,
      "id": "ff764dd8",
      "metadata": {
        "id": "ff764dd8"
      },
      "outputs": [],
      "source": [
        "data_filename = 'US_Accidents_Dec20.csv'"
      ]
    },
    {
      "cell_type": "markdown",
      "id": "4cdf0a73",
      "metadata": {
        "id": "4cdf0a73"
      },
      "source": [
        "## Data Preparation and Cleaning"
      ]
    },
    {
      "cell_type": "code",
      "execution_count": 3,
      "id": "6da71c0d",
      "metadata": {
        "id": "6da71c0d"
      },
      "outputs": [],
      "source": [
        "# Imports\n",
        "\n",
        "import pandas as pd\n",
        "import numpy as np\n",
        "import matplotlib.pyplot as plt\n",
        "import seaborn as sns\n",
        "sns.set_style(\"darkgrid\")\n",
        "%pip install folium --quiet\n",
        "import folium\n",
        "from folium.plugins import HeatMap"
      ]
    },
    {
      "cell_type": "code",
      "execution_count": 4,
      "id": "f0b2fc8b",
      "metadata": {
        "colab": {
          "base_uri": "https://localhost:8080/",
          "height": 852
        },
        "id": "f0b2fc8b",
        "outputId": "caa53941-0506-45bb-c0b9-7b69859b8a58"
      },
      "outputs": [
        {
          "output_type": "stream",
          "name": "stderr",
          "text": [
            "/usr/local/lib/python3.7/dist-packages/IPython/core/interactiveshell.py:2882: DtypeWarning: Columns (32,33,34,35,36,37,38,39,40,41,42,43,44) have mixed types.Specify dtype option on import or set low_memory=False.\n",
            "  exec(code_obj, self.user_global_ns, self.user_ns)\n"
          ]
        },
        {
          "output_type": "execute_result",
          "data": {
            "text/plain": [
              "            ID    Source    TMC  Severity           Start_Time  \\\n",
              "0          A-1  MapQuest  201.0         3  2016-02-08 05:46:00   \n",
              "1          A-2  MapQuest  201.0         2  2016-02-08 06:07:59   \n",
              "2          A-3  MapQuest  201.0         2  2016-02-08 06:49:27   \n",
              "3          A-4  MapQuest  201.0         3  2016-02-08 07:23:34   \n",
              "4          A-5  MapQuest  201.0         2  2016-02-08 07:39:07   \n",
              "...        ...       ...    ...       ...                  ...   \n",
              "24803  A-24804  MapQuest  201.0         3  2016-10-16 10:45:48   \n",
              "24804  A-24805  MapQuest  201.0         2  2016-10-16 10:46:18   \n",
              "24805  A-24806  MapQuest  201.0         3  2016-10-16 10:57:17   \n",
              "24806  A-24807  MapQuest  201.0         3  2016-10-16 10:47:44   \n",
              "24807  A-24808  MapQuest  201.0         2  2016-10-16 11:15:03   \n",
              "\n",
              "                  End_Time  Start_Lat   Start_Lng  End_Lat  End_Lng  ...  \\\n",
              "0      2016-02-08 11:00:00  39.865147  -84.058723      NaN      NaN  ...   \n",
              "1      2016-02-08 06:37:59  39.928059  -82.831184      NaN      NaN  ...   \n",
              "2      2016-02-08 07:19:27  39.063148  -84.032608      NaN      NaN  ...   \n",
              "3      2016-02-08 07:53:34  39.747753  -84.205582      NaN      NaN  ...   \n",
              "4      2016-02-08 08:09:07  39.627781  -84.188354      NaN      NaN  ...   \n",
              "...                    ...        ...         ...      ...      ...  ...   \n",
              "24803  2016-10-16 11:30:28  38.655796 -121.533295      NaN      NaN  ...   \n",
              "24804  2016-10-16 11:15:55  37.829216 -121.210564      NaN      NaN  ...   \n",
              "24805  2016-10-16 11:26:54  38.346191 -121.997261      NaN      NaN  ...   \n",
              "24806  2016-10-16 11:32:24  38.643166 -121.434090      NaN      NaN  ...   \n",
              "24807       2016-10-16 11:        NaN         NaN      NaN      NaN  ...   \n",
              "\n",
              "       Roundabout Station   Stop Traffic_Calming Traffic_Signal Turning_Loop  \\\n",
              "0           False   False  False           False          False        False   \n",
              "1           False   False  False           False          False        False   \n",
              "2           False   False  False           False           True        False   \n",
              "3           False   False  False           False          False        False   \n",
              "4           False   False  False           False           True        False   \n",
              "...           ...     ...    ...             ...            ...          ...   \n",
              "24803       False   False  False           False          False        False   \n",
              "24804       False   False  False           False          False        False   \n",
              "24805       False   False  False           False          False        False   \n",
              "24806       False   False  False           False          False        False   \n",
              "24807         NaN     NaN    NaN             NaN            NaN          NaN   \n",
              "\n",
              "      Sunrise_Sunset Civil_Twilight Nautical_Twilight Astronomical_Twilight  \n",
              "0              Night          Night             Night                 Night  \n",
              "1              Night          Night             Night                   Day  \n",
              "2              Night          Night               Day                   Day  \n",
              "3              Night            Day               Day                   Day  \n",
              "4                Day            Day               Day                   Day  \n",
              "...              ...            ...               ...                   ...  \n",
              "24803            Day            Day               Day                   Day  \n",
              "24804            Day            Day               Day                   Day  \n",
              "24805            Day            Day               Day                   Day  \n",
              "24806            Day            Day               Day                   Day  \n",
              "24807            NaN            NaN               NaN                   NaN  \n",
              "\n",
              "[24808 rows x 49 columns]"
            ],
            "text/html": [
              "\n",
              "  <div id=\"df-b1504e78-9b6d-4710-a3bd-2c6efe075b06\">\n",
              "    <div class=\"colab-df-container\">\n",
              "      <div>\n",
              "<style scoped>\n",
              "    .dataframe tbody tr th:only-of-type {\n",
              "        vertical-align: middle;\n",
              "    }\n",
              "\n",
              "    .dataframe tbody tr th {\n",
              "        vertical-align: top;\n",
              "    }\n",
              "\n",
              "    .dataframe thead th {\n",
              "        text-align: right;\n",
              "    }\n",
              "</style>\n",
              "<table border=\"1\" class=\"dataframe\">\n",
              "  <thead>\n",
              "    <tr style=\"text-align: right;\">\n",
              "      <th></th>\n",
              "      <th>ID</th>\n",
              "      <th>Source</th>\n",
              "      <th>TMC</th>\n",
              "      <th>Severity</th>\n",
              "      <th>Start_Time</th>\n",
              "      <th>End_Time</th>\n",
              "      <th>Start_Lat</th>\n",
              "      <th>Start_Lng</th>\n",
              "      <th>End_Lat</th>\n",
              "      <th>End_Lng</th>\n",
              "      <th>...</th>\n",
              "      <th>Roundabout</th>\n",
              "      <th>Station</th>\n",
              "      <th>Stop</th>\n",
              "      <th>Traffic_Calming</th>\n",
              "      <th>Traffic_Signal</th>\n",
              "      <th>Turning_Loop</th>\n",
              "      <th>Sunrise_Sunset</th>\n",
              "      <th>Civil_Twilight</th>\n",
              "      <th>Nautical_Twilight</th>\n",
              "      <th>Astronomical_Twilight</th>\n",
              "    </tr>\n",
              "  </thead>\n",
              "  <tbody>\n",
              "    <tr>\n",
              "      <th>0</th>\n",
              "      <td>A-1</td>\n",
              "      <td>MapQuest</td>\n",
              "      <td>201.0</td>\n",
              "      <td>3</td>\n",
              "      <td>2016-02-08 05:46:00</td>\n",
              "      <td>2016-02-08 11:00:00</td>\n",
              "      <td>39.865147</td>\n",
              "      <td>-84.058723</td>\n",
              "      <td>NaN</td>\n",
              "      <td>NaN</td>\n",
              "      <td>...</td>\n",
              "      <td>False</td>\n",
              "      <td>False</td>\n",
              "      <td>False</td>\n",
              "      <td>False</td>\n",
              "      <td>False</td>\n",
              "      <td>False</td>\n",
              "      <td>Night</td>\n",
              "      <td>Night</td>\n",
              "      <td>Night</td>\n",
              "      <td>Night</td>\n",
              "    </tr>\n",
              "    <tr>\n",
              "      <th>1</th>\n",
              "      <td>A-2</td>\n",
              "      <td>MapQuest</td>\n",
              "      <td>201.0</td>\n",
              "      <td>2</td>\n",
              "      <td>2016-02-08 06:07:59</td>\n",
              "      <td>2016-02-08 06:37:59</td>\n",
              "      <td>39.928059</td>\n",
              "      <td>-82.831184</td>\n",
              "      <td>NaN</td>\n",
              "      <td>NaN</td>\n",
              "      <td>...</td>\n",
              "      <td>False</td>\n",
              "      <td>False</td>\n",
              "      <td>False</td>\n",
              "      <td>False</td>\n",
              "      <td>False</td>\n",
              "      <td>False</td>\n",
              "      <td>Night</td>\n",
              "      <td>Night</td>\n",
              "      <td>Night</td>\n",
              "      <td>Day</td>\n",
              "    </tr>\n",
              "    <tr>\n",
              "      <th>2</th>\n",
              "      <td>A-3</td>\n",
              "      <td>MapQuest</td>\n",
              "      <td>201.0</td>\n",
              "      <td>2</td>\n",
              "      <td>2016-02-08 06:49:27</td>\n",
              "      <td>2016-02-08 07:19:27</td>\n",
              "      <td>39.063148</td>\n",
              "      <td>-84.032608</td>\n",
              "      <td>NaN</td>\n",
              "      <td>NaN</td>\n",
              "      <td>...</td>\n",
              "      <td>False</td>\n",
              "      <td>False</td>\n",
              "      <td>False</td>\n",
              "      <td>False</td>\n",
              "      <td>True</td>\n",
              "      <td>False</td>\n",
              "      <td>Night</td>\n",
              "      <td>Night</td>\n",
              "      <td>Day</td>\n",
              "      <td>Day</td>\n",
              "    </tr>\n",
              "    <tr>\n",
              "      <th>3</th>\n",
              "      <td>A-4</td>\n",
              "      <td>MapQuest</td>\n",
              "      <td>201.0</td>\n",
              "      <td>3</td>\n",
              "      <td>2016-02-08 07:23:34</td>\n",
              "      <td>2016-02-08 07:53:34</td>\n",
              "      <td>39.747753</td>\n",
              "      <td>-84.205582</td>\n",
              "      <td>NaN</td>\n",
              "      <td>NaN</td>\n",
              "      <td>...</td>\n",
              "      <td>False</td>\n",
              "      <td>False</td>\n",
              "      <td>False</td>\n",
              "      <td>False</td>\n",
              "      <td>False</td>\n",
              "      <td>False</td>\n",
              "      <td>Night</td>\n",
              "      <td>Day</td>\n",
              "      <td>Day</td>\n",
              "      <td>Day</td>\n",
              "    </tr>\n",
              "    <tr>\n",
              "      <th>4</th>\n",
              "      <td>A-5</td>\n",
              "      <td>MapQuest</td>\n",
              "      <td>201.0</td>\n",
              "      <td>2</td>\n",
              "      <td>2016-02-08 07:39:07</td>\n",
              "      <td>2016-02-08 08:09:07</td>\n",
              "      <td>39.627781</td>\n",
              "      <td>-84.188354</td>\n",
              "      <td>NaN</td>\n",
              "      <td>NaN</td>\n",
              "      <td>...</td>\n",
              "      <td>False</td>\n",
              "      <td>False</td>\n",
              "      <td>False</td>\n",
              "      <td>False</td>\n",
              "      <td>True</td>\n",
              "      <td>False</td>\n",
              "      <td>Day</td>\n",
              "      <td>Day</td>\n",
              "      <td>Day</td>\n",
              "      <td>Day</td>\n",
              "    </tr>\n",
              "    <tr>\n",
              "      <th>...</th>\n",
              "      <td>...</td>\n",
              "      <td>...</td>\n",
              "      <td>...</td>\n",
              "      <td>...</td>\n",
              "      <td>...</td>\n",
              "      <td>...</td>\n",
              "      <td>...</td>\n",
              "      <td>...</td>\n",
              "      <td>...</td>\n",
              "      <td>...</td>\n",
              "      <td>...</td>\n",
              "      <td>...</td>\n",
              "      <td>...</td>\n",
              "      <td>...</td>\n",
              "      <td>...</td>\n",
              "      <td>...</td>\n",
              "      <td>...</td>\n",
              "      <td>...</td>\n",
              "      <td>...</td>\n",
              "      <td>...</td>\n",
              "      <td>...</td>\n",
              "    </tr>\n",
              "    <tr>\n",
              "      <th>24803</th>\n",
              "      <td>A-24804</td>\n",
              "      <td>MapQuest</td>\n",
              "      <td>201.0</td>\n",
              "      <td>3</td>\n",
              "      <td>2016-10-16 10:45:48</td>\n",
              "      <td>2016-10-16 11:30:28</td>\n",
              "      <td>38.655796</td>\n",
              "      <td>-121.533295</td>\n",
              "      <td>NaN</td>\n",
              "      <td>NaN</td>\n",
              "      <td>...</td>\n",
              "      <td>False</td>\n",
              "      <td>False</td>\n",
              "      <td>False</td>\n",
              "      <td>False</td>\n",
              "      <td>False</td>\n",
              "      <td>False</td>\n",
              "      <td>Day</td>\n",
              "      <td>Day</td>\n",
              "      <td>Day</td>\n",
              "      <td>Day</td>\n",
              "    </tr>\n",
              "    <tr>\n",
              "      <th>24804</th>\n",
              "      <td>A-24805</td>\n",
              "      <td>MapQuest</td>\n",
              "      <td>201.0</td>\n",
              "      <td>2</td>\n",
              "      <td>2016-10-16 10:46:18</td>\n",
              "      <td>2016-10-16 11:15:55</td>\n",
              "      <td>37.829216</td>\n",
              "      <td>-121.210564</td>\n",
              "      <td>NaN</td>\n",
              "      <td>NaN</td>\n",
              "      <td>...</td>\n",
              "      <td>False</td>\n",
              "      <td>False</td>\n",
              "      <td>False</td>\n",
              "      <td>False</td>\n",
              "      <td>False</td>\n",
              "      <td>False</td>\n",
              "      <td>Day</td>\n",
              "      <td>Day</td>\n",
              "      <td>Day</td>\n",
              "      <td>Day</td>\n",
              "    </tr>\n",
              "    <tr>\n",
              "      <th>24805</th>\n",
              "      <td>A-24806</td>\n",
              "      <td>MapQuest</td>\n",
              "      <td>201.0</td>\n",
              "      <td>3</td>\n",
              "      <td>2016-10-16 10:57:17</td>\n",
              "      <td>2016-10-16 11:26:54</td>\n",
              "      <td>38.346191</td>\n",
              "      <td>-121.997261</td>\n",
              "      <td>NaN</td>\n",
              "      <td>NaN</td>\n",
              "      <td>...</td>\n",
              "      <td>False</td>\n",
              "      <td>False</td>\n",
              "      <td>False</td>\n",
              "      <td>False</td>\n",
              "      <td>False</td>\n",
              "      <td>False</td>\n",
              "      <td>Day</td>\n",
              "      <td>Day</td>\n",
              "      <td>Day</td>\n",
              "      <td>Day</td>\n",
              "    </tr>\n",
              "    <tr>\n",
              "      <th>24806</th>\n",
              "      <td>A-24807</td>\n",
              "      <td>MapQuest</td>\n",
              "      <td>201.0</td>\n",
              "      <td>3</td>\n",
              "      <td>2016-10-16 10:47:44</td>\n",
              "      <td>2016-10-16 11:32:24</td>\n",
              "      <td>38.643166</td>\n",
              "      <td>-121.434090</td>\n",
              "      <td>NaN</td>\n",
              "      <td>NaN</td>\n",
              "      <td>...</td>\n",
              "      <td>False</td>\n",
              "      <td>False</td>\n",
              "      <td>False</td>\n",
              "      <td>False</td>\n",
              "      <td>False</td>\n",
              "      <td>False</td>\n",
              "      <td>Day</td>\n",
              "      <td>Day</td>\n",
              "      <td>Day</td>\n",
              "      <td>Day</td>\n",
              "    </tr>\n",
              "    <tr>\n",
              "      <th>24807</th>\n",
              "      <td>A-24808</td>\n",
              "      <td>MapQuest</td>\n",
              "      <td>201.0</td>\n",
              "      <td>2</td>\n",
              "      <td>2016-10-16 11:15:03</td>\n",
              "      <td>2016-10-16 11:</td>\n",
              "      <td>NaN</td>\n",
              "      <td>NaN</td>\n",
              "      <td>NaN</td>\n",
              "      <td>NaN</td>\n",
              "      <td>...</td>\n",
              "      <td>NaN</td>\n",
              "      <td>NaN</td>\n",
              "      <td>NaN</td>\n",
              "      <td>NaN</td>\n",
              "      <td>NaN</td>\n",
              "      <td>NaN</td>\n",
              "      <td>NaN</td>\n",
              "      <td>NaN</td>\n",
              "      <td>NaN</td>\n",
              "      <td>NaN</td>\n",
              "    </tr>\n",
              "  </tbody>\n",
              "</table>\n",
              "<p>24808 rows × 49 columns</p>\n",
              "</div>\n",
              "      <button class=\"colab-df-convert\" onclick=\"convertToInteractive('df-b1504e78-9b6d-4710-a3bd-2c6efe075b06')\"\n",
              "              title=\"Convert this dataframe to an interactive table.\"\n",
              "              style=\"display:none;\">\n",
              "        \n",
              "  <svg xmlns=\"http://www.w3.org/2000/svg\" height=\"24px\"viewBox=\"0 0 24 24\"\n",
              "       width=\"24px\">\n",
              "    <path d=\"M0 0h24v24H0V0z\" fill=\"none\"/>\n",
              "    <path d=\"M18.56 5.44l.94 2.06.94-2.06 2.06-.94-2.06-.94-.94-2.06-.94 2.06-2.06.94zm-11 1L8.5 8.5l.94-2.06 2.06-.94-2.06-.94L8.5 2.5l-.94 2.06-2.06.94zm10 10l.94 2.06.94-2.06 2.06-.94-2.06-.94-.94-2.06-.94 2.06-2.06.94z\"/><path d=\"M17.41 7.96l-1.37-1.37c-.4-.4-.92-.59-1.43-.59-.52 0-1.04.2-1.43.59L10.3 9.45l-7.72 7.72c-.78.78-.78 2.05 0 2.83L4 21.41c.39.39.9.59 1.41.59.51 0 1.02-.2 1.41-.59l7.78-7.78 2.81-2.81c.8-.78.8-2.07 0-2.86zM5.41 20L4 18.59l7.72-7.72 1.47 1.35L5.41 20z\"/>\n",
              "  </svg>\n",
              "      </button>\n",
              "      \n",
              "  <style>\n",
              "    .colab-df-container {\n",
              "      display:flex;\n",
              "      flex-wrap:wrap;\n",
              "      gap: 12px;\n",
              "    }\n",
              "\n",
              "    .colab-df-convert {\n",
              "      background-color: #E8F0FE;\n",
              "      border: none;\n",
              "      border-radius: 50%;\n",
              "      cursor: pointer;\n",
              "      display: none;\n",
              "      fill: #1967D2;\n",
              "      height: 32px;\n",
              "      padding: 0 0 0 0;\n",
              "      width: 32px;\n",
              "    }\n",
              "\n",
              "    .colab-df-convert:hover {\n",
              "      background-color: #E2EBFA;\n",
              "      box-shadow: 0px 1px 2px rgba(60, 64, 67, 0.3), 0px 1px 3px 1px rgba(60, 64, 67, 0.15);\n",
              "      fill: #174EA6;\n",
              "    }\n",
              "\n",
              "    [theme=dark] .colab-df-convert {\n",
              "      background-color: #3B4455;\n",
              "      fill: #D2E3FC;\n",
              "    }\n",
              "\n",
              "    [theme=dark] .colab-df-convert:hover {\n",
              "      background-color: #434B5C;\n",
              "      box-shadow: 0px 1px 3px 1px rgba(0, 0, 0, 0.15);\n",
              "      filter: drop-shadow(0px 1px 2px rgba(0, 0, 0, 0.3));\n",
              "      fill: #FFFFFF;\n",
              "    }\n",
              "  </style>\n",
              "\n",
              "      <script>\n",
              "        const buttonEl =\n",
              "          document.querySelector('#df-b1504e78-9b6d-4710-a3bd-2c6efe075b06 button.colab-df-convert');\n",
              "        buttonEl.style.display =\n",
              "          google.colab.kernel.accessAllowed ? 'block' : 'none';\n",
              "\n",
              "        async function convertToInteractive(key) {\n",
              "          const element = document.querySelector('#df-b1504e78-9b6d-4710-a3bd-2c6efe075b06');\n",
              "          const dataTable =\n",
              "            await google.colab.kernel.invokeFunction('convertToInteractive',\n",
              "                                                     [key], {});\n",
              "          if (!dataTable) return;\n",
              "\n",
              "          const docLinkHtml = 'Like what you see? Visit the ' +\n",
              "            '<a target=\"_blank\" href=https://colab.research.google.com/notebooks/data_table.ipynb>data table notebook</a>'\n",
              "            + ' to learn more about interactive tables.';\n",
              "          element.innerHTML = '';\n",
              "          dataTable['output_type'] = 'display_data';\n",
              "          await google.colab.output.renderOutput(dataTable, element);\n",
              "          const docLink = document.createElement('div');\n",
              "          docLink.innerHTML = docLinkHtml;\n",
              "          element.appendChild(docLink);\n",
              "        }\n",
              "      </script>\n",
              "    </div>\n",
              "  </div>\n",
              "  "
            ]
          },
          "metadata": {},
          "execution_count": 4
        }
      ],
      "source": [
        "df = pd.read_csv(data_filename)\n",
        "df"
      ]
    },
    {
      "cell_type": "code",
      "execution_count": 5,
      "id": "206345f5",
      "metadata": {
        "colab": {
          "base_uri": "https://localhost:8080/"
        },
        "id": "206345f5",
        "outputId": "71df3b5a-afe8-42cb-813f-cae94c81280c"
      },
      "outputs": [
        {
          "output_type": "stream",
          "name": "stdout",
          "text": [
            "<class 'pandas.core.frame.DataFrame'>\n",
            "RangeIndex: 24808 entries, 0 to 24807\n",
            "Data columns (total 49 columns):\n",
            " #   Column                 Non-Null Count  Dtype  \n",
            "---  ------                 --------------  -----  \n",
            " 0   ID                     24808 non-null  object \n",
            " 1   Source                 24808 non-null  object \n",
            " 2   TMC                    24808 non-null  float64\n",
            " 3   Severity               24808 non-null  int64  \n",
            " 4   Start_Time             24808 non-null  object \n",
            " 5   End_Time               24808 non-null  object \n",
            " 6   Start_Lat              24807 non-null  float64\n",
            " 7   Start_Lng              24807 non-null  float64\n",
            " 8   End_Lat                0 non-null      float64\n",
            " 9   End_Lng                0 non-null      float64\n",
            " 10  Distance(mi)           24807 non-null  float64\n",
            " 11  Description            24807 non-null  object \n",
            " 12  Number                 6582 non-null   float64\n",
            " 13  Street                 24807 non-null  object \n",
            " 14  Side                   24807 non-null  object \n",
            " 15  City                   24807 non-null  object \n",
            " 16  County                 24807 non-null  object \n",
            " 17  State                  24807 non-null  object \n",
            " 18  Zipcode                24802 non-null  object \n",
            " 19  Country                24807 non-null  object \n",
            " 20  Timezone               24802 non-null  object \n",
            " 21  Airport_Code           24802 non-null  object \n",
            " 22  Weather_Timestamp      24688 non-null  object \n",
            " 23  Temperature(F)         24568 non-null  float64\n",
            " 24  Wind_Chill(F)          2236 non-null   float64\n",
            " 25  Humidity(%)            24410 non-null  float64\n",
            " 26  Pressure(in)           24666 non-null  float64\n",
            " 27  Visibility(mi)         24558 non-null  float64\n",
            " 28  Wind_Direction         24688 non-null  object \n",
            " 29  Wind_Speed(mph)        19681 non-null  float64\n",
            " 30  Precipitation(in)      2612 non-null   float64\n",
            " 31  Weather_Condition      24479 non-null  object \n",
            " 32  Amenity                24807 non-null  object \n",
            " 33  Bump                   24807 non-null  object \n",
            " 34  Crossing               24807 non-null  object \n",
            " 35  Give_Way               24807 non-null  object \n",
            " 36  Junction               24807 non-null  object \n",
            " 37  No_Exit                24807 non-null  object \n",
            " 38  Railway                24807 non-null  object \n",
            " 39  Roundabout             24807 non-null  object \n",
            " 40  Station                24807 non-null  object \n",
            " 41  Stop                   24807 non-null  object \n",
            " 42  Traffic_Calming        24807 non-null  object \n",
            " 43  Traffic_Signal         24807 non-null  object \n",
            " 44  Turning_Loop           24807 non-null  object \n",
            " 45  Sunrise_Sunset         24807 non-null  object \n",
            " 46  Civil_Twilight         24807 non-null  object \n",
            " 47  Nautical_Twilight      24807 non-null  object \n",
            " 48  Astronomical_Twilight  24807 non-null  object \n",
            "dtypes: float64(14), int64(1), object(34)\n",
            "memory usage: 9.3+ MB\n"
          ]
        }
      ],
      "source": [
        "df.info()"
      ]
    },
    {
      "cell_type": "code",
      "execution_count": 6,
      "id": "84ba6236",
      "metadata": {
        "colab": {
          "base_uri": "https://localhost:8080/",
          "height": 300
        },
        "id": "84ba6236",
        "outputId": "ce65cfd0-8f41-49b9-e95d-d01f764ba840"
      },
      "outputs": [
        {
          "output_type": "execute_result",
          "data": {
            "text/plain": [
              "                TMC      Severity     Start_Lat     Start_Lng  End_Lat  \\\n",
              "count  24808.000000  24808.000000  24807.000000  24807.000000      0.0   \n",
              "mean     208.641164      2.381651     38.001768   -120.731134      NaN   \n",
              "std       18.244709      0.490262      0.648627      6.487108      NaN   \n",
              "min      200.000000      1.000000     36.352592   -123.813927      NaN   \n",
              "25%      201.000000      2.000000     37.575970   -122.202385      NaN   \n",
              "50%      201.000000      2.000000     37.876400   -121.922760      NaN   \n",
              "75%      201.000000      3.000000     38.496645   -121.415333      NaN   \n",
              "max      406.000000      4.000000     41.428753    -81.550728      NaN   \n",
              "\n",
              "       End_Lng  Distance(mi)        Number  Temperature(F)  Wind_Chill(F)  \\\n",
              "count      0.0  24807.000000   6582.000000    24568.000000    2236.000000   \n",
              "mean       NaN      0.018441   6775.037830       60.162968      35.417397   \n",
              "std        NaN      0.307120   7364.486164       13.877511       9.081556   \n",
              "min        NaN      0.000000      1.000000        3.900000      -8.400000   \n",
              "25%        NaN      0.000000   1613.000000       51.100000      32.700000   \n",
              "50%        NaN      0.010000   4199.000000       59.000000      38.000000   \n",
              "75%        NaN      0.010000   8900.750000       68.000000      41.400000   \n",
              "max        NaN     24.040000  52664.000000      106.000000      66.000000   \n",
              "\n",
              "        Humidity(%)  Pressure(in)  Visibility(mi)  Wind_Speed(mph)  \\\n",
              "count  24410.000000  24666.000000    24558.000000     19681.000000   \n",
              "mean      66.082302     30.017411        9.123467         8.550973   \n",
              "std       22.476991      0.232329        2.341611         4.677509   \n",
              "min        4.000000      3.010000        0.100000         1.200000   \n",
              "25%       51.000000     29.920000       10.000000         4.600000   \n",
              "50%       69.000000     30.020000       10.000000         6.900000   \n",
              "75%       83.000000     30.110000       10.000000        10.400000   \n",
              "max      100.000000     33.040000       80.000000       142.700000   \n",
              "\n",
              "       Precipitation(in)  \n",
              "count        2612.000000  \n",
              "mean            0.028323  \n",
              "std             0.048672  \n",
              "min             0.000000  \n",
              "25%             0.000000  \n",
              "50%             0.010000  \n",
              "75%             0.040000  \n",
              "max             0.510000  "
            ],
            "text/html": [
              "\n",
              "  <div id=\"df-3238e3ea-d4cf-43a0-8b97-95aeb2d6f0b5\">\n",
              "    <div class=\"colab-df-container\">\n",
              "      <div>\n",
              "<style scoped>\n",
              "    .dataframe tbody tr th:only-of-type {\n",
              "        vertical-align: middle;\n",
              "    }\n",
              "\n",
              "    .dataframe tbody tr th {\n",
              "        vertical-align: top;\n",
              "    }\n",
              "\n",
              "    .dataframe thead th {\n",
              "        text-align: right;\n",
              "    }\n",
              "</style>\n",
              "<table border=\"1\" class=\"dataframe\">\n",
              "  <thead>\n",
              "    <tr style=\"text-align: right;\">\n",
              "      <th></th>\n",
              "      <th>TMC</th>\n",
              "      <th>Severity</th>\n",
              "      <th>Start_Lat</th>\n",
              "      <th>Start_Lng</th>\n",
              "      <th>End_Lat</th>\n",
              "      <th>End_Lng</th>\n",
              "      <th>Distance(mi)</th>\n",
              "      <th>Number</th>\n",
              "      <th>Temperature(F)</th>\n",
              "      <th>Wind_Chill(F)</th>\n",
              "      <th>Humidity(%)</th>\n",
              "      <th>Pressure(in)</th>\n",
              "      <th>Visibility(mi)</th>\n",
              "      <th>Wind_Speed(mph)</th>\n",
              "      <th>Precipitation(in)</th>\n",
              "    </tr>\n",
              "  </thead>\n",
              "  <tbody>\n",
              "    <tr>\n",
              "      <th>count</th>\n",
              "      <td>24808.000000</td>\n",
              "      <td>24808.000000</td>\n",
              "      <td>24807.000000</td>\n",
              "      <td>24807.000000</td>\n",
              "      <td>0.0</td>\n",
              "      <td>0.0</td>\n",
              "      <td>24807.000000</td>\n",
              "      <td>6582.000000</td>\n",
              "      <td>24568.000000</td>\n",
              "      <td>2236.000000</td>\n",
              "      <td>24410.000000</td>\n",
              "      <td>24666.000000</td>\n",
              "      <td>24558.000000</td>\n",
              "      <td>19681.000000</td>\n",
              "      <td>2612.000000</td>\n",
              "    </tr>\n",
              "    <tr>\n",
              "      <th>mean</th>\n",
              "      <td>208.641164</td>\n",
              "      <td>2.381651</td>\n",
              "      <td>38.001768</td>\n",
              "      <td>-120.731134</td>\n",
              "      <td>NaN</td>\n",
              "      <td>NaN</td>\n",
              "      <td>0.018441</td>\n",
              "      <td>6775.037830</td>\n",
              "      <td>60.162968</td>\n",
              "      <td>35.417397</td>\n",
              "      <td>66.082302</td>\n",
              "      <td>30.017411</td>\n",
              "      <td>9.123467</td>\n",
              "      <td>8.550973</td>\n",
              "      <td>0.028323</td>\n",
              "    </tr>\n",
              "    <tr>\n",
              "      <th>std</th>\n",
              "      <td>18.244709</td>\n",
              "      <td>0.490262</td>\n",
              "      <td>0.648627</td>\n",
              "      <td>6.487108</td>\n",
              "      <td>NaN</td>\n",
              "      <td>NaN</td>\n",
              "      <td>0.307120</td>\n",
              "      <td>7364.486164</td>\n",
              "      <td>13.877511</td>\n",
              "      <td>9.081556</td>\n",
              "      <td>22.476991</td>\n",
              "      <td>0.232329</td>\n",
              "      <td>2.341611</td>\n",
              "      <td>4.677509</td>\n",
              "      <td>0.048672</td>\n",
              "    </tr>\n",
              "    <tr>\n",
              "      <th>min</th>\n",
              "      <td>200.000000</td>\n",
              "      <td>1.000000</td>\n",
              "      <td>36.352592</td>\n",
              "      <td>-123.813927</td>\n",
              "      <td>NaN</td>\n",
              "      <td>NaN</td>\n",
              "      <td>0.000000</td>\n",
              "      <td>1.000000</td>\n",
              "      <td>3.900000</td>\n",
              "      <td>-8.400000</td>\n",
              "      <td>4.000000</td>\n",
              "      <td>3.010000</td>\n",
              "      <td>0.100000</td>\n",
              "      <td>1.200000</td>\n",
              "      <td>0.000000</td>\n",
              "    </tr>\n",
              "    <tr>\n",
              "      <th>25%</th>\n",
              "      <td>201.000000</td>\n",
              "      <td>2.000000</td>\n",
              "      <td>37.575970</td>\n",
              "      <td>-122.202385</td>\n",
              "      <td>NaN</td>\n",
              "      <td>NaN</td>\n",
              "      <td>0.000000</td>\n",
              "      <td>1613.000000</td>\n",
              "      <td>51.100000</td>\n",
              "      <td>32.700000</td>\n",
              "      <td>51.000000</td>\n",
              "      <td>29.920000</td>\n",
              "      <td>10.000000</td>\n",
              "      <td>4.600000</td>\n",
              "      <td>0.000000</td>\n",
              "    </tr>\n",
              "    <tr>\n",
              "      <th>50%</th>\n",
              "      <td>201.000000</td>\n",
              "      <td>2.000000</td>\n",
              "      <td>37.876400</td>\n",
              "      <td>-121.922760</td>\n",
              "      <td>NaN</td>\n",
              "      <td>NaN</td>\n",
              "      <td>0.010000</td>\n",
              "      <td>4199.000000</td>\n",
              "      <td>59.000000</td>\n",
              "      <td>38.000000</td>\n",
              "      <td>69.000000</td>\n",
              "      <td>30.020000</td>\n",
              "      <td>10.000000</td>\n",
              "      <td>6.900000</td>\n",
              "      <td>0.010000</td>\n",
              "    </tr>\n",
              "    <tr>\n",
              "      <th>75%</th>\n",
              "      <td>201.000000</td>\n",
              "      <td>3.000000</td>\n",
              "      <td>38.496645</td>\n",
              "      <td>-121.415333</td>\n",
              "      <td>NaN</td>\n",
              "      <td>NaN</td>\n",
              "      <td>0.010000</td>\n",
              "      <td>8900.750000</td>\n",
              "      <td>68.000000</td>\n",
              "      <td>41.400000</td>\n",
              "      <td>83.000000</td>\n",
              "      <td>30.110000</td>\n",
              "      <td>10.000000</td>\n",
              "      <td>10.400000</td>\n",
              "      <td>0.040000</td>\n",
              "    </tr>\n",
              "    <tr>\n",
              "      <th>max</th>\n",
              "      <td>406.000000</td>\n",
              "      <td>4.000000</td>\n",
              "      <td>41.428753</td>\n",
              "      <td>-81.550728</td>\n",
              "      <td>NaN</td>\n",
              "      <td>NaN</td>\n",
              "      <td>24.040000</td>\n",
              "      <td>52664.000000</td>\n",
              "      <td>106.000000</td>\n",
              "      <td>66.000000</td>\n",
              "      <td>100.000000</td>\n",
              "      <td>33.040000</td>\n",
              "      <td>80.000000</td>\n",
              "      <td>142.700000</td>\n",
              "      <td>0.510000</td>\n",
              "    </tr>\n",
              "  </tbody>\n",
              "</table>\n",
              "</div>\n",
              "      <button class=\"colab-df-convert\" onclick=\"convertToInteractive('df-3238e3ea-d4cf-43a0-8b97-95aeb2d6f0b5')\"\n",
              "              title=\"Convert this dataframe to an interactive table.\"\n",
              "              style=\"display:none;\">\n",
              "        \n",
              "  <svg xmlns=\"http://www.w3.org/2000/svg\" height=\"24px\"viewBox=\"0 0 24 24\"\n",
              "       width=\"24px\">\n",
              "    <path d=\"M0 0h24v24H0V0z\" fill=\"none\"/>\n",
              "    <path d=\"M18.56 5.44l.94 2.06.94-2.06 2.06-.94-2.06-.94-.94-2.06-.94 2.06-2.06.94zm-11 1L8.5 8.5l.94-2.06 2.06-.94-2.06-.94L8.5 2.5l-.94 2.06-2.06.94zm10 10l.94 2.06.94-2.06 2.06-.94-2.06-.94-.94-2.06-.94 2.06-2.06.94z\"/><path d=\"M17.41 7.96l-1.37-1.37c-.4-.4-.92-.59-1.43-.59-.52 0-1.04.2-1.43.59L10.3 9.45l-7.72 7.72c-.78.78-.78 2.05 0 2.83L4 21.41c.39.39.9.59 1.41.59.51 0 1.02-.2 1.41-.59l7.78-7.78 2.81-2.81c.8-.78.8-2.07 0-2.86zM5.41 20L4 18.59l7.72-7.72 1.47 1.35L5.41 20z\"/>\n",
              "  </svg>\n",
              "      </button>\n",
              "      \n",
              "  <style>\n",
              "    .colab-df-container {\n",
              "      display:flex;\n",
              "      flex-wrap:wrap;\n",
              "      gap: 12px;\n",
              "    }\n",
              "\n",
              "    .colab-df-convert {\n",
              "      background-color: #E8F0FE;\n",
              "      border: none;\n",
              "      border-radius: 50%;\n",
              "      cursor: pointer;\n",
              "      display: none;\n",
              "      fill: #1967D2;\n",
              "      height: 32px;\n",
              "      padding: 0 0 0 0;\n",
              "      width: 32px;\n",
              "    }\n",
              "\n",
              "    .colab-df-convert:hover {\n",
              "      background-color: #E2EBFA;\n",
              "      box-shadow: 0px 1px 2px rgba(60, 64, 67, 0.3), 0px 1px 3px 1px rgba(60, 64, 67, 0.15);\n",
              "      fill: #174EA6;\n",
              "    }\n",
              "\n",
              "    [theme=dark] .colab-df-convert {\n",
              "      background-color: #3B4455;\n",
              "      fill: #D2E3FC;\n",
              "    }\n",
              "\n",
              "    [theme=dark] .colab-df-convert:hover {\n",
              "      background-color: #434B5C;\n",
              "      box-shadow: 0px 1px 3px 1px rgba(0, 0, 0, 0.15);\n",
              "      filter: drop-shadow(0px 1px 2px rgba(0, 0, 0, 0.3));\n",
              "      fill: #FFFFFF;\n",
              "    }\n",
              "  </style>\n",
              "\n",
              "      <script>\n",
              "        const buttonEl =\n",
              "          document.querySelector('#df-3238e3ea-d4cf-43a0-8b97-95aeb2d6f0b5 button.colab-df-convert');\n",
              "        buttonEl.style.display =\n",
              "          google.colab.kernel.accessAllowed ? 'block' : 'none';\n",
              "\n",
              "        async function convertToInteractive(key) {\n",
              "          const element = document.querySelector('#df-3238e3ea-d4cf-43a0-8b97-95aeb2d6f0b5');\n",
              "          const dataTable =\n",
              "            await google.colab.kernel.invokeFunction('convertToInteractive',\n",
              "                                                     [key], {});\n",
              "          if (!dataTable) return;\n",
              "\n",
              "          const docLinkHtml = 'Like what you see? Visit the ' +\n",
              "            '<a target=\"_blank\" href=https://colab.research.google.com/notebooks/data_table.ipynb>data table notebook</a>'\n",
              "            + ' to learn more about interactive tables.';\n",
              "          element.innerHTML = '';\n",
              "          dataTable['output_type'] = 'display_data';\n",
              "          await google.colab.output.renderOutput(dataTable, element);\n",
              "          const docLink = document.createElement('div');\n",
              "          docLink.innerHTML = docLinkHtml;\n",
              "          element.appendChild(docLink);\n",
              "        }\n",
              "      </script>\n",
              "    </div>\n",
              "  </div>\n",
              "  "
            ]
          },
          "metadata": {},
          "execution_count": 6
        }
      ],
      "source": [
        "df.describe()"
      ]
    },
    {
      "cell_type": "code",
      "execution_count": 7,
      "id": "c5eac997",
      "metadata": {
        "colab": {
          "base_uri": "https://localhost:8080/"
        },
        "id": "c5eac997",
        "outputId": "b491f738-bc7d-44e3-91fb-59e55926899a"
      },
      "outputs": [
        {
          "output_type": "execute_result",
          "data": {
            "text/plain": [
              "15"
            ]
          },
          "metadata": {},
          "execution_count": 7
        }
      ],
      "source": [
        "numerics = ['int16', 'int32', 'int64', 'float16', 'float32', 'float64']\n",
        "\n",
        "numeric_df = df.select_dtypes(include=numerics)\n",
        "len(numeric_df.columns)"
      ]
    },
    {
      "cell_type": "code",
      "execution_count": 8,
      "id": "f9c02ed8",
      "metadata": {
        "colab": {
          "base_uri": "https://localhost:8080/",
          "height": 206
        },
        "id": "f9c02ed8",
        "outputId": "d462d4d6-0b67-42a2-f01d-9d3e54ec87ce"
      },
      "outputs": [
        {
          "output_type": "execute_result",
          "data": {
            "text/plain": [
              "     TMC  Severity  Start_Lat  Start_Lng  End_Lat  End_Lng  Distance(mi)  \\\n",
              "0  201.0         3  39.865147 -84.058723      NaN      NaN          0.01   \n",
              "1  201.0         2  39.928059 -82.831184      NaN      NaN          0.01   \n",
              "2  201.0         2  39.063148 -84.032608      NaN      NaN          0.01   \n",
              "3  201.0         3  39.747753 -84.205582      NaN      NaN          0.01   \n",
              "4  201.0         2  39.627781 -84.188354      NaN      NaN          0.01   \n",
              "\n",
              "   Number  Temperature(F)  Wind_Chill(F)  Humidity(%)  Pressure(in)  \\\n",
              "0     NaN            36.9            NaN         91.0         29.68   \n",
              "1  2584.0            37.9            NaN        100.0         29.65   \n",
              "2     NaN            36.0           33.3        100.0         29.67   \n",
              "3     NaN            35.1           31.0         96.0         29.64   \n",
              "4     NaN            36.0           33.3         89.0         29.65   \n",
              "\n",
              "   Visibility(mi)  Wind_Speed(mph)  Precipitation(in)  \n",
              "0            10.0              NaN               0.02  \n",
              "1            10.0              NaN               0.00  \n",
              "2            10.0              3.5                NaN  \n",
              "3             9.0              4.6                NaN  \n",
              "4             6.0              3.5                NaN  "
            ],
            "text/html": [
              "\n",
              "  <div id=\"df-96ca8f88-79d8-4732-a60e-edade3267b4d\">\n",
              "    <div class=\"colab-df-container\">\n",
              "      <div>\n",
              "<style scoped>\n",
              "    .dataframe tbody tr th:only-of-type {\n",
              "        vertical-align: middle;\n",
              "    }\n",
              "\n",
              "    .dataframe tbody tr th {\n",
              "        vertical-align: top;\n",
              "    }\n",
              "\n",
              "    .dataframe thead th {\n",
              "        text-align: right;\n",
              "    }\n",
              "</style>\n",
              "<table border=\"1\" class=\"dataframe\">\n",
              "  <thead>\n",
              "    <tr style=\"text-align: right;\">\n",
              "      <th></th>\n",
              "      <th>TMC</th>\n",
              "      <th>Severity</th>\n",
              "      <th>Start_Lat</th>\n",
              "      <th>Start_Lng</th>\n",
              "      <th>End_Lat</th>\n",
              "      <th>End_Lng</th>\n",
              "      <th>Distance(mi)</th>\n",
              "      <th>Number</th>\n",
              "      <th>Temperature(F)</th>\n",
              "      <th>Wind_Chill(F)</th>\n",
              "      <th>Humidity(%)</th>\n",
              "      <th>Pressure(in)</th>\n",
              "      <th>Visibility(mi)</th>\n",
              "      <th>Wind_Speed(mph)</th>\n",
              "      <th>Precipitation(in)</th>\n",
              "    </tr>\n",
              "  </thead>\n",
              "  <tbody>\n",
              "    <tr>\n",
              "      <th>0</th>\n",
              "      <td>201.0</td>\n",
              "      <td>3</td>\n",
              "      <td>39.865147</td>\n",
              "      <td>-84.058723</td>\n",
              "      <td>NaN</td>\n",
              "      <td>NaN</td>\n",
              "      <td>0.01</td>\n",
              "      <td>NaN</td>\n",
              "      <td>36.9</td>\n",
              "      <td>NaN</td>\n",
              "      <td>91.0</td>\n",
              "      <td>29.68</td>\n",
              "      <td>10.0</td>\n",
              "      <td>NaN</td>\n",
              "      <td>0.02</td>\n",
              "    </tr>\n",
              "    <tr>\n",
              "      <th>1</th>\n",
              "      <td>201.0</td>\n",
              "      <td>2</td>\n",
              "      <td>39.928059</td>\n",
              "      <td>-82.831184</td>\n",
              "      <td>NaN</td>\n",
              "      <td>NaN</td>\n",
              "      <td>0.01</td>\n",
              "      <td>2584.0</td>\n",
              "      <td>37.9</td>\n",
              "      <td>NaN</td>\n",
              "      <td>100.0</td>\n",
              "      <td>29.65</td>\n",
              "      <td>10.0</td>\n",
              "      <td>NaN</td>\n",
              "      <td>0.00</td>\n",
              "    </tr>\n",
              "    <tr>\n",
              "      <th>2</th>\n",
              "      <td>201.0</td>\n",
              "      <td>2</td>\n",
              "      <td>39.063148</td>\n",
              "      <td>-84.032608</td>\n",
              "      <td>NaN</td>\n",
              "      <td>NaN</td>\n",
              "      <td>0.01</td>\n",
              "      <td>NaN</td>\n",
              "      <td>36.0</td>\n",
              "      <td>33.3</td>\n",
              "      <td>100.0</td>\n",
              "      <td>29.67</td>\n",
              "      <td>10.0</td>\n",
              "      <td>3.5</td>\n",
              "      <td>NaN</td>\n",
              "    </tr>\n",
              "    <tr>\n",
              "      <th>3</th>\n",
              "      <td>201.0</td>\n",
              "      <td>3</td>\n",
              "      <td>39.747753</td>\n",
              "      <td>-84.205582</td>\n",
              "      <td>NaN</td>\n",
              "      <td>NaN</td>\n",
              "      <td>0.01</td>\n",
              "      <td>NaN</td>\n",
              "      <td>35.1</td>\n",
              "      <td>31.0</td>\n",
              "      <td>96.0</td>\n",
              "      <td>29.64</td>\n",
              "      <td>9.0</td>\n",
              "      <td>4.6</td>\n",
              "      <td>NaN</td>\n",
              "    </tr>\n",
              "    <tr>\n",
              "      <th>4</th>\n",
              "      <td>201.0</td>\n",
              "      <td>2</td>\n",
              "      <td>39.627781</td>\n",
              "      <td>-84.188354</td>\n",
              "      <td>NaN</td>\n",
              "      <td>NaN</td>\n",
              "      <td>0.01</td>\n",
              "      <td>NaN</td>\n",
              "      <td>36.0</td>\n",
              "      <td>33.3</td>\n",
              "      <td>89.0</td>\n",
              "      <td>29.65</td>\n",
              "      <td>6.0</td>\n",
              "      <td>3.5</td>\n",
              "      <td>NaN</td>\n",
              "    </tr>\n",
              "  </tbody>\n",
              "</table>\n",
              "</div>\n",
              "      <button class=\"colab-df-convert\" onclick=\"convertToInteractive('df-96ca8f88-79d8-4732-a60e-edade3267b4d')\"\n",
              "              title=\"Convert this dataframe to an interactive table.\"\n",
              "              style=\"display:none;\">\n",
              "        \n",
              "  <svg xmlns=\"http://www.w3.org/2000/svg\" height=\"24px\"viewBox=\"0 0 24 24\"\n",
              "       width=\"24px\">\n",
              "    <path d=\"M0 0h24v24H0V0z\" fill=\"none\"/>\n",
              "    <path d=\"M18.56 5.44l.94 2.06.94-2.06 2.06-.94-2.06-.94-.94-2.06-.94 2.06-2.06.94zm-11 1L8.5 8.5l.94-2.06 2.06-.94-2.06-.94L8.5 2.5l-.94 2.06-2.06.94zm10 10l.94 2.06.94-2.06 2.06-.94-2.06-.94-.94-2.06-.94 2.06-2.06.94z\"/><path d=\"M17.41 7.96l-1.37-1.37c-.4-.4-.92-.59-1.43-.59-.52 0-1.04.2-1.43.59L10.3 9.45l-7.72 7.72c-.78.78-.78 2.05 0 2.83L4 21.41c.39.39.9.59 1.41.59.51 0 1.02-.2 1.41-.59l7.78-7.78 2.81-2.81c.8-.78.8-2.07 0-2.86zM5.41 20L4 18.59l7.72-7.72 1.47 1.35L5.41 20z\"/>\n",
              "  </svg>\n",
              "      </button>\n",
              "      \n",
              "  <style>\n",
              "    .colab-df-container {\n",
              "      display:flex;\n",
              "      flex-wrap:wrap;\n",
              "      gap: 12px;\n",
              "    }\n",
              "\n",
              "    .colab-df-convert {\n",
              "      background-color: #E8F0FE;\n",
              "      border: none;\n",
              "      border-radius: 50%;\n",
              "      cursor: pointer;\n",
              "      display: none;\n",
              "      fill: #1967D2;\n",
              "      height: 32px;\n",
              "      padding: 0 0 0 0;\n",
              "      width: 32px;\n",
              "    }\n",
              "\n",
              "    .colab-df-convert:hover {\n",
              "      background-color: #E2EBFA;\n",
              "      box-shadow: 0px 1px 2px rgba(60, 64, 67, 0.3), 0px 1px 3px 1px rgba(60, 64, 67, 0.15);\n",
              "      fill: #174EA6;\n",
              "    }\n",
              "\n",
              "    [theme=dark] .colab-df-convert {\n",
              "      background-color: #3B4455;\n",
              "      fill: #D2E3FC;\n",
              "    }\n",
              "\n",
              "    [theme=dark] .colab-df-convert:hover {\n",
              "      background-color: #434B5C;\n",
              "      box-shadow: 0px 1px 3px 1px rgba(0, 0, 0, 0.15);\n",
              "      filter: drop-shadow(0px 1px 2px rgba(0, 0, 0, 0.3));\n",
              "      fill: #FFFFFF;\n",
              "    }\n",
              "  </style>\n",
              "\n",
              "      <script>\n",
              "        const buttonEl =\n",
              "          document.querySelector('#df-96ca8f88-79d8-4732-a60e-edade3267b4d button.colab-df-convert');\n",
              "        buttonEl.style.display =\n",
              "          google.colab.kernel.accessAllowed ? 'block' : 'none';\n",
              "\n",
              "        async function convertToInteractive(key) {\n",
              "          const element = document.querySelector('#df-96ca8f88-79d8-4732-a60e-edade3267b4d');\n",
              "          const dataTable =\n",
              "            await google.colab.kernel.invokeFunction('convertToInteractive',\n",
              "                                                     [key], {});\n",
              "          if (!dataTable) return;\n",
              "\n",
              "          const docLinkHtml = 'Like what you see? Visit the ' +\n",
              "            '<a target=\"_blank\" href=https://colab.research.google.com/notebooks/data_table.ipynb>data table notebook</a>'\n",
              "            + ' to learn more about interactive tables.';\n",
              "          element.innerHTML = '';\n",
              "          dataTable['output_type'] = 'display_data';\n",
              "          await google.colab.output.renderOutput(dataTable, element);\n",
              "          const docLink = document.createElement('div');\n",
              "          docLink.innerHTML = docLinkHtml;\n",
              "          element.appendChild(docLink);\n",
              "        }\n",
              "      </script>\n",
              "    </div>\n",
              "  </div>\n",
              "  "
            ]
          },
          "metadata": {},
          "execution_count": 8
        }
      ],
      "source": [
        "numeric_df.head()"
      ]
    },
    {
      "cell_type": "markdown",
      "source": [
        "### Percentage of missing values per column"
      ],
      "metadata": {
        "id": "tYU8WU2lV-AM"
      },
      "id": "tYU8WU2lV-AM"
    },
    {
      "cell_type": "code",
      "source": [
        "missing_percentages = df.isna().sum().sort_values(ascending=False) / len(df)\n",
        "missing_percentages"
      ],
      "metadata": {
        "colab": {
          "base_uri": "https://localhost:8080/"
        },
        "id": "hBDTk5d_UN4Z",
        "outputId": "90b830eb-9513-4395-a9c9-d6469537b765"
      },
      "id": "hBDTk5d_UN4Z",
      "execution_count": 9,
      "outputs": [
        {
          "output_type": "execute_result",
          "data": {
            "text/plain": [
              "End_Lat                  1.000000\n",
              "End_Lng                  1.000000\n",
              "Wind_Chill(F)            0.909868\n",
              "Precipitation(in)        0.894711\n",
              "Number                   0.734682\n",
              "Wind_Speed(mph)          0.206667\n",
              "Humidity(%)              0.016043\n",
              "Weather_Condition        0.013262\n",
              "Visibility(mi)           0.010077\n",
              "Temperature(F)           0.009674\n",
              "Pressure(in)             0.005724\n",
              "Wind_Direction           0.004837\n",
              "Weather_Timestamp        0.004837\n",
              "Timezone                 0.000242\n",
              "Airport_Code             0.000242\n",
              "Zipcode                  0.000242\n",
              "Nautical_Twilight        0.000040\n",
              "Civil_Twilight           0.000040\n",
              "Sunrise_Sunset           0.000040\n",
              "Bump                     0.000040\n",
              "Traffic_Calming          0.000040\n",
              "Traffic_Signal           0.000040\n",
              "Crossing                 0.000040\n",
              "Give_Way                 0.000040\n",
              "Amenity                  0.000040\n",
              "No_Exit                  0.000040\n",
              "Railway                  0.000040\n",
              "Roundabout               0.000040\n",
              "Turning_Loop             0.000040\n",
              "Station                  0.000040\n",
              "Stop                     0.000040\n",
              "Junction                 0.000040\n",
              "Astronomical_Twilight    0.000040\n",
              "Country                  0.000040\n",
              "State                    0.000040\n",
              "County                   0.000040\n",
              "City                     0.000040\n",
              "Side                     0.000040\n",
              "Street                   0.000040\n",
              "Description              0.000040\n",
              "Distance(mi)             0.000040\n",
              "Start_Lng                0.000040\n",
              "Start_Lat                0.000040\n",
              "Source                   0.000000\n",
              "End_Time                 0.000000\n",
              "Start_Time               0.000000\n",
              "Severity                 0.000000\n",
              "TMC                      0.000000\n",
              "ID                       0.000000\n",
              "dtype: float64"
            ]
          },
          "metadata": {},
          "execution_count": 9
        }
      ]
    },
    {
      "cell_type": "code",
      "source": [
        "type(missing_percentages)"
      ],
      "metadata": {
        "colab": {
          "base_uri": "https://localhost:8080/"
        },
        "id": "mP4fmSBxVTq0",
        "outputId": "43dc18f9-36e4-4c09-c560-4dad52aee578"
      },
      "id": "mP4fmSBxVTq0",
      "execution_count": 10,
      "outputs": [
        {
          "output_type": "execute_result",
          "data": {
            "text/plain": [
              "pandas.core.series.Series"
            ]
          },
          "metadata": {},
          "execution_count": 10
        }
      ]
    },
    {
      "cell_type": "code",
      "source": [
        "missing_percentages[missing_percentages != 0].plot(kind='barh', figsize=(20,10))"
      ],
      "metadata": {
        "colab": {
          "base_uri": "https://localhost:8080/",
          "height": 609
        },
        "id": "eGz99OqnWEnj",
        "outputId": "08e04bdb-a43c-4385-d4f9-9aa19315f44e"
      },
      "id": "eGz99OqnWEnj",
      "execution_count": 11,
      "outputs": [
        {
          "output_type": "execute_result",
          "data": {
            "text/plain": [
              "<matplotlib.axes._subplots.AxesSubplot at 0x7fa2131cf650>"
            ]
          },
          "metadata": {},
          "execution_count": 11
        },
        {
          "output_type": "display_data",
          "data": {
            "text/plain": [
              "<Figure size 1440x720 with 1 Axes>"
            ],
            "image/png": "[encoded data removed]"
          },
          "metadata": {}
        }
      ]
    },
    {
      "cell_type": "code",
      "source": [
        "df.City"
      ],
      "metadata": {
        "colab": {
          "base_uri": "https://localhost:8080/"
        },
        "id": "FhzRY3vNWGO-",
        "outputId": "b3e20975-4c65-4825-b361-70c6ccb7ae78"
      },
      "id": "FhzRY3vNWGO-",
      "execution_count": 12,
      "outputs": [
        {
          "output_type": "execute_result",
          "data": {
            "text/plain": [
              "0              Dayton\n",
              "1        Reynoldsburg\n",
              "2        Williamsburg\n",
              "3              Dayton\n",
              "4              Dayton\n",
              "             ...     \n",
              "24803      Sacramento\n",
              "24804         Manteca\n",
              "24805       Vacaville\n",
              "24806      Sacramento\n",
              "24807             NaN\n",
              "Name: City, Length: 24808, dtype: object"
            ]
          },
          "metadata": {},
          "execution_count": 12
        }
      ]
    },
    {
      "cell_type": "code",
      "source": [
        "cities = df.City.unique()\n",
        "len(cities)"
      ],
      "metadata": {
        "colab": {
          "base_uri": "https://localhost:8080/"
        },
        "id": "_PutosmtbLEg",
        "outputId": "333c6a09-45a0-49dd-d532-116db1949de2"
      },
      "id": "_PutosmtbLEg",
      "execution_count": 13,
      "outputs": [
        {
          "output_type": "execute_result",
          "data": {
            "text/plain": [
              "441"
            ]
          },
          "metadata": {},
          "execution_count": 13
        }
      ]
    },
    {
      "cell_type": "code",
      "source": [
        "cities_by_accident = df.City.value_counts()\n",
        "cities_by_accident"
      ],
      "metadata": {
        "colab": {
          "base_uri": "https://localhost:8080/"
        },
        "id": "SyfJ6vJ-bMRY",
        "outputId": "4c16fd39-80d3-4157-e8e4-83532d692690"
      },
      "id": "SyfJ6vJ-bMRY",
      "execution_count": 14,
      "outputs": [
        {
          "output_type": "execute_result",
          "data": {
            "text/plain": [
              "Sacramento       2792\n",
              "San Jose         1689\n",
              "Oakland          1054\n",
              "San Francisco     737\n",
              "Hayward           537\n",
              "                 ... \n",
              "Frankfort           1\n",
              "Brecksville         1\n",
              "Urbancrest          1\n",
              "Lewis Center        1\n",
              "Inverness           1\n",
              "Name: City, Length: 440, dtype: int64"
            ]
          },
          "metadata": {},
          "execution_count": 14
        }
      ]
    },
    {
      "cell_type": "code",
      "source": [
        "cities_by_accident[:20]"
      ],
      "metadata": {
        "colab": {
          "base_uri": "https://localhost:8080/"
        },
        "id": "AOuOZDxjbORd",
        "outputId": "f7d62ef6-6572-4547-ebf0-4df4e6619e18"
      },
      "id": "AOuOZDxjbORd",
      "execution_count": 15,
      "outputs": [
        {
          "output_type": "execute_result",
          "data": {
            "text/plain": [
              "Sacramento       2792\n",
              "San Jose         1689\n",
              "Oakland          1054\n",
              "San Francisco     737\n",
              "Hayward           537\n",
              "Stockton          455\n",
              "Tracy             439\n",
              "Fremont           438\n",
              "Santa Rosa        431\n",
              "Livermore         383\n",
              "Fairfield         369\n",
              "Los Gatos         356\n",
              "Dayton            321\n",
              "San Mateo         296\n",
              "Pleasanton        291\n",
              "San Leandro       275\n",
              "Castro Valley     263\n",
              "Vallejo           262\n",
              "Petaluma          238\n",
              "Berkeley          238\n",
              "Name: City, dtype: int64"
            ]
          },
          "metadata": {},
          "execution_count": 15
        }
      ]
    },
    {
      "cell_type": "code",
      "source": [
        "type(cities_by_accident)"
      ],
      "metadata": {
        "colab": {
          "base_uri": "https://localhost:8080/"
        },
        "id": "RM8tJ4KybPsn",
        "outputId": "78ce000e-409b-4e94-a30e-ac7c2e55106e"
      },
      "id": "RM8tJ4KybPsn",
      "execution_count": 16,
      "outputs": [
        {
          "output_type": "execute_result",
          "data": {
            "text/plain": [
              "pandas.core.series.Series"
            ]
          },
          "metadata": {},
          "execution_count": 16
        }
      ]
    },
    {
      "cell_type": "code",
      "source": [
        "cities_by_accident[:25].plot(kind='barh', figsize=(20,10))"
      ],
      "metadata": {
        "colab": {
          "base_uri": "https://localhost:8080/",
          "height": 609
        },
        "id": "lINIo2gabREG",
        "outputId": "82abbc1e-08e4-433e-cffd-5a4b10244945"
      },
      "id": "lINIo2gabREG",
      "execution_count": 17,
      "outputs": [
        {
          "output_type": "execute_result",
          "data": {
            "text/plain": [
              "<matplotlib.axes._subplots.AxesSubplot at 0x7fa213029510>"
            ]
          },
          "metadata": {},
          "execution_count": 17
        },
        {
          "output_type": "display_data",
          "data": {
            "text/plain": [
              "<Figure size 1440x720 with 1 Axes>"
            ],
            "image/png": "[encoded data removed]"
          },
          "metadata": {}
        }
      ]
    },
    {
      "cell_type": "code",
      "source": [
        "fig, ax = plt.subplots(figsize=(20, 10))\n",
        "sns.histplot(cities_by_accident, log_scale=True, ax=ax)"
      ],
      "metadata": {
        "colab": {
          "base_uri": "https://localhost:8080/",
          "height": 626
        },
        "id": "KyEk8zuWbSPD",
        "outputId": "8a51e549-a8b7-48ef-f1e3-e566d325e28a"
      },
      "id": "KyEk8zuWbSPD",
      "execution_count": 18,
      "outputs": [
        {
          "output_type": "execute_result",
          "data": {
            "text/plain": [
              "<matplotlib.axes._subplots.AxesSubplot at 0x7fa212b97750>"
            ]
          },
          "metadata": {},
          "execution_count": 18
        },
        {
          "output_type": "display_data",
          "data": {
            "text/plain": [
              "<Figure size 1440x720 with 1 Axes>"
            ],
            "image/png": "[encoded data removed]"
          },
          "metadata": {}
        }
      ]
    },
    {
      "cell_type": "code",
      "source": [
        "cities_by_accident[cities_by_accident == 1]"
      ],
      "metadata": {
        "colab": {
          "base_uri": "https://localhost:8080/"
        },
        "id": "y3WxX6DpbY-P",
        "outputId": "26e78b99-14f6-48ac-e965-82c58df69206"
      },
      "id": "y3WxX6DpbY-P",
      "execution_count": 19,
      "outputs": [
        {
          "output_type": "execute_result",
          "data": {
            "text/plain": [
              "Gold Run        1\n",
              "Big Sur         1\n",
              "Palermo         1\n",
              "Glenhaven       1\n",
              "Woodacre        1\n",
              "               ..\n",
              "Frankfort       1\n",
              "Brecksville     1\n",
              "Urbancrest      1\n",
              "Lewis Center    1\n",
              "Inverness       1\n",
              "Name: City, Length: 81, dtype: int64"
            ]
          },
          "metadata": {},
          "execution_count": 19
        }
      ]
    },
    {
      "cell_type": "code",
      "source": [
        "df.Start_Time"
      ],
      "metadata": {
        "colab": {
          "base_uri": "https://localhost:8080/"
        },
        "id": "vEzIB-G-bad8",
        "outputId": "4b628302-a3b0-4c72-fa85-92767aab6e87"
      },
      "id": "vEzIB-G-bad8",
      "execution_count": 20,
      "outputs": [
        {
          "output_type": "execute_result",
          "data": {
            "text/plain": [
              "0        2016-02-08 05:46:00\n",
              "1        2016-02-08 06:07:59\n",
              "2        2016-02-08 06:49:27\n",
              "3        2016-02-08 07:23:34\n",
              "4        2016-02-08 07:39:07\n",
              "                ...         \n",
              "24803    2016-10-16 10:45:48\n",
              "24804    2016-10-16 10:46:18\n",
              "24805    2016-10-16 10:57:17\n",
              "24806    2016-10-16 10:47:44\n",
              "24807    2016-10-16 11:15:03\n",
              "Name: Start_Time, Length: 24808, dtype: object"
            ]
          },
          "metadata": {},
          "execution_count": 20
        }
      ]
    },
    {
      "cell_type": "code",
      "source": [
        "df.Start_Time = pd.to_datetime(df.Start_Time)\n",
        "\n",
        "sns.distplot(df.Start_Time.dt.hour, bins=24, kde=False, norm_hist=True)"
      ],
      "metadata": {
        "colab": {
          "base_uri": "https://localhost:8080/",
          "height": 352
        },
        "id": "RxPrhbwUbb8S",
        "outputId": "c6f4852a-a7ff-4901-ee4c-110579977802"
      },
      "id": "RxPrhbwUbb8S",
      "execution_count": 21,
      "outputs": [
        {
          "output_type": "stream",
          "name": "stderr",
          "text": [
            "/usr/local/lib/python3.7/dist-packages/seaborn/distributions.py:2619: FutureWarning: `distplot` is a deprecated function and will be removed in a future version. Please adapt your code to use either `displot` (a figure-level function with similar flexibility) or `histplot` (an axes-level function for histograms).\n",
            "  warnings.warn(msg, FutureWarning)\n"
          ]
        },
        {
          "output_type": "execute_result",
          "data": {
            "text/plain": [
              "<matplotlib.axes._subplots.AxesSubplot at 0x7fa211ac4050>"
            ]
          },
          "metadata": {},
          "execution_count": 21
        },
        {
          "output_type": "display_data",
          "data": {
            "text/plain": [
              "<Figure size 432x288 with 1 Axes>"
            ],
            "image/png": "[encoded data removed]"
          },
          "metadata": {}
        }
      ]
    },
    {
      "cell_type": "markdown",
      "source": [
        "+ A high percentage of accidents occur between 6 am to 10 am (probably people in a hurry to get to work)\n",
        "+ Next higest percentage is 3 pm to 6 pm."
      ],
      "metadata": {
        "id": "L52Ifo_PdCGU"
      },
      "id": "L52Ifo_PdCGU"
    },
    {
      "cell_type": "code",
      "source": [
        "sns.distplot(df.Start_Time.dt.dayofweek, bins=7, kde=False, norm_hist=True)"
      ],
      "metadata": {
        "colab": {
          "base_uri": "https://localhost:8080/",
          "height": 352
        },
        "id": "8Lmtu_endvkk",
        "outputId": "c8ab7a27-c41c-454c-9b22-274eb8e13f1e"
      },
      "id": "8Lmtu_endvkk",
      "execution_count": 22,
      "outputs": [
        {
          "output_type": "stream",
          "name": "stderr",
          "text": [
            "/usr/local/lib/python3.7/dist-packages/seaborn/distributions.py:2619: FutureWarning: `distplot` is a deprecated function and will be removed in a future version. Please adapt your code to use either `displot` (a figure-level function with similar flexibility) or `histplot` (an axes-level function for histograms).\n",
            "  warnings.warn(msg, FutureWarning)\n"
          ]
        },
        {
          "output_type": "execute_result",
          "data": {
            "text/plain": [
              "<matplotlib.axes._subplots.AxesSubplot at 0x7fa2117e3c90>"
            ]
          },
          "metadata": {},
          "execution_count": 22
        },
        {
          "output_type": "display_data",
          "data": {
            "text/plain": [
              "<Figure size 432x288 with 1 Axes>"
            ],
            "image/png": "[encoded data removed]"
          },
          "metadata": {}
        }
      ]
    },
    {
      "cell_type": "markdown",
      "source": [
        "Is the distribution of accidents by hour the same on weekends as on weekdays."
      ],
      "metadata": {
        "id": "SidIaaeRd9v2"
      },
      "id": "SidIaaeRd9v2"
    },
    {
      "cell_type": "code",
      "source": [
        "sundays_start_time = df.Start_Time[df.Start_Time.dt.dayofweek == 6]\n",
        "sns.distplot(sundays_start_time.dt.hour, bins=24, kde=False, norm_hist=True)"
      ],
      "metadata": {
        "colab": {
          "base_uri": "https://localhost:8080/",
          "height": 352
        },
        "id": "aRodKITkdxbY",
        "outputId": "edc3ef27-e04b-4414-e1a2-6c1ad2bc82dd"
      },
      "id": "aRodKITkdxbY",
      "execution_count": 23,
      "outputs": [
        {
          "output_type": "stream",
          "name": "stderr",
          "text": [
            "/usr/local/lib/python3.7/dist-packages/seaborn/distributions.py:2619: FutureWarning: `distplot` is a deprecated function and will be removed in a future version. Please adapt your code to use either `displot` (a figure-level function with similar flexibility) or `histplot` (an axes-level function for histograms).\n",
            "  warnings.warn(msg, FutureWarning)\n"
          ]
        },
        {
          "output_type": "execute_result",
          "data": {
            "text/plain": [
              "<matplotlib.axes._subplots.AxesSubplot at 0x7fa2117c6610>"
            ]
          },
          "metadata": {},
          "execution_count": 23
        },
        {
          "output_type": "display_data",
          "data": {
            "text/plain": [
              "<Figure size 432x288 with 1 Axes>"
            ],
            "image/png": "[encoded data removed]"
          },
          "metadata": {}
        }
      ]
    },
    {
      "cell_type": "code",
      "source": [
        "monday_start_time = df.Start_Time[df.Start_Time.dt.dayofweek == 0]\n",
        "sns.distplot(monday_start_time.dt.hour, bins=24, kde=False, norm_hist=True)"
      ],
      "metadata": {
        "colab": {
          "base_uri": "https://localhost:8080/",
          "height": 352
        },
        "id": "Q8He7256dzgL",
        "outputId": "3b56dc93-2e46-4005-a2e7-c74daea08295"
      },
      "id": "Q8He7256dzgL",
      "execution_count": 24,
      "outputs": [
        {
          "output_type": "stream",
          "name": "stderr",
          "text": [
            "/usr/local/lib/python3.7/dist-packages/seaborn/distributions.py:2619: FutureWarning: `distplot` is a deprecated function and will be removed in a future version. Please adapt your code to use either `displot` (a figure-level function with similar flexibility) or `histplot` (an axes-level function for histograms).\n",
            "  warnings.warn(msg, FutureWarning)\n"
          ]
        },
        {
          "output_type": "execute_result",
          "data": {
            "text/plain": [
              "<matplotlib.axes._subplots.AxesSubplot at 0x7fa2116e2f50>"
            ]
          },
          "metadata": {},
          "execution_count": 24
        },
        {
          "output_type": "display_data",
          "data": {
            "text/plain": [
              "<Figure size 432x288 with 1 Axes>"
            ],
            "image/png": "[encoded data removed]"
          },
          "metadata": {}
        }
      ]
    },
    {
      "cell_type": "code",
      "source": [
        "df.columns"
      ],
      "metadata": {
        "colab": {
          "base_uri": "https://localhost:8080/"
        },
        "id": "O1SU5RUAeTQ9",
        "outputId": "f3c8c9e2-ca8e-4051-8f25-a4c60763fa72"
      },
      "id": "O1SU5RUAeTQ9",
      "execution_count": 25,
      "outputs": [
        {
          "output_type": "execute_result",
          "data": {
            "text/plain": [
              "Index(['ID', 'Source', 'TMC', 'Severity', 'Start_Time', 'End_Time',\n",
              "       'Start_Lat', 'Start_Lng', 'End_Lat', 'End_Lng', 'Distance(mi)',\n",
              "       'Description', 'Number', 'Street', 'Side', 'City', 'County', 'State',\n",
              "       'Zipcode', 'Country', 'Timezone', 'Airport_Code', 'Weather_Timestamp',\n",
              "       'Temperature(F)', 'Wind_Chill(F)', 'Humidity(%)', 'Pressure(in)',\n",
              "       'Visibility(mi)', 'Wind_Direction', 'Wind_Speed(mph)',\n",
              "       'Precipitation(in)', 'Weather_Condition', 'Amenity', 'Bump', 'Crossing',\n",
              "       'Give_Way', 'Junction', 'No_Exit', 'Railway', 'Roundabout', 'Station',\n",
              "       'Stop', 'Traffic_Calming', 'Traffic_Signal', 'Turning_Loop',\n",
              "       'Sunrise_Sunset', 'Civil_Twilight', 'Nautical_Twilight',\n",
              "       'Astronomical_Twilight'],\n",
              "      dtype='object')"
            ]
          },
          "metadata": {},
          "execution_count": 25
        }
      ]
    },
    {
      "cell_type": "markdown",
      "source": [
        "On Sundays, the peak occurs between 10 am and 3 pm, unlike weekdays"
      ],
      "metadata": {
        "id": "dibIsneHeCE3"
      },
      "id": "dibIsneHeCE3"
    },
    {
      "cell_type": "code",
      "source": [
        "df_2019 = df[df.Start_Time.dt.year == 2019]\n",
        "df_2019_Bing = df_2019[df_2019.Source == 'MapQuest']\n",
        "sns.distplot(df_2019_Bing.Start_Time.dt.month, bins=12, kde=False, norm_hist=True)"
      ],
      "metadata": {
        "colab": {
          "base_uri": "https://localhost:8080/",
          "height": 456
        },
        "id": "P4MRn66bd1k3",
        "outputId": "494debb0-dd6a-47f3-a632-f3982d1f092a"
      },
      "id": "P4MRn66bd1k3",
      "execution_count": 26,
      "outputs": [
        {
          "output_type": "stream",
          "name": "stderr",
          "text": [
            "/usr/local/lib/python3.7/dist-packages/seaborn/distributions.py:2619: FutureWarning: `distplot` is a deprecated function and will be removed in a future version. Please adapt your code to use either `displot` (a figure-level function with similar flexibility) or `histplot` (an axes-level function for histograms).\n",
            "  warnings.warn(msg, FutureWarning)\n",
            "/usr/local/lib/python3.7/dist-packages/seaborn/distributions.py:2657: RuntimeWarning: Mean of empty slice.\n",
            "  line, = ax.plot(a.mean(), 0)\n",
            "/usr/local/lib/python3.7/dist-packages/numpy/core/_methods.py:189: RuntimeWarning: invalid value encountered in double_scalars\n",
            "  ret = ret.dtype.type(ret / rcount)\n",
            "/usr/local/lib/python3.7/dist-packages/numpy/lib/histograms.py:906: RuntimeWarning: invalid value encountered in true_divide\n",
            "  return n/db/n.sum(), bin_edges\n"
          ]
        },
        {
          "output_type": "execute_result",
          "data": {
            "text/plain": [
              "<matplotlib.axes._subplots.AxesSubplot at 0x7fa21170a690>"
            ]
          },
          "metadata": {},
          "execution_count": 26
        },
        {
          "output_type": "display_data",
          "data": {
            "text/plain": [
              "<Figure size 432x288 with 1 Axes>"
            ],
            "image/png": "[encoded data removed]"
          },
          "metadata": {}
        }
      ]
    },
    {
      "cell_type": "code",
      "source": [
        ""
      ],
      "metadata": {
        "id": "tz2nJbaud3UJ"
      },
      "id": "tz2nJbaud3UJ",
      "execution_count": 26,
      "outputs": []
    }
  ],
  "metadata": {
    "kernelspec": {
      "display_name": "Python 3 (ipykernel)",
      "language": "python",
      "name": "python3"
    },
    "language_info": {
      "codemirror_mode": {
        "name": "ipython",
        "version": 3
      },
      "file_extension": ".py",
      "mimetype": "text/x-python",
      "name": "python",
      "nbconvert_exporter": "python",
      "pygments_lexer": "ipython3",
      "version": "3.10.5"
    },
    "colab": {
      "name": "US-Accidents-EDA.ipynb",
      "provenance": [],
      "collapsed_sections": []
    }
  },
  "nbformat": 4,
  "nbformat_minor": 5
}